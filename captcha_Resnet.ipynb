{
 "cells": [
  {
   "cell_type": "code",
   "execution_count": 1,
   "metadata": {},
   "outputs": [],
   "source": [
    "import os, cv2, itertools\n",
    "import numpy as np\n",
    "import pandas as pd\n",
    "from matplotlib import pyplot as plt\n",
    "from IPython import display\n",
    "from sklearn.utils import *"
   ]
  },
  {
   "cell_type": "code",
   "execution_count": 2,
   "metadata": {},
   "outputs": [
    {
     "name": "stderr",
     "output_type": "stream",
     "text": [
      "2022-04-13 17:07:54.231757: W tensorflow/stream_executor/platform/default/dso_loader.cc:64] Could not load dynamic library 'libcudart.so.11.0'; dlerror: libcudart.so.11.0: cannot open shared object file: No such file or directory; LD_LIBRARY_PATH: /home/gagandeep/.local/lib/python3.8/site-packages/cv2/../../lib64:/usr/local/lib:\n",
      "2022-04-13 17:07:54.231780: I tensorflow/stream_executor/cuda/cudart_stub.cc:29] Ignore above cudart dlerror if you do not have a GPU set up on your machine.\n"
     ]
    }
   ],
   "source": [
    "import torch\n",
    "import torchvision\n",
    "import torchvision.transforms as transforms\n",
    "import torch.nn.functional as F\n",
    "import matplotlib.pyplot as plt\n",
    "import matplotlib\n",
    "import torch.nn as nn\n",
    "import torch.optim as optim\n",
    "from tqdm.notebook import tqdm\n",
    "import math\n",
    "from keras.layers import Dense, Dropout, Activation, Flatten\n",
    "from torch.utils.data import TensorDataset, DataLoader\n"
   ]
  },
  {
   "cell_type": "code",
   "execution_count": 3,
   "metadata": {},
   "outputs": [],
   "source": [
    "import sklearn\n",
    "from sklearn.model_selection import train_test_split"
   ]
  },
  {
   "cell_type": "code",
   "execution_count": 4,
   "metadata": {},
   "outputs": [],
   "source": [
    "TRAIN_DIR = './archive/level_5/'\n",
    "ROWS = 32\n",
    "COLS = 32\n",
    "CHANNELS = 3\n",
    "NUM_OF_LETTERS = 5"
   ]
  },
  {
   "cell_type": "code",
   "execution_count": 5,
   "metadata": {},
   "outputs": [],
   "source": [
    "def generate_y():\n",
    "    filename = './archive/labels_level_5.csv'\n",
    "    df = pd.read_csv(filename)\n",
    "    y = []\n",
    "    y_digits = []\n",
    "    for i in range(df.shape[0]):\n",
    "        label = np.zeros((NUM_OF_LETTERS, 10))\n",
    "        digits = [int(d) for d in str(df.iloc[i, 1])]\n",
    "\n",
    "        for j in range(NUM_OF_LETTERS):\n",
    "            label[j, digits[j]] = 1\n",
    "        \n",
    "        y.append(label)\n",
    "        y_digits.append(digits)\n",
    "    \n",
    "    return y,y_digits"
   ]
  },
  {
   "cell_type": "code",
   "execution_count": 6,
   "metadata": {},
   "outputs": [],
   "source": [
    "train_images = [TRAIN_DIR+i for i in sorted(os.listdir(TRAIN_DIR))]"
   ]
  },
  {
   "cell_type": "code",
   "execution_count": 7,
   "metadata": {},
   "outputs": [
    {
     "name": "stdout",
     "output_type": "stream",
     "text": [
      "10000\n"
     ]
    },
    {
     "data": {
      "text/plain": [
       "'./archive/level_5/file_1.png'"
      ]
     },
     "execution_count": 7,
     "metadata": {},
     "output_type": "execute_result"
    }
   ],
   "source": [
    "print(len(train_images))\n",
    "train_images[0]"
   ]
  },
  {
   "cell_type": "code",
   "execution_count": 8,
   "metadata": {},
   "outputs": [],
   "source": [
    "def prep_data(images):\n",
    "    X = []\n",
    "    m = len(images)\n",
    "    n_x = CHANNELS * ROWS * COLS\n",
    "    k = 0\n",
    "    for i in images:\n",
    "        img = cv2.imread(i)\n",
    "        #img = cv2.cvtColor(img, cv2.COLOR_BGR2GRAY)\n",
    "        img = cv2.resize(img, (32, 32), interpolation=cv2.INTER_AREA)\n",
    "        img = np.transpose(img, (2, 0, 1))\n",
    "        #img = cv2.resize(img, (32, 32))\n",
    "        #img = cv2.resize(img, (int(135/2), int(50/2)), interpolation=cv2.INTER_AREA)\n",
    "        #img = np.reshape(img, (img.shape[0], img.shape[1], 3))\n",
    "        \n",
    "        #img = np.reshape(img, (1,img.shape[0], img.shape[1])) / 255\n",
    "        X.append(img)\n",
    "    return X"
   ]
  },
  {
   "cell_type": "code",
   "execution_count": 9,
   "metadata": {},
   "outputs": [],
   "source": [
    "X_train = prep_data(train_images)"
   ]
  },
  {
   "cell_type": "code",
   "execution_count": 10,
   "metadata": {},
   "outputs": [
    {
     "data": {
      "text/plain": [
       "list"
      ]
     },
     "execution_count": 10,
     "metadata": {},
     "output_type": "execute_result"
    }
   ],
   "source": [
    "type(X_train)"
   ]
  },
  {
   "cell_type": "code",
   "execution_count": 11,
   "metadata": {},
   "outputs": [
    {
     "data": {
      "text/plain": [
       "(3, 32, 32)"
      ]
     },
     "execution_count": 11,
     "metadata": {},
     "output_type": "execute_result"
    }
   ],
   "source": [
    "X_train[0].shape"
   ]
  },
  {
   "cell_type": "code",
   "execution_count": 12,
   "metadata": {},
   "outputs": [],
   "source": [
    "y_train, y_digits = generate_y()"
   ]
  },
  {
   "cell_type": "code",
   "execution_count": 13,
   "metadata": {},
   "outputs": [
    {
     "data": {
      "text/plain": [
       "[7, 4, 9, 1, 9]"
      ]
     },
     "execution_count": 13,
     "metadata": {},
     "output_type": "execute_result"
    }
   ],
   "source": [
    "y_digits[1]"
   ]
  },
  {
   "cell_type": "code",
   "execution_count": 14,
   "metadata": {},
   "outputs": [
    {
     "data": {
      "text/plain": [
       "array([[0., 0., 0., 0., 0., 0., 0., 1., 0., 0.],\n",
       "       [0., 0., 0., 0., 1., 0., 0., 0., 0., 0.],\n",
       "       [0., 0., 0., 0., 0., 0., 0., 0., 0., 1.],\n",
       "       [0., 1., 0., 0., 0., 0., 0., 0., 0., 0.],\n",
       "       [0., 0., 0., 0., 0., 0., 0., 0., 0., 1.]])"
      ]
     },
     "execution_count": 14,
     "metadata": {},
     "output_type": "execute_result"
    }
   ],
   "source": [
    "y_train[1]"
   ]
  },
  {
   "cell_type": "code",
   "execution_count": 15,
   "metadata": {},
   "outputs": [
    {
     "data": {
      "text/plain": [
       "(5, 10)"
      ]
     },
     "execution_count": 15,
     "metadata": {},
     "output_type": "execute_result"
    }
   ],
   "source": [
    "y_train[0].shape"
   ]
  },
  {
   "cell_type": "code",
   "execution_count": 16,
   "metadata": {},
   "outputs": [],
   "source": [
    "X_train, X_test, y_train, y_test = train_test_split(X_train, y_train, test_size=0.2, random_state=1)"
   ]
  },
  {
   "cell_type": "code",
   "execution_count": 17,
   "metadata": {},
   "outputs": [
    {
     "data": {
      "text/plain": [
       "(3, 32, 32)"
      ]
     },
     "execution_count": 17,
     "metadata": {},
     "output_type": "execute_result"
    }
   ],
   "source": [
    "X_test[0].shape"
   ]
  },
  {
   "cell_type": "code",
   "execution_count": 18,
   "metadata": {},
   "outputs": [
    {
     "data": {
      "text/plain": [
       "(5, 10)"
      ]
     },
     "execution_count": 18,
     "metadata": {},
     "output_type": "execute_result"
    }
   ],
   "source": [
    "y_test[0].shape"
   ]
  },
  {
   "cell_type": "code",
   "execution_count": 19,
   "metadata": {},
   "outputs": [],
   "source": [
    "# y_train=y_train.reshape(y_train.shape[0],1)\n",
    "# y_train=normalize(y_train,norm='l2')\n",
    "# y_test=y_test.reshape(y_test.shape[0],1)\n",
    "# y_test=normalize(y_test,norm='l2')"
   ]
  },
  {
   "cell_type": "code",
   "execution_count": 20,
   "metadata": {},
   "outputs": [
    {
     "name": "stderr",
     "output_type": "stream",
     "text": [
      "/tmp/ipykernel_2355720/1270877923.py:1: UserWarning: Creating a tensor from a list of numpy.ndarrays is extremely slow. Please consider converting the list to a single numpy.ndarray with numpy.array() before converting to a tensor. (Triggered internally at  ../torch/csrc/utils/tensor_new.cpp:201.)\n",
      "  X_train = torch.Tensor(X_train) # transform to torch tensor\n"
     ]
    }
   ],
   "source": [
    "X_train = torch.Tensor(X_train) # transform to torch tensor\n",
    "# X_train = tf.convert_to_tensor(X_train, dtype=tf.int64)\n",
    "y_train = torch.Tensor(y_train)\n",
    "# y_train = tf.convert_to_tensor(y_train, dtype=tf.int64)\n",
    "\n",
    "# X_train = Variable(torch.from_numpy(X_train)).type(torch.LongTensor)\n",
    "# y_train = Variable(torch.from_numpy(y_train)).type(torch.LongTensor)\n",
    "\n",
    "\n",
    "my_dataset = TensorDataset(X_train, y_train) # create your dataset\n",
    "trainloader = DataLoader(my_dataset, batch_size=32)"
   ]
  },
  {
   "cell_type": "code",
   "execution_count": 21,
   "metadata": {},
   "outputs": [
    {
     "data": {
      "text/plain": [
       "torch.Size([8000, 3, 32, 32])"
      ]
     },
     "execution_count": 21,
     "metadata": {},
     "output_type": "execute_result"
    }
   ],
   "source": [
    "X_train.shape"
   ]
  },
  {
   "cell_type": "code",
   "execution_count": 22,
   "metadata": {},
   "outputs": [],
   "source": [
    "X_test = torch.Tensor(X_test) # transform to torch tensor\n",
    "y_test = torch.Tensor(y_test)\n",
    "\n",
    "my_testdataset = TensorDataset(X_test, y_test) # create your datset\n",
    "testloader = DataLoader(my_testdataset, batch_size=32)"
   ]
  },
  {
   "cell_type": "code",
   "execution_count": null,
   "metadata": {},
   "outputs": [],
   "source": []
  },
  {
   "cell_type": "code",
   "execution_count": 23,
   "metadata": {},
   "outputs": [],
   "source": [
    "epochs = 10\n",
    "batch_size = 32\n",
    "learning_rate = 0.01\n",
    "momentum = 0.9\n",
    "log_interval = 10"
   ]
  },
  {
   "cell_type": "markdown",
   "metadata": {},
   "source": [
    "RESNET"
   ]
  },
  {
   "cell_type": "code",
   "execution_count": 24,
   "metadata": {},
   "outputs": [],
   "source": [
    "from parameters import *\n",
    "import torch as t\n",
    "from torch import nn\n",
    "import torch.nn.functional as F\n",
    "import os\n",
    "\n",
    "\n",
    "class ResidualBlock(nn.Module):\n",
    "    def __init__(self, inchannel, outchannel, stride=1):\n",
    "        super().__init__()\n",
    "        self.left = nn.Sequential(\n",
    "            nn.Conv2d(inchannel, outchannel, kernel_size=3, stride=stride, padding=1, bias=False),\n",
    "            nn.BatchNorm2d(outchannel, track_running_stats=True),\n",
    "            nn.ReLU(inplace=True),\n",
    "            nn.Conv2d(outchannel, outchannel, kernel_size=3, stride=1, padding=1, bias=False),\n",
    "            nn.BatchNorm2d(outchannel, track_running_stats=True)\n",
    "        )\n",
    "        self.shortcut = nn.Sequential()\n",
    "        if stride != 1 or inchannel != outchannel:\n",
    "            self.shortcut = nn.Sequential(\n",
    "                nn.Conv2d(inchannel, outchannel, kernel_size=1, stride=stride, bias=False),\n",
    "                nn.BatchNorm2d(outchannel, track_running_stats=True)\n",
    "            )\n",
    "\n",
    "    def forward(self, x):\n",
    "        out = self.left(x)\n",
    "        out += self.shortcut(x)\n",
    "        out = F.relu(out)\n",
    "        return out"
   ]
  },
  {
   "cell_type": "code",
   "execution_count": 25,
   "metadata": {},
   "outputs": [],
   "source": [
    "class ResNet(nn.Module):\n",
    "    def __init__(self, ResidualBlock, num_classes=10):\n",
    "        super().__init__()\n",
    "        self.inchannel = 64\n",
    "        self.conv1 = nn.Sequential(\n",
    "            nn.Conv2d(3, 64, kernel_size=3, stride=1, padding=1, bias=False),\n",
    "            nn.BatchNorm2d(64, track_running_stats=True),\n",
    "            nn.ReLU(),\n",
    "        )\n",
    "        self.layer1 = self.make_layer(ResidualBlock, 64, 2, stride=1)\n",
    "        self.layer2 = self.make_layer(ResidualBlock, 128, 2, stride=2)\n",
    "        self.layer3 = self.make_layer(ResidualBlock, 256, 2, stride=2)\n",
    "        self.layer4 = self.make_layer(ResidualBlock, 512, 2, stride=2)\n",
    "        self.layer5 = self.make_layer(ResidualBlock, 1024, 2, stride=2)\n",
    "        \n",
    "        self.fc = nn.Linear(in_features=1024, out_features=50)\n",
    "        self.softmax = nn.Softmax(1)\n",
    "        \n",
    "    def make_layer(self, block, channels, num_blocks, stride):\n",
    "        strides = [stride] + [1] * (num_blocks - 1)\n",
    "        layers = []\n",
    "        for stride in strides:\n",
    "            layers.append(block(self.inchannel, channels, stride))\n",
    "            self.inchannel = channels\n",
    "        return nn.Sequential(*layers)\n",
    "\n",
    "    def forward(self, x):\n",
    "        x = self.conv1(x)  # [3, 32, 32] -> [64, 32, 32]\n",
    "        x = self.layer1(x)  # -> [64, 32, 32] -> [64, 32, 32]\n",
    "        x = self.layer2(x)  # -> [128, 16, 16] -> [128, 16, 16], floor in conv2d\n",
    "        x = self.layer3(x)  # -> [256, 8, 8] -> [256, 8, 8]\n",
    "        x = self.layer4(x)  # -> [512, 4, 4] -> [512, 4, 4]\n",
    "        x = self.layer5(x)  # -> [1024, 2, 2] -> [1024, 2, 2]\n",
    "        x = F.avg_pool2d(x, 2)  # -> [1024, 1, 1]\n",
    "        x = x.view(-1, 1024)  # -> [1, 1024]        \n",
    "        x = self.fc(x)\n",
    "        x = torch.reshape(x,(-1,5,10))\n",
    "        x = self.softmax(x)\n",
    "        return x"
   ]
  },
  {
   "cell_type": "code",
   "execution_count": 26,
   "metadata": {},
   "outputs": [
    {
     "name": "stdout",
     "output_type": "stream",
     "text": [
      "ResNet(\n",
      "  (conv1): Sequential(\n",
      "    (0): Conv2d(3, 64, kernel_size=(3, 3), stride=(1, 1), padding=(1, 1), bias=False)\n",
      "    (1): BatchNorm2d(64, eps=1e-05, momentum=0.1, affine=True, track_running_stats=True)\n",
      "    (2): ReLU()\n",
      "  )\n",
      "  (layer1): Sequential(\n",
      "    (0): ResidualBlock(\n",
      "      (left): Sequential(\n",
      "        (0): Conv2d(64, 64, kernel_size=(3, 3), stride=(1, 1), padding=(1, 1), bias=False)\n",
      "        (1): BatchNorm2d(64, eps=1e-05, momentum=0.1, affine=True, track_running_stats=True)\n",
      "        (2): ReLU(inplace=True)\n",
      "        (3): Conv2d(64, 64, kernel_size=(3, 3), stride=(1, 1), padding=(1, 1), bias=False)\n",
      "        (4): BatchNorm2d(64, eps=1e-05, momentum=0.1, affine=True, track_running_stats=True)\n",
      "      )\n",
      "      (shortcut): Sequential()\n",
      "    )\n",
      "    (1): ResidualBlock(\n",
      "      (left): Sequential(\n",
      "        (0): Conv2d(64, 64, kernel_size=(3, 3), stride=(1, 1), padding=(1, 1), bias=False)\n",
      "        (1): BatchNorm2d(64, eps=1e-05, momentum=0.1, affine=True, track_running_stats=True)\n",
      "        (2): ReLU(inplace=True)\n",
      "        (3): Conv2d(64, 64, kernel_size=(3, 3), stride=(1, 1), padding=(1, 1), bias=False)\n",
      "        (4): BatchNorm2d(64, eps=1e-05, momentum=0.1, affine=True, track_running_stats=True)\n",
      "      )\n",
      "      (shortcut): Sequential()\n",
      "    )\n",
      "  )\n",
      "  (layer2): Sequential(\n",
      "    (0): ResidualBlock(\n",
      "      (left): Sequential(\n",
      "        (0): Conv2d(64, 128, kernel_size=(3, 3), stride=(2, 2), padding=(1, 1), bias=False)\n",
      "        (1): BatchNorm2d(128, eps=1e-05, momentum=0.1, affine=True, track_running_stats=True)\n",
      "        (2): ReLU(inplace=True)\n",
      "        (3): Conv2d(128, 128, kernel_size=(3, 3), stride=(1, 1), padding=(1, 1), bias=False)\n",
      "        (4): BatchNorm2d(128, eps=1e-05, momentum=0.1, affine=True, track_running_stats=True)\n",
      "      )\n",
      "      (shortcut): Sequential(\n",
      "        (0): Conv2d(64, 128, kernel_size=(1, 1), stride=(2, 2), bias=False)\n",
      "        (1): BatchNorm2d(128, eps=1e-05, momentum=0.1, affine=True, track_running_stats=True)\n",
      "      )\n",
      "    )\n",
      "    (1): ResidualBlock(\n",
      "      (left): Sequential(\n",
      "        (0): Conv2d(128, 128, kernel_size=(3, 3), stride=(1, 1), padding=(1, 1), bias=False)\n",
      "        (1): BatchNorm2d(128, eps=1e-05, momentum=0.1, affine=True, track_running_stats=True)\n",
      "        (2): ReLU(inplace=True)\n",
      "        (3): Conv2d(128, 128, kernel_size=(3, 3), stride=(1, 1), padding=(1, 1), bias=False)\n",
      "        (4): BatchNorm2d(128, eps=1e-05, momentum=0.1, affine=True, track_running_stats=True)\n",
      "      )\n",
      "      (shortcut): Sequential()\n",
      "    )\n",
      "  )\n",
      "  (layer3): Sequential(\n",
      "    (0): ResidualBlock(\n",
      "      (left): Sequential(\n",
      "        (0): Conv2d(128, 256, kernel_size=(3, 3), stride=(2, 2), padding=(1, 1), bias=False)\n",
      "        (1): BatchNorm2d(256, eps=1e-05, momentum=0.1, affine=True, track_running_stats=True)\n",
      "        (2): ReLU(inplace=True)\n",
      "        (3): Conv2d(256, 256, kernel_size=(3, 3), stride=(1, 1), padding=(1, 1), bias=False)\n",
      "        (4): BatchNorm2d(256, eps=1e-05, momentum=0.1, affine=True, track_running_stats=True)\n",
      "      )\n",
      "      (shortcut): Sequential(\n",
      "        (0): Conv2d(128, 256, kernel_size=(1, 1), stride=(2, 2), bias=False)\n",
      "        (1): BatchNorm2d(256, eps=1e-05, momentum=0.1, affine=True, track_running_stats=True)\n",
      "      )\n",
      "    )\n",
      "    (1): ResidualBlock(\n",
      "      (left): Sequential(\n",
      "        (0): Conv2d(256, 256, kernel_size=(3, 3), stride=(1, 1), padding=(1, 1), bias=False)\n",
      "        (1): BatchNorm2d(256, eps=1e-05, momentum=0.1, affine=True, track_running_stats=True)\n",
      "        (2): ReLU(inplace=True)\n",
      "        (3): Conv2d(256, 256, kernel_size=(3, 3), stride=(1, 1), padding=(1, 1), bias=False)\n",
      "        (4): BatchNorm2d(256, eps=1e-05, momentum=0.1, affine=True, track_running_stats=True)\n",
      "      )\n",
      "      (shortcut): Sequential()\n",
      "    )\n",
      "  )\n",
      "  (layer4): Sequential(\n",
      "    (0): ResidualBlock(\n",
      "      (left): Sequential(\n",
      "        (0): Conv2d(256, 512, kernel_size=(3, 3), stride=(2, 2), padding=(1, 1), bias=False)\n",
      "        (1): BatchNorm2d(512, eps=1e-05, momentum=0.1, affine=True, track_running_stats=True)\n",
      "        (2): ReLU(inplace=True)\n",
      "        (3): Conv2d(512, 512, kernel_size=(3, 3), stride=(1, 1), padding=(1, 1), bias=False)\n",
      "        (4): BatchNorm2d(512, eps=1e-05, momentum=0.1, affine=True, track_running_stats=True)\n",
      "      )\n",
      "      (shortcut): Sequential(\n",
      "        (0): Conv2d(256, 512, kernel_size=(1, 1), stride=(2, 2), bias=False)\n",
      "        (1): BatchNorm2d(512, eps=1e-05, momentum=0.1, affine=True, track_running_stats=True)\n",
      "      )\n",
      "    )\n",
      "    (1): ResidualBlock(\n",
      "      (left): Sequential(\n",
      "        (0): Conv2d(512, 512, kernel_size=(3, 3), stride=(1, 1), padding=(1, 1), bias=False)\n",
      "        (1): BatchNorm2d(512, eps=1e-05, momentum=0.1, affine=True, track_running_stats=True)\n",
      "        (2): ReLU(inplace=True)\n",
      "        (3): Conv2d(512, 512, kernel_size=(3, 3), stride=(1, 1), padding=(1, 1), bias=False)\n",
      "        (4): BatchNorm2d(512, eps=1e-05, momentum=0.1, affine=True, track_running_stats=True)\n",
      "      )\n",
      "      (shortcut): Sequential()\n",
      "    )\n",
      "  )\n",
      "  (layer5): Sequential(\n",
      "    (0): ResidualBlock(\n",
      "      (left): Sequential(\n",
      "        (0): Conv2d(512, 1024, kernel_size=(3, 3), stride=(2, 2), padding=(1, 1), bias=False)\n",
      "        (1): BatchNorm2d(1024, eps=1e-05, momentum=0.1, affine=True, track_running_stats=True)\n",
      "        (2): ReLU(inplace=True)\n",
      "        (3): Conv2d(1024, 1024, kernel_size=(3, 3), stride=(1, 1), padding=(1, 1), bias=False)\n",
      "        (4): BatchNorm2d(1024, eps=1e-05, momentum=0.1, affine=True, track_running_stats=True)\n",
      "      )\n",
      "      (shortcut): Sequential(\n",
      "        (0): Conv2d(512, 1024, kernel_size=(1, 1), stride=(2, 2), bias=False)\n",
      "        (1): BatchNorm2d(1024, eps=1e-05, momentum=0.1, affine=True, track_running_stats=True)\n",
      "      )\n",
      "    )\n",
      "    (1): ResidualBlock(\n",
      "      (left): Sequential(\n",
      "        (0): Conv2d(1024, 1024, kernel_size=(3, 3), stride=(1, 1), padding=(1, 1), bias=False)\n",
      "        (1): BatchNorm2d(1024, eps=1e-05, momentum=0.1, affine=True, track_running_stats=True)\n",
      "        (2): ReLU(inplace=True)\n",
      "        (3): Conv2d(1024, 1024, kernel_size=(3, 3), stride=(1, 1), padding=(1, 1), bias=False)\n",
      "        (4): BatchNorm2d(1024, eps=1e-05, momentum=0.1, affine=True, track_running_stats=True)\n",
      "      )\n",
      "      (shortcut): Sequential()\n",
      "    )\n",
      "  )\n",
      "  (fc): Linear(in_features=1024, out_features=50, bias=True)\n",
      "  (softmax): Softmax(dim=1)\n",
      ")\n"
     ]
    }
   ],
   "source": [
    "net = ResNet(ResidualBlock)\n",
    "print(net)"
   ]
  },
  {
   "cell_type": "code",
   "execution_count": 27,
   "metadata": {},
   "outputs": [],
   "source": [
    "# the loss function\n",
    "criterion = nn.CrossEntropyLoss(reduction='none')\n",
    "# the optimizer\n",
    "optimizer = optim.SGD(net.parameters(), lr=0.01, momentum=0.9)"
   ]
  },
  {
   "cell_type": "code",
   "execution_count": 28,
   "metadata": {},
   "outputs": [],
   "source": [
    "def train(model, trainloader, optimizer, criterion):\n",
    "    model.train()\n",
    "    train_running_loss = 0.0\n",
    "    train_running_correct = 0\n",
    "    counter = 0\n",
    "    y_decoded=[]\n",
    "    y_predicted=[]\n",
    "    total_acc = 0\n",
    "    acc_in_img = [0] * 5\n",
    "    \n",
    "    for i, data in tqdm(enumerate(trainloader), total=len(trainloader),position=0, leave=True):\n",
    "        counter += 1\n",
    "        image, labels = data\n",
    "        optimizer.zero_grad()\n",
    "        # forward pass\n",
    "        outputs = model(image)\n",
    "\n",
    "        y_decoded = []\n",
    "        for i,x in enumerate(labels):\n",
    "            _, code = torch.max(x.data, 1) \n",
    "            y_decoded.append(code)\n",
    "\n",
    "        # calculate the loss\n",
    "        outputs_loss=torch.reshape(outputs,(-1,10,5))\n",
    "        labels_loss=torch.reshape(labels,(-1,10,5))\n",
    "        \n",
    "        loss = criterion(outputs_loss, labels_loss)\n",
    "\n",
    "        loss=loss.mean(dim=1)\n",
    "\n",
    "        loss=loss.mean(dim=0)   \n",
    "        \n",
    "        train_running_loss += loss.item()\n",
    "        \n",
    "        y_predicted = []  \n",
    "        # calculate the accuracy\n",
    "        for i,x in enumerate(outputs):\n",
    "            _, code = torch.max(x.data, 1) \n",
    "            y_predicted.append(code)\n",
    "        \n",
    "        for i, j in zip(y_predicted,y_decoded):\n",
    "            \n",
    "            if (i==j).sum().item() == 5 :\n",
    "                total_acc += 1\n",
    "#                 print(\"correctly classified image\", i, j)\n",
    "                \n",
    "            for z, (preds, labels) in enumerate(zip(i, j)):\n",
    "                if preds == labels:\n",
    "                    acc_in_img[z] += 1\n",
    "           \n",
    "        loss.backward()\n",
    "        \n",
    "        #update the grad values\n",
    "        optimizer.step()\n",
    "\n",
    "    epoch_loss = train_running_loss / counter\n",
    "    epoch_acc = 100. * (total_acc / len(trainloader.dataset))\n",
    "    for i in range(5):\n",
    "        acc_in_img[i] = acc_in_img[i]/ len(trainloader.dataset)\n",
    "        print(\"digit \" + str(i) + \" accuracy: \" + str(acc_in_img[i]))\n",
    "    return epoch_loss, epoch_acc, acc_in_img"
   ]
  },
  {
   "cell_type": "code",
   "execution_count": 29,
   "metadata": {},
   "outputs": [],
   "source": [
    "def validate(model, testloader, criterion):\n",
    "    model.eval()\n",
    "    class_correct = list(0. for i in range(10))\n",
    "    class_total = list(0. for i in range(10))\n",
    "    print('Validation')\n",
    "    valid_running_loss = 0.0\n",
    "    valid_running_correct = 0\n",
    "    counter = 0\n",
    "    y_decoded=[]\n",
    "    y_predicted=[]\n",
    "    test_acc_in_img=[0]*5\n",
    "    total_acc = 0\n",
    "    \n",
    "    with torch.no_grad():\n",
    "        for i, data in tqdm(enumerate(testloader), total=len(testloader)):\n",
    "            counter += 1   \n",
    "            image, labels = data\n",
    "            # forward pass\n",
    "            outputs = model(image)\n",
    "            y_decoded=[]\n",
    "            for i,x in enumerate(labels):\n",
    "                _, code = torch.max(x.data, 1) \n",
    "                y_decoded.append(code)              \n",
    "                \n",
    "            # calculate the loss\n",
    "            outputs_loss=torch.reshape(outputs,(-1,10,5))\n",
    "            labels_loss=torch.reshape(labels,(-1,10,5))\n",
    "\n",
    "            loss = criterion(outputs_loss, labels_loss)\n",
    "            loss=loss.mean(dim=1)\n",
    "\n",
    "            loss=loss.mean(dim=0)   \n",
    "\n",
    "            valid_running_loss += loss.item()\n",
    "            # calculate the accuracy for each class\n",
    "            y_predicted=[]\n",
    "            for i,x in enumerate(outputs):\n",
    "                _, code = torch.max(x.data, 1) \n",
    "                y_predicted.append(code)\n",
    "        \n",
    "            for i, j in zip(y_predicted,y_decoded):\n",
    "\n",
    "                if (i==j).sum().item() == 5 :\n",
    "                    total_acc += 1\n",
    "#                     print(\"correctly classified image\", i, j)\n",
    "                for z, (preds, labels) in enumerate(zip(i, j)):\n",
    "                    if preds == labels:\n",
    "                        test_acc_in_img[z] += 1\n",
    "        \n",
    "    epoch_loss = valid_running_loss / counter\n",
    "    epoch_acc = 100. * (total_acc / len(testloader.dataset))\n",
    "    for i in range(5):\n",
    "        test_acc_in_img[i] = test_acc_in_img[i] / len(testloader.dataset)\n",
    "        print(\"digit \" + str(i) + \" accuracy: \" + str(test_acc_in_img[i]))\n",
    "    \n",
    "    return epoch_loss, epoch_acc , test_acc_in_img"
   ]
  },
  {
   "cell_type": "code",
   "execution_count": 30,
   "metadata": {},
   "outputs": [
    {
     "name": "stdout",
     "output_type": "stream",
     "text": [
      "Epoch 1 of 10\n"
     ]
    },
    {
     "data": {
      "application/vnd.jupyter.widget-view+json": {
       "model_id": "0f2b18bf9ddd40baa9d9caf9368a99b0",
       "version_major": 2,
       "version_minor": 0
      },
      "text/plain": [
       "  0%|          | 0/250 [00:00<?, ?it/s]"
      ]
     },
     "metadata": {},
     "output_type": "display_data"
    },
    {
     "name": "stdout",
     "output_type": "stream",
     "text": [
      "digit 0 accuracy: 0.110625\n",
      "digit 1 accuracy: 0.1\n",
      "digit 2 accuracy: 0.100625\n",
      "digit 3 accuracy: 0.0975\n",
      "digit 4 accuracy: 0.099625\n",
      "Validation\n"
     ]
    },
    {
     "data": {
      "application/vnd.jupyter.widget-view+json": {
       "model_id": "4ecbd0559dc54f7688884e9b3b69325e",
       "version_major": 2,
       "version_minor": 0
      },
      "text/plain": [
       "  0%|          | 0/63 [00:00<?, ?it/s]"
      ]
     },
     "metadata": {},
     "output_type": "display_data"
    },
    {
     "name": "stdout",
     "output_type": "stream",
     "text": [
      "digit 0 accuracy: 0.108\n",
      "digit 1 accuracy: 0.1035\n",
      "digit 2 accuracy: 0.0975\n",
      "digit 3 accuracy: 0.1025\n",
      "digit 4 accuracy: 0.099\n",
      "\n",
      "\n",
      "Training loss: 2.304, Training acc: 0.000\n",
      "Validation loss: 2.306, Validation acc: 0.000\n",
      "------------------------------------------------------------\n",
      "Epoch 2 of 10\n"
     ]
    },
    {
     "data": {
      "application/vnd.jupyter.widget-view+json": {
       "model_id": "cd3412d1653e453f99926837316f406d",
       "version_major": 2,
       "version_minor": 0
      },
      "text/plain": [
       "  0%|          | 0/250 [00:00<?, ?it/s]"
      ]
     },
     "metadata": {},
     "output_type": "display_data"
    },
    {
     "name": "stdout",
     "output_type": "stream",
     "text": [
      "digit 0 accuracy: 0.128\n",
      "digit 1 accuracy: 0.113625\n",
      "digit 2 accuracy: 0.11175\n",
      "digit 3 accuracy: 0.110375\n",
      "digit 4 accuracy: 0.115\n",
      "Validation\n"
     ]
    },
    {
     "data": {
      "application/vnd.jupyter.widget-view+json": {
       "model_id": "3398c2039a0e4f3c8abe02b8ed64dae0",
       "version_major": 2,
       "version_minor": 0
      },
      "text/plain": [
       "  0%|          | 0/63 [00:00<?, ?it/s]"
      ]
     },
     "metadata": {},
     "output_type": "display_data"
    },
    {
     "name": "stdout",
     "output_type": "stream",
     "text": [
      "digit 0 accuracy: 0.106\n",
      "digit 1 accuracy: 0.114\n",
      "digit 2 accuracy: 0.099\n",
      "digit 3 accuracy: 0.091\n",
      "digit 4 accuracy: 0.1015\n",
      "\n",
      "\n",
      "Training loss: 2.298, Training acc: 0.000\n",
      "Validation loss: 2.308, Validation acc: 0.000\n",
      "------------------------------------------------------------\n",
      "Epoch 3 of 10\n"
     ]
    },
    {
     "data": {
      "application/vnd.jupyter.widget-view+json": {
       "model_id": "d5542ba6e9b44dcb868aaca8a91ea3db",
       "version_major": 2,
       "version_minor": 0
      },
      "text/plain": [
       "  0%|          | 0/250 [00:00<?, ?it/s]"
      ]
     },
     "metadata": {},
     "output_type": "display_data"
    },
    {
     "name": "stdout",
     "output_type": "stream",
     "text": [
      "digit 0 accuracy: 0.161125\n",
      "digit 1 accuracy: 0.130375\n",
      "digit 2 accuracy: 0.139375\n",
      "digit 3 accuracy: 0.14075\n",
      "digit 4 accuracy: 0.13425\n",
      "Validation\n"
     ]
    },
    {
     "data": {
      "application/vnd.jupyter.widget-view+json": {
       "model_id": "cd2f5124d73746ba9bddb2abf38b51f0",
       "version_major": 2,
       "version_minor": 0
      },
      "text/plain": [
       "  0%|          | 0/63 [00:00<?, ?it/s]"
      ]
     },
     "metadata": {},
     "output_type": "display_data"
    },
    {
     "name": "stdout",
     "output_type": "stream",
     "text": [
      "digit 0 accuracy: 0.1055\n",
      "digit 1 accuracy: 0.11\n",
      "digit 2 accuracy: 0.106\n",
      "digit 3 accuracy: 0.1015\n",
      "digit 4 accuracy: 0.095\n",
      "\n",
      "\n",
      "Training loss: 2.283, Training acc: 0.025\n",
      "Validation loss: 2.314, Validation acc: 0.000\n",
      "------------------------------------------------------------\n",
      "Epoch 4 of 10\n"
     ]
    },
    {
     "data": {
      "application/vnd.jupyter.widget-view+json": {
       "model_id": "2404b8c5e0e34534ac477f9a338306b7",
       "version_major": 2,
       "version_minor": 0
      },
      "text/plain": [
       "  0%|          | 0/250 [00:00<?, ?it/s]"
      ]
     },
     "metadata": {},
     "output_type": "display_data"
    },
    {
     "name": "stdout",
     "output_type": "stream",
     "text": [
      "digit 0 accuracy: 0.208\n",
      "digit 1 accuracy: 0.165125\n",
      "digit 2 accuracy: 0.18925\n",
      "digit 3 accuracy: 0.18175\n",
      "digit 4 accuracy: 0.165\n",
      "Validation\n"
     ]
    },
    {
     "data": {
      "application/vnd.jupyter.widget-view+json": {
       "model_id": "c50b6151685f44fab25e70c9ffd127e4",
       "version_major": 2,
       "version_minor": 0
      },
      "text/plain": [
       "  0%|          | 0/63 [00:00<?, ?it/s]"
      ]
     },
     "metadata": {},
     "output_type": "display_data"
    },
    {
     "name": "stdout",
     "output_type": "stream",
     "text": [
      "digit 0 accuracy: 0.1125\n",
      "digit 1 accuracy: 0.103\n",
      "digit 2 accuracy: 0.0955\n",
      "digit 3 accuracy: 0.1\n",
      "digit 4 accuracy: 0.0955\n",
      "\n",
      "\n",
      "Training loss: 2.253, Training acc: 0.037\n",
      "Validation loss: 2.324, Validation acc: 0.000\n",
      "------------------------------------------------------------\n",
      "Epoch 5 of 10\n"
     ]
    },
    {
     "data": {
      "application/vnd.jupyter.widget-view+json": {
       "model_id": "a81a014be6ca4dc48d4229e9c823e57e",
       "version_major": 2,
       "version_minor": 0
      },
      "text/plain": [
       "  0%|          | 0/250 [00:00<?, ?it/s]"
      ]
     },
     "metadata": {},
     "output_type": "display_data"
    },
    {
     "name": "stdout",
     "output_type": "stream",
     "text": [
      "digit 0 accuracy: 0.267375\n",
      "digit 1 accuracy: 0.20125\n",
      "digit 2 accuracy: 0.22875\n",
      "digit 3 accuracy: 0.23375\n",
      "digit 4 accuracy: 0.20925\n",
      "Validation\n"
     ]
    },
    {
     "data": {
      "application/vnd.jupyter.widget-view+json": {
       "model_id": "e40d553451064abeadb09450af3d7d0e",
       "version_major": 2,
       "version_minor": 0
      },
      "text/plain": [
       "  0%|          | 0/63 [00:00<?, ?it/s]"
      ]
     },
     "metadata": {},
     "output_type": "display_data"
    },
    {
     "name": "stdout",
     "output_type": "stream",
     "text": [
      "digit 0 accuracy: 0.1115\n",
      "digit 1 accuracy: 0.1045\n",
      "digit 2 accuracy: 0.1025\n",
      "digit 3 accuracy: 0.0985\n",
      "digit 4 accuracy: 0.091\n",
      "\n",
      "\n",
      "Training loss: 2.208, Training acc: 0.037\n",
      "Validation loss: 2.330, Validation acc: 0.000\n",
      "------------------------------------------------------------\n",
      "Epoch 6 of 10\n"
     ]
    },
    {
     "data": {
      "application/vnd.jupyter.widget-view+json": {
       "model_id": "6cb614048a1d45bebfb291db13d57383",
       "version_major": 2,
       "version_minor": 0
      },
      "text/plain": [
       "  0%|          | 0/250 [00:00<?, ?it/s]"
      ]
     },
     "metadata": {},
     "output_type": "display_data"
    },
    {
     "name": "stdout",
     "output_type": "stream",
     "text": [
      "digit 0 accuracy: 0.32575\n",
      "digit 1 accuracy: 0.245125\n",
      "digit 2 accuracy: 0.284625\n",
      "digit 3 accuracy: 0.276125\n",
      "digit 4 accuracy: 0.2635\n",
      "Validation\n"
     ]
    },
    {
     "data": {
      "application/vnd.jupyter.widget-view+json": {
       "model_id": "c64291d09caf495d9d39e5b9d900e991",
       "version_major": 2,
       "version_minor": 0
      },
      "text/plain": [
       "  0%|          | 0/63 [00:00<?, ?it/s]"
      ]
     },
     "metadata": {},
     "output_type": "display_data"
    },
    {
     "name": "stdout",
     "output_type": "stream",
     "text": [
      "digit 0 accuracy: 0.104\n",
      "digit 1 accuracy: 0.0975\n",
      "digit 2 accuracy: 0.1005\n",
      "digit 3 accuracy: 0.0915\n",
      "digit 4 accuracy: 0.0925\n",
      "\n",
      "\n",
      "Training loss: 2.156, Training acc: 0.125\n",
      "Validation loss: 2.343, Validation acc: 0.000\n",
      "------------------------------------------------------------\n",
      "Epoch 7 of 10\n"
     ]
    },
    {
     "data": {
      "application/vnd.jupyter.widget-view+json": {
       "model_id": "b3ad2a26c2ea4c30835043f6ec8c936c",
       "version_major": 2,
       "version_minor": 0
      },
      "text/plain": [
       "  0%|          | 0/250 [00:00<?, ?it/s]"
      ]
     },
     "metadata": {},
     "output_type": "display_data"
    },
    {
     "name": "stdout",
     "output_type": "stream",
     "text": [
      "digit 0 accuracy: 0.388\n",
      "digit 1 accuracy: 0.288125\n",
      "digit 2 accuracy: 0.332875\n",
      "digit 3 accuracy: 0.331\n",
      "digit 4 accuracy: 0.317375\n",
      "Validation\n"
     ]
    },
    {
     "data": {
      "application/vnd.jupyter.widget-view+json": {
       "model_id": "8121da17a052430cbd7232cc410fc422",
       "version_major": 2,
       "version_minor": 0
      },
      "text/plain": [
       "  0%|          | 0/63 [00:00<?, ?it/s]"
      ]
     },
     "metadata": {},
     "output_type": "display_data"
    },
    {
     "name": "stdout",
     "output_type": "stream",
     "text": [
      "digit 0 accuracy: 0.109\n",
      "digit 1 accuracy: 0.1025\n",
      "digit 2 accuracy: 0.1005\n",
      "digit 3 accuracy: 0.108\n",
      "digit 4 accuracy: 0.0885\n",
      "\n",
      "\n",
      "Training loss: 2.104, Training acc: 0.400\n",
      "Validation loss: 2.342, Validation acc: 0.000\n",
      "------------------------------------------------------------\n",
      "Epoch 8 of 10\n"
     ]
    },
    {
     "data": {
      "application/vnd.jupyter.widget-view+json": {
       "model_id": "96ddf261247a4952bf2b0e314001ee4b",
       "version_major": 2,
       "version_minor": 0
      },
      "text/plain": [
       "  0%|          | 0/250 [00:00<?, ?it/s]"
      ]
     },
     "metadata": {},
     "output_type": "display_data"
    },
    {
     "name": "stdout",
     "output_type": "stream",
     "text": [
      "digit 0 accuracy: 0.43925\n",
      "digit 1 accuracy: 0.339125\n",
      "digit 2 accuracy: 0.38475\n",
      "digit 3 accuracy: 0.389\n",
      "digit 4 accuracy: 0.374375\n",
      "Validation\n"
     ]
    },
    {
     "data": {
      "application/vnd.jupyter.widget-view+json": {
       "model_id": "6ac0d61a5bcb4fff8e675cdf1b4c85ae",
       "version_major": 2,
       "version_minor": 0
      },
      "text/plain": [
       "  0%|          | 0/63 [00:00<?, ?it/s]"
      ]
     },
     "metadata": {},
     "output_type": "display_data"
    },
    {
     "name": "stdout",
     "output_type": "stream",
     "text": [
      "digit 0 accuracy: 0.1145\n",
      "digit 1 accuracy: 0.1025\n",
      "digit 2 accuracy: 0.094\n",
      "digit 3 accuracy: 0.108\n",
      "digit 4 accuracy: 0.1055\n",
      "\n",
      "\n",
      "Training loss: 2.053, Training acc: 0.675\n",
      "Validation loss: 2.346, Validation acc: 0.000\n",
      "------------------------------------------------------------\n",
      "Epoch 9 of 10\n"
     ]
    },
    {
     "data": {
      "application/vnd.jupyter.widget-view+json": {
       "model_id": "a3ed97e222f044b0874b41effeadfc0c",
       "version_major": 2,
       "version_minor": 0
      },
      "text/plain": [
       "  0%|          | 0/250 [00:00<?, ?it/s]"
      ]
     },
     "metadata": {},
     "output_type": "display_data"
    },
    {
     "name": "stdout",
     "output_type": "stream",
     "text": [
      "digit 0 accuracy: 0.493875\n",
      "digit 1 accuracy: 0.406\n",
      "digit 2 accuracy: 0.435\n",
      "digit 3 accuracy: 0.44575\n",
      "digit 4 accuracy: 0.43475\n",
      "Validation\n"
     ]
    },
    {
     "data": {
      "application/vnd.jupyter.widget-view+json": {
       "model_id": "be6444cd05d84e87a37489e34af316c0",
       "version_major": 2,
       "version_minor": 0
      },
      "text/plain": [
       "  0%|          | 0/63 [00:00<?, ?it/s]"
      ]
     },
     "metadata": {},
     "output_type": "display_data"
    },
    {
     "name": "stdout",
     "output_type": "stream",
     "text": [
      "digit 0 accuracy: 0.115\n",
      "digit 1 accuracy: 0.093\n",
      "digit 2 accuracy: 0.1125\n",
      "digit 3 accuracy: 0.104\n",
      "digit 4 accuracy: 0.092\n",
      "\n",
      "\n",
      "Training loss: 2.000, Training acc: 1.137\n",
      "Validation loss: 2.346, Validation acc: 0.000\n",
      "------------------------------------------------------------\n",
      "Epoch 10 of 10\n"
     ]
    },
    {
     "data": {
      "application/vnd.jupyter.widget-view+json": {
       "model_id": "eba1009354c4452bae83c89d8baff5ac",
       "version_major": 2,
       "version_minor": 0
      },
      "text/plain": [
       "  0%|          | 0/250 [00:00<?, ?it/s]"
      ]
     },
     "metadata": {},
     "output_type": "display_data"
    },
    {
     "name": "stdout",
     "output_type": "stream",
     "text": [
      "digit 0 accuracy: 0.553\n",
      "digit 1 accuracy: 0.458375\n",
      "digit 2 accuracy: 0.49625\n",
      "digit 3 accuracy: 0.5035\n",
      "digit 4 accuracy: 0.504\n",
      "Validation\n"
     ]
    },
    {
     "data": {
      "application/vnd.jupyter.widget-view+json": {
       "model_id": "0e0d09a1a84742ca9b73f327b6fcc7b4",
       "version_major": 2,
       "version_minor": 0
      },
      "text/plain": [
       "  0%|          | 0/63 [00:00<?, ?it/s]"
      ]
     },
     "metadata": {},
     "output_type": "display_data"
    },
    {
     "name": "stdout",
     "output_type": "stream",
     "text": [
      "digit 0 accuracy: 0.114\n",
      "digit 1 accuracy: 0.092\n",
      "digit 2 accuracy: 0.11\n",
      "digit 3 accuracy: 0.1105\n",
      "digit 4 accuracy: 0.0885\n",
      "\n",
      "\n",
      "Training loss: 1.947, Training acc: 2.575\n",
      "Validation loss: 2.350, Validation acc: 0.000\n",
      "------------------------------------------------------------\n"
     ]
    }
   ],
   "source": [
    "# start the training\n",
    "# lists to keep track of losses and accuracies\n",
    "train_loss, valid_loss = [], []\n",
    "train_acc, valid_acc = [], []\n",
    "train_digit_arr, valid_digit_arr =[], []\n",
    "for epoch in range(epochs):\n",
    "    print(f\"Epoch {epoch+1} of {epochs}\")\n",
    "    train_epoch_loss, train_epoch_acc , train_acc_in_img = train(net, trainloader, \n",
    "                                              optimizer, criterion)\n",
    "    valid_epoch_loss, valid_epoch_acc , test_acc_in_img = validate(net, testloader,  \n",
    "                                                 criterion)\n",
    "    train_loss.append(train_epoch_loss)\n",
    "    valid_loss.append(valid_epoch_loss)\n",
    "    train_acc.append(train_epoch_acc)\n",
    "    valid_acc.append(valid_epoch_acc)\n",
    "    train_digit_arr.append(train_acc_in_img)\n",
    "    valid_digit_arr.append(test_acc_in_img)\n",
    "    print('\\n')\n",
    "    print(f\"Training loss: {train_epoch_loss:.3f}, Training acc: {train_epoch_acc:.3f}\")\n",
    "    print(f\"Validation loss: {valid_epoch_loss:.3f}, Validation acc: {valid_epoch_acc:.3f}\")\n",
    "    print('-' * 60)"
   ]
  },
  {
   "cell_type": "code",
   "execution_count": 31,
   "metadata": {},
   "outputs": [],
   "source": [
    "digit_acc = [[] for _ in range(5)]\n",
    "for acc in train_digit_arr:\n",
    "    k = 0\n",
    "    for ac in acc:\n",
    "        digit_acc[k].append(ac)\n",
    "        k += 1"
   ]
  },
  {
   "cell_type": "code",
   "execution_count": 32,
   "metadata": {},
   "outputs": [],
   "source": [
    "valid_digit_acc = [[] for _ in range(5)]\n",
    "for acc in valid_digit_arr:\n",
    "    k = 0\n",
    "    for ac in acc:\n",
    "        valid_digit_acc[k].append(ac)\n",
    "        k += 1"
   ]
  },
  {
   "cell_type": "code",
   "execution_count": 33,
   "metadata": {},
   "outputs": [
    {
     "data": {
      "image/png": "[encoded data removed]",
      "text/plain": [
       "<Figure size 720x504 with 1 Axes>"
      ]
     },
     "metadata": {
      "needs_background": "light"
     },
     "output_type": "display_data"
    }
   ],
   "source": [
    "plt.figure(figsize=(10, 7))\n",
    "for i in range(5):\n",
    "    plt.plot(digit_acc[i], label='%s Digit Train' % i)    \n",
    "\n",
    "plt.xlabel('Epochs')\n",
    "plt.ylabel('Accuracy')\n",
    "plt.legend()\n",
    "plt.savefig('Resnet_train_accuracy.jpg')\n",
    "plt.show()"
   ]
  },
  {
   "cell_type": "code",
   "execution_count": 34,
   "metadata": {},
   "outputs": [
    {
     "data": {
      "image/png": "[encoded data removed]",
      "text/plain": [
       "<Figure size 720x504 with 1 Axes>"
      ]
     },
     "metadata": {
      "needs_background": "light"
     },
     "output_type": "display_data"
    }
   ],
   "source": [
    "plt.figure(figsize=(10, 7))\n",
    "for i in range(5):\n",
    "    plt.plot(valid_digit_acc[i], label='%s Digit Valid' % i)    \n",
    "\n",
    "plt.xlabel('Epochs')\n",
    "plt.ylabel('Accuracy')\n",
    "plt.legend()\n",
    "plt.savefig('Resnet_valid_accuracy.jpg')\n",
    "plt.show()"
   ]
  },
  {
   "cell_type": "code",
   "execution_count": 35,
   "metadata": {},
   "outputs": [
    {
     "data": {
      "image/png": "[encoded data removed]",
      "text/plain": [
       "<Figure size 720x504 with 1 Axes>"
      ]
     },
     "metadata": {
      "needs_background": "light"
     },
     "output_type": "display_data"
    }
   ],
   "source": [
    "# loss plots\n",
    "plt.figure(figsize=(10, 7))\n",
    "plt.plot(\n",
    "    train_loss, color='orange', linestyle='-', \n",
    "    label='train loss'\n",
    ")\n",
    "plt.plot(\n",
    "    valid_loss, color='red', linestyle='-', \n",
    "    label='Test loss'\n",
    ")\n",
    "plt.xlabel('Epochs')\n",
    "plt.ylabel('Loss')\n",
    "plt.legend()\n",
    "plt.savefig('Resnet_loss.jpg')\n",
    "plt.show()"
   ]
  },
  {
   "cell_type": "code",
   "execution_count": null,
   "metadata": {},
   "outputs": [],
   "source": []
  }
 ],
 "metadata": {
  "kernelspec": {
   "display_name": "Python 3",
   "language": "python",
   "name": "python3"
  },
  "language_info": {
   "codemirror_mode": {
    "name": "ipython",
    "version": 3
   },
   "file_extension": ".py",
   "mimetype": "text/x-python",
   "name": "python",
   "nbconvert_exporter": "python",
   "pygments_lexer": "ipython3",
   "version": "3.7.6"
  }
 },
 "nbformat": 4,
 "nbformat_minor": 4
}
