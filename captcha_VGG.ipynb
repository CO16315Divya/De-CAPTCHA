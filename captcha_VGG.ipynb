{
 "cells": [
  {
   "cell_type": "code",
   "execution_count": 1,
   "metadata": {},
   "outputs": [],
   "source": [
    "import os, cv2, itertools\n",
    "import numpy as np\n",
    "import pandas as pd\n",
    "from matplotlib import pyplot as plt\n",
    "from IPython import display\n",
    "from sklearn.utils import *"
   ]
  },
  {
   "cell_type": "code",
   "execution_count": 2,
   "metadata": {},
   "outputs": [
    {
     "name": "stderr",
     "output_type": "stream",
     "text": [
      "2022-04-13 14:47:46.660181: W tensorflow/stream_executor/platform/default/dso_loader.cc:64] Could not load dynamic library 'libcudart.so.11.0'; dlerror: libcudart.so.11.0: cannot open shared object file: No such file or directory; LD_LIBRARY_PATH: /home/gagandeep/.local/lib/python3.8/site-packages/cv2/../../lib64:/usr/local/lib:\n",
      "2022-04-13 14:47:46.660206: I tensorflow/stream_executor/cuda/cudart_stub.cc:29] Ignore above cudart dlerror if you do not have a GPU set up on your machine.\n"
     ]
    }
   ],
   "source": [
    "import torch\n",
    "import torchvision\n",
    "import torchvision.transforms as transforms\n",
    "import torch.nn.functional as F\n",
    "import matplotlib.pyplot as plt\n",
    "import matplotlib\n",
    "import torch.nn as nn\n",
    "import torch.optim as optim\n",
    "from tqdm.notebook import tqdm\n",
    "import math\n",
    "from keras.layers import Dense, Dropout, Activation, Flatten\n",
    "from torch.utils.data import TensorDataset, DataLoader\n"
   ]
  },
  {
   "cell_type": "code",
   "execution_count": 3,
   "metadata": {},
   "outputs": [],
   "source": [
    "import sklearn\n",
    "from sklearn.model_selection import train_test_split\n",
    "from numpy import array"
   ]
  },
  {
   "cell_type": "code",
   "execution_count": 4,
   "metadata": {},
   "outputs": [],
   "source": [
    "TRAIN_DIR = './archive/level_5/'\n",
    "# TEST_DIR = './test1/'\n",
    "\n",
    "ROWS = 32\n",
    "COLS = 32\n",
    "CHANNELS = 3\n",
    "NUM_OF_LETTERS = 5"
   ]
  },
  {
   "cell_type": "code",
   "execution_count": 5,
   "metadata": {},
   "outputs": [],
   "source": [
    "def generate_y():\n",
    "    filename = './archive/labels_level_5.csv'\n",
    "    df = pd.read_csv(filename)\n",
    "    y=[]\n",
    "    y_digits=[]\n",
    "    for i in range(df.shape[0]):\n",
    "        label = np.zeros((NUM_OF_LETTERS, 10))\n",
    "        digits = [int(d) for d in str(df.iloc[i, 1])]\n",
    "#         print(df.iloc[i, 1])\n",
    "        for j in range(NUM_OF_LETTERS):\n",
    "            label[j, digits[j]] = 1\n",
    "        y.append(label)\n",
    "        y_digits.append(digits)\n",
    "    return y,y_digits"
   ]
  },
  {
   "cell_type": "code",
   "execution_count": 6,
   "metadata": {},
   "outputs": [],
   "source": [
    "train_images = [TRAIN_DIR+i for i in sorted(os.listdir(TRAIN_DIR))]\n",
    "# test_images = [TEST_DIR+i for i in os.listdir(TEST_DIR)]"
   ]
  },
  {
   "cell_type": "code",
   "execution_count": 7,
   "metadata": {},
   "outputs": [
    {
     "data": {
      "text/plain": [
       "'./archive/level_5/file_1.png'"
      ]
     },
     "execution_count": 7,
     "metadata": {},
     "output_type": "execute_result"
    }
   ],
   "source": [
    "len(train_images)\n",
    "train_images[0]"
   ]
  },
  {
   "cell_type": "code",
   "execution_count": 8,
   "metadata": {},
   "outputs": [],
   "source": [
    "def prep_data(images):\n",
    "    X=[]\n",
    "    m = len(images)\n",
    "    n_x = CHANNELS*ROWS*COLS\n",
    "    for i in images:\n",
    "#         print(i)\n",
    "#         print(os.path.join(r, i))\n",
    "        #img = cv2.imread(os.path.join(r, i))\n",
    "        img = cv2.imread(i)\n",
    "#         print(img.shape)\n",
    "        img = cv2.cvtColor(img, cv2.COLOR_BGR2GRAY)\n",
    "        img = cv2.resize(img, (32, 32), interpolation=cv2.INTER_AREA)\n",
    "        img = np.reshape(img, (1,img.shape[0], img.shape[1]))/255\n",
    "#         print(img.shape)\n",
    "        X.append(img)\n",
    "#     print(\"X.shape is {}\".format(X.shape))\n",
    "\n",
    "    return X\n"
   ]
  },
  {
   "cell_type": "code",
   "execution_count": 9,
   "metadata": {},
   "outputs": [],
   "source": [
    "X_train = prep_data(train_images)"
   ]
  },
  {
   "cell_type": "code",
   "execution_count": 10,
   "metadata": {},
   "outputs": [
    {
     "data": {
      "text/plain": [
       "list"
      ]
     },
     "execution_count": 10,
     "metadata": {},
     "output_type": "execute_result"
    }
   ],
   "source": [
    "type(X_train)"
   ]
  },
  {
   "cell_type": "code",
   "execution_count": 11,
   "metadata": {},
   "outputs": [
    {
     "data": {
      "text/plain": [
       "(10000, 1, 32, 32)"
      ]
     },
     "execution_count": 11,
     "metadata": {},
     "output_type": "execute_result"
    }
   ],
   "source": [
    "a=array(X_train)\n",
    "a.shape"
   ]
  },
  {
   "cell_type": "code",
   "execution_count": 12,
   "metadata": {},
   "outputs": [],
   "source": [
    "y_train ,y_digits= generate_y()"
   ]
  },
  {
   "cell_type": "code",
   "execution_count": 13,
   "metadata": {},
   "outputs": [
    {
     "data": {
      "text/plain": [
       "[4, 9, 4, 8, 9]"
      ]
     },
     "execution_count": 13,
     "metadata": {},
     "output_type": "execute_result"
    }
   ],
   "source": [
    "y_digits[0]"
   ]
  },
  {
   "cell_type": "code",
   "execution_count": 14,
   "metadata": {},
   "outputs": [
    {
     "data": {
      "text/plain": [
       "array([[0., 0., 0., 0., 1., 0., 0., 0., 0., 0.],\n",
       "       [0., 0., 0., 0., 0., 0., 0., 0., 0., 1.],\n",
       "       [0., 0., 0., 0., 1., 0., 0., 0., 0., 0.],\n",
       "       [0., 0., 0., 0., 0., 0., 0., 0., 1., 0.],\n",
       "       [0., 0., 0., 0., 0., 0., 0., 0., 0., 1.]])"
      ]
     },
     "execution_count": 14,
     "metadata": {},
     "output_type": "execute_result"
    }
   ],
   "source": [
    "y_train[0]"
   ]
  },
  {
   "cell_type": "code",
   "execution_count": 15,
   "metadata": {},
   "outputs": [
    {
     "data": {
      "text/plain": [
       "(5, 10)"
      ]
     },
     "execution_count": 15,
     "metadata": {},
     "output_type": "execute_result"
    }
   ],
   "source": [
    "y_train[0].shape"
   ]
  },
  {
   "cell_type": "code",
   "execution_count": 16,
   "metadata": {},
   "outputs": [],
   "source": [
    "X_train, X_test, y_train, y_test = train_test_split(X_train, y_train, test_size=0.2, random_state=1)"
   ]
  },
  {
   "cell_type": "code",
   "execution_count": 17,
   "metadata": {},
   "outputs": [
    {
     "data": {
      "text/plain": [
       "(1, 32, 32)"
      ]
     },
     "execution_count": 17,
     "metadata": {},
     "output_type": "execute_result"
    }
   ],
   "source": [
    "X_test[0].shape"
   ]
  },
  {
   "cell_type": "code",
   "execution_count": 18,
   "metadata": {},
   "outputs": [
    {
     "data": {
      "text/plain": [
       "(5, 10)"
      ]
     },
     "execution_count": 18,
     "metadata": {},
     "output_type": "execute_result"
    }
   ],
   "source": [
    "y_test[0].shape"
   ]
  },
  {
   "cell_type": "code",
   "execution_count": 19,
   "metadata": {},
   "outputs": [
    {
     "name": "stderr",
     "output_type": "stream",
     "text": [
      "/tmp/ipykernel_2347796/1050324521.py:1: UserWarning: Creating a tensor from a list of numpy.ndarrays is extremely slow. Please consider converting the list to a single numpy.ndarray with numpy.array() before converting to a tensor. (Triggered internally at  ../torch/csrc/utils/tensor_new.cpp:201.)\n",
      "  X_train = torch.Tensor(X_train) # transform to torch tensor\n"
     ]
    }
   ],
   "source": [
    "X_train = torch.Tensor(X_train) # transform to torch tensor\n",
    "# X_train = tf.convert_to_tensor(X_train, dtype=tf.int64)\n",
    "y_train = torch.Tensor(y_train)\n",
    "# y_train = tf.convert_to_tensor(y_train, dtype=tf.int64)\n",
    "\n",
    "# X_train = Variable(torch.from_numpy(X_train)).type(torch.LongTensor)\n",
    "# y_train = Variable(torch.from_numpy(y_train)).type(torch.LongTensor)\n",
    "\n",
    "\n",
    "my_dataset = TensorDataset(X_train,y_train) # create your dataset\n",
    "trainloader = DataLoader(my_dataset,batch_size=32)"
   ]
  },
  {
   "cell_type": "code",
   "execution_count": 20,
   "metadata": {},
   "outputs": [],
   "source": [
    "X_test = torch.Tensor(X_test) # transform to torch tensor\n",
    "y_test = torch.Tensor(y_test)\n",
    "\n",
    "my_testdataset = TensorDataset(X_test,y_test) # create your datset\n",
    "testloader = DataLoader(my_testdataset,batch_size=32)"
   ]
  },
  {
   "cell_type": "code",
   "execution_count": 21,
   "metadata": {},
   "outputs": [],
   "source": [
    "epochs = 50\n",
    "batch_size = 32\n",
    "learning_rate = 0.01\n",
    "momentum = 0.9\n",
    "log_interval = 10"
   ]
  },
  {
   "cell_type": "markdown",
   "metadata": {},
   "source": [
    "VGG11"
   ]
  },
  {
   "cell_type": "code",
   "execution_count": 22,
   "metadata": {},
   "outputs": [],
   "source": [
    "class Net(nn.Module):\n",
    "\n",
    "    def __init__(self):\n",
    "        super(Net, self).__init__()\n",
    "        \n",
    "        #define convulation and batch normalization layers\n",
    "        self.conv1 = nn.Conv2d(1, 64, kernel_size=3, padding=1)\n",
    "        self.conv1_bn = nn.BatchNorm2d(64)\n",
    "\n",
    "        self.conv2 = nn.Conv2d(64, 128, kernel_size=3, padding=1)\n",
    "        self.conv2_bn = nn.BatchNorm2d(128)\n",
    "\n",
    "        self.conv3 = nn.Conv2d(128, 256, kernel_size=3, padding=1)\n",
    "        self.conv3_bn = nn.BatchNorm2d(256)\n",
    "\n",
    "        self.conv4 = nn.Conv2d(256, 256, kernel_size=3, padding=1)\n",
    "        self.conv4_bn = nn.BatchNorm2d(256)\n",
    "\n",
    "        self.conv5 = nn.Conv2d(256, 512, kernel_size=3, padding=1)\n",
    "        self.conv5_bn = nn.BatchNorm2d(512)\n",
    "\n",
    "        self.conv6 = nn.Conv2d(512, 512, kernel_size=3, padding=1)\n",
    "        self.conv6_bn = nn.BatchNorm2d(512)\n",
    "\n",
    "        self.conv7 = nn.Conv2d(512, 512, kernel_size=3, padding=1)\n",
    "        self.conv7_bn = nn.BatchNorm2d(512)\n",
    "\n",
    "        self.conv8 = nn.Conv2d(512, 512, kernel_size=3, padding=1)\n",
    "        self.conv8_bn = nn.BatchNorm2d(512)\n",
    "        \n",
    "        #Connect the above layers sequentially\n",
    "        self.layers1 = nn.Sequential(self.conv1, self.conv1_bn, nn.ReLU(), nn.MaxPool2d(kernel_size=2, stride=2),\n",
    "                                    self.conv2, self.conv2_bn, nn.ReLU(), nn.MaxPool2d(kernel_size=2, stride=2),\n",
    "                                    self.conv3, self.conv3_bn, nn.ReLU(),\n",
    "                                    self.conv4, self.conv4_bn, nn.ReLU(), nn.MaxPool2d(kernel_size=2, stride=2),\n",
    "                                    self.conv5, self.conv5_bn, nn.ReLU(),\n",
    "                                    self.conv6, self.conv6_bn, nn.ReLU(), nn.MaxPool2d(kernel_size=2, stride=2),\n",
    "                                    self.conv7, self.conv7_bn, nn.ReLU(),\n",
    "                                    self.conv8, self.conv8_bn, nn.ReLU(), nn.MaxPool2d(kernel_size=2, stride=2))\n",
    "        \n",
    "        #Define linear layers\n",
    "        self.fc1 = nn.Linear(in_features=512, out_features=4096)\n",
    "        self.fc2 = nn.Linear(in_features=4096, out_features=4096)\n",
    "        self.fc3 = nn.Linear(in_features=4096, out_features=50)\n",
    "        self.dropout = nn.Dropout(0.3)\n",
    "\n",
    "        #Connect the linear layers sequentially\n",
    "        self.layers2 = nn.Sequential(self.fc1, nn.ReLU(), self.dropout,\n",
    "                                    self.fc2, nn.ReLU(), self.dropout,\n",
    "                                    self.fc3)\n",
    "        \n",
    "        self.softmax = nn.Softmax(1)\n",
    "\n",
    "    def forward(self, x):\n",
    "        x = self.layers1(x)\n",
    "        x = torch.flatten(x, 1) # flatten all dimensions except the batch dimension\n",
    "        x = self.layers2(x)\n",
    "        x = torch.reshape(x,(-1,5,10))\n",
    "#         out = [Dense(10, name='digit%d' % i, activation='softmax')(x) \n",
    "#         for i in range(NUM_OF_LETTERS):\n",
    "        x = self.softmax(x)\n",
    "#         out = [Dense(10, name='digit%d' % i, activation='softmax')(x) \n",
    "#         for i in range(NUM_OF_LETTERS):\n",
    "#         x = [nn.Softmax(1)(x) for i in range(NUM_OF_LETTERS)]\n",
    "        \n",
    "#         print(\"Soft model\",x.shape)\n",
    "        return x"
   ]
  },
  {
   "cell_type": "code",
   "execution_count": 23,
   "metadata": {},
   "outputs": [
    {
     "name": "stdout",
     "output_type": "stream",
     "text": [
      "Net(\n",
      "  (conv1): Conv2d(1, 64, kernel_size=(3, 3), stride=(1, 1), padding=(1, 1))\n",
      "  (conv1_bn): BatchNorm2d(64, eps=1e-05, momentum=0.1, affine=True, track_running_stats=True)\n",
      "  (conv2): Conv2d(64, 128, kernel_size=(3, 3), stride=(1, 1), padding=(1, 1))\n",
      "  (conv2_bn): BatchNorm2d(128, eps=1e-05, momentum=0.1, affine=True, track_running_stats=True)\n",
      "  (conv3): Conv2d(128, 256, kernel_size=(3, 3), stride=(1, 1), padding=(1, 1))\n",
      "  (conv3_bn): BatchNorm2d(256, eps=1e-05, momentum=0.1, affine=True, track_running_stats=True)\n",
      "  (conv4): Conv2d(256, 256, kernel_size=(3, 3), stride=(1, 1), padding=(1, 1))\n",
      "  (conv4_bn): BatchNorm2d(256, eps=1e-05, momentum=0.1, affine=True, track_running_stats=True)\n",
      "  (conv5): Conv2d(256, 512, kernel_size=(3, 3), stride=(1, 1), padding=(1, 1))\n",
      "  (conv5_bn): BatchNorm2d(512, eps=1e-05, momentum=0.1, affine=True, track_running_stats=True)\n",
      "  (conv6): Conv2d(512, 512, kernel_size=(3, 3), stride=(1, 1), padding=(1, 1))\n",
      "  (conv6_bn): BatchNorm2d(512, eps=1e-05, momentum=0.1, affine=True, track_running_stats=True)\n",
      "  (conv7): Conv2d(512, 512, kernel_size=(3, 3), stride=(1, 1), padding=(1, 1))\n",
      "  (conv7_bn): BatchNorm2d(512, eps=1e-05, momentum=0.1, affine=True, track_running_stats=True)\n",
      "  (conv8): Conv2d(512, 512, kernel_size=(3, 3), stride=(1, 1), padding=(1, 1))\n",
      "  (conv8_bn): BatchNorm2d(512, eps=1e-05, momentum=0.1, affine=True, track_running_stats=True)\n",
      "  (layers1): Sequential(\n",
      "    (0): Conv2d(1, 64, kernel_size=(3, 3), stride=(1, 1), padding=(1, 1))\n",
      "    (1): BatchNorm2d(64, eps=1e-05, momentum=0.1, affine=True, track_running_stats=True)\n",
      "    (2): ReLU()\n",
      "    (3): MaxPool2d(kernel_size=2, stride=2, padding=0, dilation=1, ceil_mode=False)\n",
      "    (4): Conv2d(64, 128, kernel_size=(3, 3), stride=(1, 1), padding=(1, 1))\n",
      "    (5): BatchNorm2d(128, eps=1e-05, momentum=0.1, affine=True, track_running_stats=True)\n",
      "    (6): ReLU()\n",
      "    (7): MaxPool2d(kernel_size=2, stride=2, padding=0, dilation=1, ceil_mode=False)\n",
      "    (8): Conv2d(128, 256, kernel_size=(3, 3), stride=(1, 1), padding=(1, 1))\n",
      "    (9): BatchNorm2d(256, eps=1e-05, momentum=0.1, affine=True, track_running_stats=True)\n",
      "    (10): ReLU()\n",
      "    (11): Conv2d(256, 256, kernel_size=(3, 3), stride=(1, 1), padding=(1, 1))\n",
      "    (12): BatchNorm2d(256, eps=1e-05, momentum=0.1, affine=True, track_running_stats=True)\n",
      "    (13): ReLU()\n",
      "    (14): MaxPool2d(kernel_size=2, stride=2, padding=0, dilation=1, ceil_mode=False)\n",
      "    (15): Conv2d(256, 512, kernel_size=(3, 3), stride=(1, 1), padding=(1, 1))\n",
      "    (16): BatchNorm2d(512, eps=1e-05, momentum=0.1, affine=True, track_running_stats=True)\n",
      "    (17): ReLU()\n",
      "    (18): Conv2d(512, 512, kernel_size=(3, 3), stride=(1, 1), padding=(1, 1))\n",
      "    (19): BatchNorm2d(512, eps=1e-05, momentum=0.1, affine=True, track_running_stats=True)\n",
      "    (20): ReLU()\n",
      "    (21): MaxPool2d(kernel_size=2, stride=2, padding=0, dilation=1, ceil_mode=False)\n",
      "    (22): Conv2d(512, 512, kernel_size=(3, 3), stride=(1, 1), padding=(1, 1))\n",
      "    (23): BatchNorm2d(512, eps=1e-05, momentum=0.1, affine=True, track_running_stats=True)\n",
      "    (24): ReLU()\n",
      "    (25): Conv2d(512, 512, kernel_size=(3, 3), stride=(1, 1), padding=(1, 1))\n",
      "    (26): BatchNorm2d(512, eps=1e-05, momentum=0.1, affine=True, track_running_stats=True)\n",
      "    (27): ReLU()\n",
      "    (28): MaxPool2d(kernel_size=2, stride=2, padding=0, dilation=1, ceil_mode=False)\n",
      "  )\n",
      "  (fc1): Linear(in_features=512, out_features=4096, bias=True)\n",
      "  (fc2): Linear(in_features=4096, out_features=4096, bias=True)\n",
      "  (fc3): Linear(in_features=4096, out_features=50, bias=True)\n",
      "  (dropout): Dropout(p=0.3, inplace=False)\n",
      "  (layers2): Sequential(\n",
      "    (0): Linear(in_features=512, out_features=4096, bias=True)\n",
      "    (1): ReLU()\n",
      "    (2): Dropout(p=0.3, inplace=False)\n",
      "    (3): Linear(in_features=4096, out_features=4096, bias=True)\n",
      "    (4): ReLU()\n",
      "    (5): Dropout(p=0.3, inplace=False)\n",
      "    (6): Linear(in_features=4096, out_features=50, bias=True)\n",
      "  )\n",
      "  (softmax): Softmax(dim=1)\n",
      ")\n"
     ]
    }
   ],
   "source": [
    "model = Net() \n",
    "print(model)"
   ]
  },
  {
   "cell_type": "code",
   "execution_count": 24,
   "metadata": {},
   "outputs": [
    {
     "name": "stdout",
     "output_type": "stream",
     "text": [
      "38\n",
      "torch.Size([64, 1, 3, 3])\n"
     ]
    }
   ],
   "source": [
    "params = list(model.parameters())\n",
    "print(len(params))\n",
    "print(params[0].size())\n"
   ]
  },
  {
   "cell_type": "code",
   "execution_count": 25,
   "metadata": {},
   "outputs": [
    {
     "data": {
      "text/plain": [
       "8000"
      ]
     },
     "execution_count": 25,
     "metadata": {},
     "output_type": "execute_result"
    }
   ],
   "source": [
    "len(X_train)"
   ]
  },
  {
   "cell_type": "code",
   "execution_count": 26,
   "metadata": {},
   "outputs": [],
   "source": [
    "# the loss function\n",
    "criterion = nn.CrossEntropyLoss(reduction='none')\n",
    "# the optimizer\n",
    "optimizer = optim.SGD(model.parameters(), lr=learning_rate, momentum=0.9)\n",
    "# optimizer = optim.Adam(model.parameters(), lr=learning_rate)\n"
   ]
  },
  {
   "cell_type": "code",
   "execution_count": 27,
   "metadata": {},
   "outputs": [],
   "source": [
    "def train(model, trainloader, optimizer, criterion):\n",
    "    model.train()\n",
    "    train_running_loss = 0.0\n",
    "    train_running_correct = 0\n",
    "    counter = 0\n",
    "    y_decoded=[]\n",
    "    y_predicted=[]\n",
    "    total_acc = 0\n",
    "    acc_in_img = [0] * 5\n",
    "    \n",
    "    for i, data in tqdm(enumerate(trainloader), total=len(trainloader),position=0, leave=True):\n",
    "        counter += 1\n",
    "        image, labels = data\n",
    "\n",
    "       \n",
    "        optimizer.zero_grad()\n",
    "        \n",
    "        # forward pass\n",
    "        outputs = model(image)\n",
    "\n",
    "        y_decoded = []\n",
    "        for i,x in enumerate(labels):\n",
    "            _, code = torch.max(x.data, 1) \n",
    "            y_decoded.append(code)\n",
    "       \n",
    "\n",
    "        # calculate the loss\n",
    "        outputs_loss=torch.reshape(outputs,(-1,10,5))\n",
    "        labels_loss=torch.reshape(labels,(-1,10,5))\n",
    "        \n",
    "        loss = criterion(outputs_loss, labels_loss)\n",
    "\n",
    "        loss=loss.mean(dim=1)\n",
    "\n",
    "        loss=loss.mean(dim=0)   \n",
    "        \n",
    "        train_running_loss += loss.item()\n",
    "        \n",
    "        y_predicted = []\n",
    "        \n",
    "        # calculate the accuracy\n",
    "        for i,x in enumerate(outputs):\n",
    "            _, code = torch.max(x.data, 1) \n",
    "            y_predicted.append(code)\n",
    "        \n",
    "        for i, j in zip(y_predicted,y_decoded):\n",
    "            \n",
    "            if (i==j).sum().item() == 5 :\n",
    "                total_acc += 1\n",
    "#                 print(\"correctly classified image\", i, j)\n",
    "                \n",
    "            for z, (preds, labels) in enumerate(zip(i, j)):\n",
    "\n",
    "                if preds == labels:\n",
    "                    acc_in_img[z] += 1\n",
    "           \n",
    "        loss.backward()\n",
    "        \n",
    "        #update the grad values\n",
    "        optimizer.step()\n",
    "\n",
    "    epoch_loss = train_running_loss / counter\n",
    "    epoch_acc = 100. * (total_acc / len(trainloader.dataset))\n",
    "    for i in range(5):\n",
    "        acc_in_img[i] = acc_in_img[i]/ len(trainloader.dataset)\n",
    "        print(\"digit \" + str(i) + \" accuracy: \" + str(acc_in_img[i]))\n",
    "    return epoch_loss, epoch_acc, acc_in_img"
   ]
  },
  {
   "cell_type": "code",
   "execution_count": 28,
   "metadata": {},
   "outputs": [],
   "source": [
    "def validate(model, testloader, criterion):\n",
    "    model.eval()\n",
    "    class_correct = list(0. for i in range(10))\n",
    "    class_total = list(0. for i in range(10))\n",
    "    print('Validation')\n",
    "    valid_running_loss = 0.0\n",
    "    valid_running_correct = 0\n",
    "    counter = 0\n",
    "    y_decoded=[]\n",
    "    y_predicted=[]\n",
    "    test_acc_in_img=[0]*5\n",
    "    total_acc = 0\n",
    "    \n",
    "    with torch.no_grad():\n",
    "        for i, data in tqdm(enumerate(testloader), total=len(testloader)):\n",
    "            counter += 1\n",
    "            \n",
    "            image, labels = data\n",
    "            \n",
    "#             labels=labels.reshape(labels.shape[0],)\n",
    "            # forward pass\n",
    "            outputs = model(image)\n",
    "            y_decoded=[]\n",
    "            for i,x in enumerate(labels):\n",
    "                _, code = torch.max(x.data, 1) \n",
    "                y_decoded.append(code)              \n",
    "                \n",
    "                \n",
    "            # calculate the loss\n",
    "            outputs_loss=torch.reshape(outputs,(-1,10,5))\n",
    "            labels_loss=torch.reshape(labels,(-1,10,5))\n",
    "\n",
    "            loss = criterion(outputs_loss, labels_loss)\n",
    "    #         print(\"LOSS\",loss.shape)\n",
    "\n",
    "            loss=loss.mean(dim=1)\n",
    "\n",
    "            loss=loss.mean(dim=0)   \n",
    "\n",
    "            valid_running_loss += loss.item()\n",
    "            \n",
    "\n",
    "            # calculate the accuracy for each class\n",
    "            y_predicted=[]\n",
    "            for i,x in enumerate(outputs):\n",
    "                _, code = torch.max(x.data, 1) \n",
    "                y_predicted.append(code)\n",
    "        \n",
    "            for i, j in zip(y_predicted,y_decoded):\n",
    "\n",
    "                if (i==j).sum().item() == 5 :\n",
    "                    total_acc += 1\n",
    "#                     print(\"correctly classified image\", i, j)\n",
    "\n",
    "                for z, (preds, labels) in enumerate(zip(i, j)):\n",
    "\n",
    "                    if preds == labels:\n",
    "                        test_acc_in_img[z] += 1\n",
    "        \n",
    "    epoch_loss = valid_running_loss / counter\n",
    "    epoch_acc = 100. * (total_acc / len(testloader.dataset))\n",
    "    for i in range(5):\n",
    "        test_acc_in_img[i] = test_acc_in_img[i] / len(testloader.dataset)\n",
    "        print(\"digit \" + str(i) + \" accuracy: \" + str(test_acc_in_img[i]))\n",
    "    \n",
    "    return epoch_loss, epoch_acc , test_acc_in_img"
   ]
  },
  {
   "cell_type": "code",
   "execution_count": 29,
   "metadata": {},
   "outputs": [
    {
     "name": "stdout",
     "output_type": "stream",
     "text": [
      "Epoch 1 of 50\n"
     ]
    },
    {
     "data": {
      "application/vnd.jupyter.widget-view+json": {
       "model_id": "25a206b7b2bf4434ac46fd7c5695f0fe",
       "version_major": 2,
       "version_minor": 0
      },
      "text/plain": [
       "  0%|          | 0/250 [00:00<?, ?it/s]"
      ]
     },
     "metadata": {},
     "output_type": "display_data"
    },
    {
     "name": "stdout",
     "output_type": "stream",
     "text": [
      "digit 0 accuracy: 0.1125\n",
      "digit 1 accuracy: 0.1045\n",
      "digit 2 accuracy: 0.092\n",
      "digit 3 accuracy: 0.09625\n",
      "digit 4 accuracy: 0.095125\n",
      "Validation\n"
     ]
    },
    {
     "data": {
      "application/vnd.jupyter.widget-view+json": {
       "model_id": "0647a6b38df4440597e9ef515318aede",
       "version_major": 2,
       "version_minor": 0
      },
      "text/plain": [
       "  0%|          | 0/63 [00:00<?, ?it/s]"
      ]
     },
     "metadata": {},
     "output_type": "display_data"
    },
    {
     "name": "stdout",
     "output_type": "stream",
     "text": [
      "digit 0 accuracy: 0.118\n",
      "digit 1 accuracy: 0.108\n",
      "digit 2 accuracy: 0.095\n",
      "digit 3 accuracy: 0.0975\n",
      "digit 4 accuracy: 0.0985\n",
      "\n",
      "\n",
      "Training loss: 2.300, Training acc: 0.000\n",
      "Validation loss: 2.299, Validation acc: 0.000\n",
      "------------------------------------------------------------\n",
      "Epoch 2 of 50\n"
     ]
    },
    {
     "data": {
      "application/vnd.jupyter.widget-view+json": {
       "model_id": "5e9a4a8333554913bc080fcbb7139d55",
       "version_major": 2,
       "version_minor": 0
      },
      "text/plain": [
       "  0%|          | 0/250 [00:00<?, ?it/s]"
      ]
     },
     "metadata": {},
     "output_type": "display_data"
    },
    {
     "name": "stdout",
     "output_type": "stream",
     "text": [
      "digit 0 accuracy: 0.11775\n",
      "digit 1 accuracy: 0.107\n",
      "digit 2 accuracy: 0.099875\n",
      "digit 3 accuracy: 0.1055\n",
      "digit 4 accuracy: 0.09925\n",
      "Validation\n"
     ]
    },
    {
     "data": {
      "application/vnd.jupyter.widget-view+json": {
       "model_id": "3c49dd1cd23a46299b379c3d1063db8f",
       "version_major": 2,
       "version_minor": 0
      },
      "text/plain": [
       "  0%|          | 0/63 [00:00<?, ?it/s]"
      ]
     },
     "metadata": {},
     "output_type": "display_data"
    },
    {
     "name": "stdout",
     "output_type": "stream",
     "text": [
      "digit 0 accuracy: 0.116\n",
      "digit 1 accuracy: 0.1155\n",
      "digit 2 accuracy: 0.103\n",
      "digit 3 accuracy: 0.1005\n",
      "digit 4 accuracy: 0.0985\n",
      "\n",
      "\n",
      "Training loss: 2.299, Training acc: 0.000\n",
      "Validation loss: 2.299, Validation acc: 0.050\n",
      "------------------------------------------------------------\n",
      "Epoch 3 of 50\n"
     ]
    },
    {
     "data": {
      "application/vnd.jupyter.widget-view+json": {
       "model_id": "a204c0b34173403e8ffee5a2819c7902",
       "version_major": 2,
       "version_minor": 0
      },
      "text/plain": [
       "  0%|          | 0/250 [00:00<?, ?it/s]"
      ]
     },
     "metadata": {},
     "output_type": "display_data"
    },
    {
     "name": "stdout",
     "output_type": "stream",
     "text": [
      "digit 0 accuracy: 0.12475\n",
      "digit 1 accuracy: 0.107875\n",
      "digit 2 accuracy: 0.10075\n",
      "digit 3 accuracy: 0.105875\n",
      "digit 4 accuracy: 0.104\n",
      "Validation\n"
     ]
    },
    {
     "data": {
      "application/vnd.jupyter.widget-view+json": {
       "model_id": "1c04c943e49846eb8c0ac2af56999859",
       "version_major": 2,
       "version_minor": 0
      },
      "text/plain": [
       "  0%|          | 0/63 [00:00<?, ?it/s]"
      ]
     },
     "metadata": {},
     "output_type": "display_data"
    },
    {
     "name": "stdout",
     "output_type": "stream",
     "text": [
      "digit 0 accuracy: 0.1265\n",
      "digit 1 accuracy: 0.1135\n",
      "digit 2 accuracy: 0.097\n",
      "digit 3 accuracy: 0.101\n",
      "digit 4 accuracy: 0.0965\n",
      "\n",
      "\n",
      "Training loss: 2.298, Training acc: 0.000\n",
      "Validation loss: 2.299, Validation acc: 0.000\n",
      "------------------------------------------------------------\n",
      "Epoch 4 of 50\n"
     ]
    },
    {
     "data": {
      "application/vnd.jupyter.widget-view+json": {
       "model_id": "11aeaf20d937426dae0496f2ccef51a4",
       "version_major": 2,
       "version_minor": 0
      },
      "text/plain": [
       "  0%|          | 0/250 [00:00<?, ?it/s]"
      ]
     },
     "metadata": {},
     "output_type": "display_data"
    },
    {
     "name": "stdout",
     "output_type": "stream",
     "text": [
      "digit 0 accuracy: 0.13175\n",
      "digit 1 accuracy: 0.112375\n",
      "digit 2 accuracy: 0.111875\n",
      "digit 3 accuracy: 0.115375\n",
      "digit 4 accuracy: 0.109125\n",
      "Validation\n"
     ]
    },
    {
     "data": {
      "application/vnd.jupyter.widget-view+json": {
       "model_id": "1aa9dba1241447f88e57f4b90204cfe6",
       "version_major": 2,
       "version_minor": 0
      },
      "text/plain": [
       "  0%|          | 0/63 [00:00<?, ?it/s]"
      ]
     },
     "metadata": {},
     "output_type": "display_data"
    },
    {
     "name": "stdout",
     "output_type": "stream",
     "text": [
      "digit 0 accuracy: 0.125\n",
      "digit 1 accuracy: 0.105\n",
      "digit 2 accuracy: 0.09\n",
      "digit 3 accuracy: 0.106\n",
      "digit 4 accuracy: 0.1\n",
      "\n",
      "\n",
      "Training loss: 2.295, Training acc: 0.013\n",
      "Validation loss: 2.299, Validation acc: 0.000\n",
      "------------------------------------------------------------\n",
      "Epoch 5 of 50\n"
     ]
    },
    {
     "data": {
      "application/vnd.jupyter.widget-view+json": {
       "model_id": "e41f2d16e621410093b744f0d603191e",
       "version_major": 2,
       "version_minor": 0
      },
      "text/plain": [
       "  0%|          | 0/250 [00:00<?, ?it/s]"
      ]
     },
     "metadata": {},
     "output_type": "display_data"
    },
    {
     "name": "stdout",
     "output_type": "stream",
     "text": [
      "digit 0 accuracy: 0.14725\n",
      "digit 1 accuracy: 0.120375\n",
      "digit 2 accuracy: 0.122625\n",
      "digit 3 accuracy: 0.128375\n",
      "digit 4 accuracy: 0.11675\n",
      "Validation\n"
     ]
    },
    {
     "data": {
      "application/vnd.jupyter.widget-view+json": {
       "model_id": "80c0becb581e4cd3b844eb2b8f4252b1",
       "version_major": 2,
       "version_minor": 0
      },
      "text/plain": [
       "  0%|          | 0/63 [00:00<?, ?it/s]"
      ]
     },
     "metadata": {},
     "output_type": "display_data"
    },
    {
     "name": "stdout",
     "output_type": "stream",
     "text": [
      "digit 0 accuracy: 0.11\n",
      "digit 1 accuracy: 0.097\n",
      "digit 2 accuracy: 0.0985\n",
      "digit 3 accuracy: 0.1005\n",
      "digit 4 accuracy: 0.088\n",
      "\n",
      "\n",
      "Training loss: 2.292, Training acc: 0.000\n",
      "Validation loss: 2.301, Validation acc: 0.000\n",
      "------------------------------------------------------------\n",
      "Epoch 6 of 50\n"
     ]
    },
    {
     "data": {
      "application/vnd.jupyter.widget-view+json": {
       "model_id": "59d8fcfd54984c61b23f2d68f65c77c3",
       "version_major": 2,
       "version_minor": 0
      },
      "text/plain": [
       "  0%|          | 0/250 [00:00<?, ?it/s]"
      ]
     },
     "metadata": {},
     "output_type": "display_data"
    },
    {
     "name": "stdout",
     "output_type": "stream",
     "text": [
      "digit 0 accuracy: 0.1745\n",
      "digit 1 accuracy: 0.133625\n",
      "digit 2 accuracy: 0.134125\n",
      "digit 3 accuracy: 0.141625\n",
      "digit 4 accuracy: 0.1275\n",
      "Validation\n"
     ]
    },
    {
     "data": {
      "application/vnd.jupyter.widget-view+json": {
       "model_id": "304b9fdc487649268433941a6fdcc617",
       "version_major": 2,
       "version_minor": 0
      },
      "text/plain": [
       "  0%|          | 0/63 [00:00<?, ?it/s]"
      ]
     },
     "metadata": {},
     "output_type": "display_data"
    },
    {
     "name": "stdout",
     "output_type": "stream",
     "text": [
      "digit 0 accuracy: 0.1115\n",
      "digit 1 accuracy: 0.106\n",
      "digit 2 accuracy: 0.1\n",
      "digit 3 accuracy: 0.0965\n",
      "digit 4 accuracy: 0.1\n",
      "\n",
      "\n",
      "Training loss: 2.284, Training acc: 0.000\n",
      "Validation loss: 2.306, Validation acc: 0.000\n",
      "------------------------------------------------------------\n",
      "Epoch 7 of 50\n"
     ]
    },
    {
     "data": {
      "application/vnd.jupyter.widget-view+json": {
       "model_id": "36a50b3616544b87b637a02a78847105",
       "version_major": 2,
       "version_minor": 0
      },
      "text/plain": [
       "  0%|          | 0/250 [00:00<?, ?it/s]"
      ]
     },
     "metadata": {},
     "output_type": "display_data"
    },
    {
     "name": "stdout",
     "output_type": "stream",
     "text": [
      "digit 0 accuracy: 0.1945\n",
      "digit 1 accuracy: 0.1515\n",
      "digit 2 accuracy: 0.13925\n",
      "digit 3 accuracy: 0.149875\n",
      "digit 4 accuracy: 0.137\n",
      "Validation\n"
     ]
    },
    {
     "data": {
      "application/vnd.jupyter.widget-view+json": {
       "model_id": "91bf4b6be67448a8b84157786b141b93",
       "version_major": 2,
       "version_minor": 0
      },
      "text/plain": [
       "  0%|          | 0/63 [00:00<?, ?it/s]"
      ]
     },
     "metadata": {},
     "output_type": "display_data"
    },
    {
     "name": "stdout",
     "output_type": "stream",
     "text": [
      "digit 0 accuracy: 0.112\n",
      "digit 1 accuracy: 0.109\n",
      "digit 2 accuracy: 0.1015\n",
      "digit 3 accuracy: 0.0935\n",
      "digit 4 accuracy: 0.101\n",
      "\n",
      "\n",
      "Training loss: 2.273, Training acc: 0.013\n",
      "Validation loss: 2.314, Validation acc: 0.000\n",
      "------------------------------------------------------------\n",
      "Epoch 8 of 50\n"
     ]
    },
    {
     "data": {
      "application/vnd.jupyter.widget-view+json": {
       "model_id": "921a39fbbbca4e2c878fcfc37e5230d7",
       "version_major": 2,
       "version_minor": 0
      },
      "text/plain": [
       "  0%|          | 0/250 [00:00<?, ?it/s]"
      ]
     },
     "metadata": {},
     "output_type": "display_data"
    },
    {
     "name": "stdout",
     "output_type": "stream",
     "text": [
      "digit 0 accuracy: 0.219125\n",
      "digit 1 accuracy: 0.16675\n",
      "digit 2 accuracy: 0.160375\n",
      "digit 3 accuracy: 0.16825\n",
      "digit 4 accuracy: 0.14625\n",
      "Validation\n"
     ]
    },
    {
     "data": {
      "application/vnd.jupyter.widget-view+json": {
       "model_id": "172aeea32e8f4ba19636161ec33a4ce8",
       "version_major": 2,
       "version_minor": 0
      },
      "text/plain": [
       "  0%|          | 0/63 [00:00<?, ?it/s]"
      ]
     },
     "metadata": {},
     "output_type": "display_data"
    },
    {
     "name": "stdout",
     "output_type": "stream",
     "text": [
      "digit 0 accuracy: 0.104\n",
      "digit 1 accuracy: 0.094\n",
      "digit 2 accuracy: 0.1085\n",
      "digit 3 accuracy: 0.107\n",
      "digit 4 accuracy: 0.099\n",
      "\n",
      "\n",
      "Training loss: 2.257, Training acc: 0.000\n",
      "Validation loss: 2.329, Validation acc: 0.000\n",
      "------------------------------------------------------------\n",
      "Epoch 9 of 50\n"
     ]
    },
    {
     "data": {
      "application/vnd.jupyter.widget-view+json": {
       "model_id": "20c2dece273145768d9bd0d347f73d76",
       "version_major": 2,
       "version_minor": 0
      },
      "text/plain": [
       "  0%|          | 0/250 [00:00<?, ?it/s]"
      ]
     },
     "metadata": {},
     "output_type": "display_data"
    },
    {
     "name": "stdout",
     "output_type": "stream",
     "text": [
      "digit 0 accuracy: 0.244375\n",
      "digit 1 accuracy: 0.18075\n",
      "digit 2 accuracy: 0.174375\n",
      "digit 3 accuracy: 0.1845\n",
      "digit 4 accuracy: 0.158\n",
      "Validation\n"
     ]
    },
    {
     "data": {
      "application/vnd.jupyter.widget-view+json": {
       "model_id": "5c7424fe186d46f5953cfa881901ac56",
       "version_major": 2,
       "version_minor": 0
      },
      "text/plain": [
       "  0%|          | 0/63 [00:00<?, ?it/s]"
      ]
     },
     "metadata": {},
     "output_type": "display_data"
    },
    {
     "name": "stdout",
     "output_type": "stream",
     "text": [
      "digit 0 accuracy: 0.112\n",
      "digit 1 accuracy: 0.094\n",
      "digit 2 accuracy: 0.111\n",
      "digit 3 accuracy: 0.1065\n",
      "digit 4 accuracy: 0.101\n",
      "\n",
      "\n",
      "Training loss: 2.239, Training acc: 0.013\n",
      "Validation loss: 2.329, Validation acc: 0.000\n",
      "------------------------------------------------------------\n",
      "Epoch 10 of 50\n"
     ]
    },
    {
     "data": {
      "application/vnd.jupyter.widget-view+json": {
       "model_id": "f23b11c63b6b4278aa0d6cd95a82fb65",
       "version_major": 2,
       "version_minor": 0
      },
      "text/plain": [
       "  0%|          | 0/250 [00:00<?, ?it/s]"
      ]
     },
     "metadata": {},
     "output_type": "display_data"
    },
    {
     "name": "stdout",
     "output_type": "stream",
     "text": [
      "digit 0 accuracy: 0.266375\n",
      "digit 1 accuracy: 0.187875\n",
      "digit 2 accuracy: 0.19275\n",
      "digit 3 accuracy: 0.196375\n",
      "digit 4 accuracy: 0.180375\n",
      "Validation\n"
     ]
    },
    {
     "data": {
      "application/vnd.jupyter.widget-view+json": {
       "model_id": "f7e1a753a24040a883634deeee40790e",
       "version_major": 2,
       "version_minor": 0
      },
      "text/plain": [
       "  0%|          | 0/63 [00:00<?, ?it/s]"
      ]
     },
     "metadata": {},
     "output_type": "display_data"
    },
    {
     "name": "stdout",
     "output_type": "stream",
     "text": [
      "digit 0 accuracy: 0.114\n",
      "digit 1 accuracy: 0.1065\n",
      "digit 2 accuracy: 0.103\n",
      "digit 3 accuracy: 0.1085\n",
      "digit 4 accuracy: 0.1055\n",
      "\n",
      "\n",
      "Training loss: 2.221, Training acc: 0.025\n",
      "Validation loss: 2.333, Validation acc: 0.000\n",
      "------------------------------------------------------------\n",
      "Epoch 11 of 50\n"
     ]
    },
    {
     "data": {
      "application/vnd.jupyter.widget-view+json": {
       "model_id": "99595b6b69cd4718a35e075473d1e692",
       "version_major": 2,
       "version_minor": 0
      },
      "text/plain": [
       "  0%|          | 0/250 [00:00<?, ?it/s]"
      ]
     },
     "metadata": {},
     "output_type": "display_data"
    },
    {
     "name": "stdout",
     "output_type": "stream",
     "text": [
      "digit 0 accuracy: 0.30875\n",
      "digit 1 accuracy: 0.214\n",
      "digit 2 accuracy: 0.2085\n",
      "digit 3 accuracy: 0.22225\n",
      "digit 4 accuracy: 0.20075\n",
      "Validation\n"
     ]
    },
    {
     "data": {
      "application/vnd.jupyter.widget-view+json": {
       "model_id": "bf05a496da5944ac969d79e4b9880eb5",
       "version_major": 2,
       "version_minor": 0
      },
      "text/plain": [
       "  0%|          | 0/63 [00:00<?, ?it/s]"
      ]
     },
     "metadata": {},
     "output_type": "display_data"
    },
    {
     "name": "stdout",
     "output_type": "stream",
     "text": [
      "digit 0 accuracy: 0.1135\n",
      "digit 1 accuracy: 0.1\n",
      "digit 2 accuracy: 0.0905\n",
      "digit 3 accuracy: 0.107\n",
      "digit 4 accuracy: 0.098\n",
      "\n",
      "\n",
      "Training loss: 2.199, Training acc: 0.013\n",
      "Validation loss: 2.341, Validation acc: 0.000\n",
      "------------------------------------------------------------\n",
      "Epoch 12 of 50\n"
     ]
    },
    {
     "data": {
      "application/vnd.jupyter.widget-view+json": {
       "model_id": "9f00ac1bc050400c94d74ad8aaf6d9d7",
       "version_major": 2,
       "version_minor": 0
      },
      "text/plain": [
       "  0%|          | 0/250 [00:00<?, ?it/s]"
      ]
     },
     "metadata": {},
     "output_type": "display_data"
    },
    {
     "name": "stdout",
     "output_type": "stream",
     "text": [
      "digit 0 accuracy: 0.324875\n",
      "digit 1 accuracy: 0.231125\n",
      "digit 2 accuracy: 0.222625\n",
      "digit 3 accuracy: 0.2495\n",
      "digit 4 accuracy: 0.21625\n",
      "Validation\n"
     ]
    },
    {
     "data": {
      "application/vnd.jupyter.widget-view+json": {
       "model_id": "de4cf181af3e4a409d8be8fa106ab4f6",
       "version_major": 2,
       "version_minor": 0
      },
      "text/plain": [
       "  0%|          | 0/63 [00:00<?, ?it/s]"
      ]
     },
     "metadata": {},
     "output_type": "display_data"
    },
    {
     "name": "stdout",
     "output_type": "stream",
     "text": [
      "digit 0 accuracy: 0.108\n",
      "digit 1 accuracy: 0.0895\n",
      "digit 2 accuracy: 0.1005\n",
      "digit 3 accuracy: 0.0985\n",
      "digit 4 accuracy: 0.099\n",
      "\n",
      "\n",
      "Training loss: 2.180, Training acc: 0.075\n",
      "Validation loss: 2.347, Validation acc: 0.000\n",
      "------------------------------------------------------------\n",
      "Epoch 13 of 50\n"
     ]
    },
    {
     "data": {
      "application/vnd.jupyter.widget-view+json": {
       "model_id": "51c58f06ee604e9985d1342e579cb6ea",
       "version_major": 2,
       "version_minor": 0
      },
      "text/plain": [
       "  0%|          | 0/250 [00:00<?, ?it/s]"
      ]
     },
     "metadata": {},
     "output_type": "display_data"
    },
    {
     "name": "stdout",
     "output_type": "stream",
     "text": [
      "digit 0 accuracy: 0.335\n",
      "digit 1 accuracy: 0.24125\n",
      "digit 2 accuracy: 0.24175\n",
      "digit 3 accuracy: 0.255625\n",
      "digit 4 accuracy: 0.227125\n",
      "Validation\n"
     ]
    },
    {
     "data": {
      "application/vnd.jupyter.widget-view+json": {
       "model_id": "6288862407c8484bba9a614674653d58",
       "version_major": 2,
       "version_minor": 0
      },
      "text/plain": [
       "  0%|          | 0/63 [00:00<?, ?it/s]"
      ]
     },
     "metadata": {},
     "output_type": "display_data"
    },
    {
     "name": "stdout",
     "output_type": "stream",
     "text": [
      "digit 0 accuracy: 0.1145\n",
      "digit 1 accuracy: 0.0855\n",
      "digit 2 accuracy: 0.095\n",
      "digit 3 accuracy: 0.099\n",
      "digit 4 accuracy: 0.1005\n",
      "\n",
      "\n",
      "Training loss: 2.162, Training acc: 0.050\n",
      "Validation loss: 2.353, Validation acc: 0.000\n",
      "------------------------------------------------------------\n",
      "Epoch 14 of 50\n"
     ]
    },
    {
     "data": {
      "application/vnd.jupyter.widget-view+json": {
       "model_id": "3ad6fc515f704db79ec61315eacd1933",
       "version_major": 2,
       "version_minor": 0
      },
      "text/plain": [
       "  0%|          | 0/250 [00:00<?, ?it/s]"
      ]
     },
     "metadata": {},
     "output_type": "display_data"
    },
    {
     "name": "stdout",
     "output_type": "stream",
     "text": [
      "digit 0 accuracy: 0.35\n",
      "digit 1 accuracy: 0.265375\n",
      "digit 2 accuracy: 0.260625\n",
      "digit 3 accuracy: 0.275125\n",
      "digit 4 accuracy: 0.246625\n",
      "Validation\n"
     ]
    },
    {
     "data": {
      "application/vnd.jupyter.widget-view+json": {
       "model_id": "8806b91cd07b44de83c96cb19b53c969",
       "version_major": 2,
       "version_minor": 0
      },
      "text/plain": [
       "  0%|          | 0/63 [00:00<?, ?it/s]"
      ]
     },
     "metadata": {},
     "output_type": "display_data"
    },
    {
     "name": "stdout",
     "output_type": "stream",
     "text": [
      "digit 0 accuracy: 0.116\n",
      "digit 1 accuracy: 0.089\n",
      "digit 2 accuracy: 0.0995\n",
      "digit 3 accuracy: 0.096\n",
      "digit 4 accuracy: 0.0925\n",
      "\n",
      "\n",
      "Training loss: 2.140, Training acc: 0.062\n",
      "Validation loss: 2.354, Validation acc: 0.000\n",
      "------------------------------------------------------------\n",
      "Epoch 15 of 50\n"
     ]
    },
    {
     "data": {
      "application/vnd.jupyter.widget-view+json": {
       "model_id": "6668438c929b4041b948649031524e86",
       "version_major": 2,
       "version_minor": 0
      },
      "text/plain": [
       "  0%|          | 0/250 [00:00<?, ?it/s]"
      ]
     },
     "metadata": {},
     "output_type": "display_data"
    },
    {
     "name": "stdout",
     "output_type": "stream",
     "text": [
      "digit 0 accuracy: 0.369125\n",
      "digit 1 accuracy: 0.282\n",
      "digit 2 accuracy: 0.275625\n",
      "digit 3 accuracy: 0.288125\n",
      "digit 4 accuracy: 0.25475\n",
      "Validation\n"
     ]
    },
    {
     "data": {
      "application/vnd.jupyter.widget-view+json": {
       "model_id": "fa945bcb5e4845b6a261422554f7b6c9",
       "version_major": 2,
       "version_minor": 0
      },
      "text/plain": [
       "  0%|          | 0/63 [00:00<?, ?it/s]"
      ]
     },
     "metadata": {},
     "output_type": "display_data"
    },
    {
     "name": "stdout",
     "output_type": "stream",
     "text": [
      "digit 0 accuracy: 0.098\n",
      "digit 1 accuracy: 0.091\n",
      "digit 2 accuracy: 0.1015\n",
      "digit 3 accuracy: 0.087\n",
      "digit 4 accuracy: 0.0915\n",
      "\n",
      "\n",
      "Training loss: 2.124, Training acc: 0.088\n",
      "Validation loss: 2.359, Validation acc: 0.000\n",
      "------------------------------------------------------------\n",
      "Epoch 16 of 50\n"
     ]
    },
    {
     "data": {
      "application/vnd.jupyter.widget-view+json": {
       "model_id": "04b1287a60cb47e184a09eec3dcb4be8",
       "version_major": 2,
       "version_minor": 0
      },
      "text/plain": [
       "  0%|          | 0/250 [00:00<?, ?it/s]"
      ]
     },
     "metadata": {},
     "output_type": "display_data"
    },
    {
     "name": "stdout",
     "output_type": "stream",
     "text": [
      "digit 0 accuracy: 0.375\n",
      "digit 1 accuracy: 0.299\n",
      "digit 2 accuracy: 0.28625\n",
      "digit 3 accuracy: 0.30225\n",
      "digit 4 accuracy: 0.268375\n",
      "Validation\n"
     ]
    },
    {
     "data": {
      "application/vnd.jupyter.widget-view+json": {
       "model_id": "88da4a2a6fa44fb9a512c80838a8f93e",
       "version_major": 2,
       "version_minor": 0
      },
      "text/plain": [
       "  0%|          | 0/63 [00:00<?, ?it/s]"
      ]
     },
     "metadata": {},
     "output_type": "display_data"
    },
    {
     "name": "stdout",
     "output_type": "stream",
     "text": [
      "digit 0 accuracy: 0.1035\n",
      "digit 1 accuracy: 0.092\n",
      "digit 2 accuracy: 0.11\n",
      "digit 3 accuracy: 0.1\n",
      "digit 4 accuracy: 0.0955\n",
      "\n",
      "\n",
      "Training loss: 2.110, Training acc: 0.037\n",
      "Validation loss: 2.362, Validation acc: 0.000\n",
      "------------------------------------------------------------\n",
      "Epoch 17 of 50\n"
     ]
    },
    {
     "data": {
      "application/vnd.jupyter.widget-view+json": {
       "model_id": "53c85e0cf9994a20b2ab5acc212c4972",
       "version_major": 2,
       "version_minor": 0
      },
      "text/plain": [
       "  0%|          | 0/250 [00:00<?, ?it/s]"
      ]
     },
     "metadata": {},
     "output_type": "display_data"
    },
    {
     "name": "stdout",
     "output_type": "stream",
     "text": [
      "digit 0 accuracy: 0.395875\n",
      "digit 1 accuracy: 0.309625\n",
      "digit 2 accuracy: 0.3025\n",
      "digit 3 accuracy: 0.31475\n",
      "digit 4 accuracy: 0.293625\n",
      "Validation\n"
     ]
    },
    {
     "data": {
      "application/vnd.jupyter.widget-view+json": {
       "model_id": "7aa22e1689a94f06b41d0055396cf64c",
       "version_major": 2,
       "version_minor": 0
      },
      "text/plain": [
       "  0%|          | 0/63 [00:00<?, ?it/s]"
      ]
     },
     "metadata": {},
     "output_type": "display_data"
    },
    {
     "name": "stdout",
     "output_type": "stream",
     "text": [
      "digit 0 accuracy: 0.107\n",
      "digit 1 accuracy: 0.089\n",
      "digit 2 accuracy: 0.102\n",
      "digit 3 accuracy: 0.104\n",
      "digit 4 accuracy: 0.1005\n",
      "\n",
      "\n",
      "Training loss: 2.091, Training acc: 0.150\n",
      "Validation loss: 2.363, Validation acc: 0.000\n",
      "------------------------------------------------------------\n",
      "Epoch 18 of 50\n"
     ]
    },
    {
     "data": {
      "application/vnd.jupyter.widget-view+json": {
       "model_id": "73590285f9324eaab4d9b006c15400bc",
       "version_major": 2,
       "version_minor": 0
      },
      "text/plain": [
       "  0%|          | 0/250 [00:00<?, ?it/s]"
      ]
     },
     "metadata": {},
     "output_type": "display_data"
    },
    {
     "name": "stdout",
     "output_type": "stream",
     "text": [
      "digit 0 accuracy: 0.406625\n",
      "digit 1 accuracy: 0.326375\n",
      "digit 2 accuracy: 0.313\n",
      "digit 3 accuracy: 0.339\n",
      "digit 4 accuracy: 0.306625\n",
      "Validation\n"
     ]
    },
    {
     "data": {
      "application/vnd.jupyter.widget-view+json": {
       "model_id": "0d9386861fb04c56b5fc7cb10ddbb37e",
       "version_major": 2,
       "version_minor": 0
      },
      "text/plain": [
       "  0%|          | 0/63 [00:00<?, ?it/s]"
      ]
     },
     "metadata": {},
     "output_type": "display_data"
    },
    {
     "name": "stdout",
     "output_type": "stream",
     "text": [
      "digit 0 accuracy: 0.115\n",
      "digit 1 accuracy: 0.0975\n",
      "digit 2 accuracy: 0.11\n",
      "digit 3 accuracy: 0.105\n",
      "digit 4 accuracy: 0.1\n",
      "\n",
      "\n",
      "Training loss: 2.078, Training acc: 0.150\n",
      "Validation loss: 2.361, Validation acc: 0.000\n",
      "------------------------------------------------------------\n",
      "Epoch 19 of 50\n"
     ]
    },
    {
     "data": {
      "application/vnd.jupyter.widget-view+json": {
       "model_id": "a905eda617bd4e91ab9c02a9aa764822",
       "version_major": 2,
       "version_minor": 0
      },
      "text/plain": [
       "  0%|          | 0/250 [00:00<?, ?it/s]"
      ]
     },
     "metadata": {},
     "output_type": "display_data"
    },
    {
     "name": "stdout",
     "output_type": "stream",
     "text": [
      "digit 0 accuracy: 0.404125\n",
      "digit 1 accuracy: 0.34375\n",
      "digit 2 accuracy: 0.333375\n",
      "digit 3 accuracy: 0.35375\n",
      "digit 4 accuracy: 0.317875\n",
      "Validation\n"
     ]
    },
    {
     "data": {
      "application/vnd.jupyter.widget-view+json": {
       "model_id": "7d4a2af8092e4b41823e16c69ccd0c0c",
       "version_major": 2,
       "version_minor": 0
      },
      "text/plain": [
       "  0%|          | 0/63 [00:00<?, ?it/s]"
      ]
     },
     "metadata": {},
     "output_type": "display_data"
    },
    {
     "name": "stdout",
     "output_type": "stream",
     "text": [
      "digit 0 accuracy: 0.1135\n",
      "digit 1 accuracy: 0.099\n",
      "digit 2 accuracy: 0.1015\n",
      "digit 3 accuracy: 0.0985\n",
      "digit 4 accuracy: 0.099\n",
      "\n",
      "\n",
      "Training loss: 2.062, Training acc: 0.175\n",
      "Validation loss: 2.360, Validation acc: 0.000\n",
      "------------------------------------------------------------\n",
      "Epoch 20 of 50\n"
     ]
    },
    {
     "data": {
      "application/vnd.jupyter.widget-view+json": {
       "model_id": "6522459bd699495baab4971926c4dba7",
       "version_major": 2,
       "version_minor": 0
      },
      "text/plain": [
       "  0%|          | 0/250 [00:00<?, ?it/s]"
      ]
     },
     "metadata": {},
     "output_type": "display_data"
    },
    {
     "name": "stdout",
     "output_type": "stream",
     "text": [
      "digit 0 accuracy: 0.422875\n",
      "digit 1 accuracy: 0.35075\n",
      "digit 2 accuracy: 0.3455\n",
      "digit 3 accuracy: 0.3705\n",
      "digit 4 accuracy: 0.330375\n",
      "Validation\n"
     ]
    },
    {
     "data": {
      "application/vnd.jupyter.widget-view+json": {
       "model_id": "beec2c71c1f54778958201b670a3e9f9",
       "version_major": 2,
       "version_minor": 0
      },
      "text/plain": [
       "  0%|          | 0/63 [00:00<?, ?it/s]"
      ]
     },
     "metadata": {},
     "output_type": "display_data"
    },
    {
     "name": "stdout",
     "output_type": "stream",
     "text": [
      "digit 0 accuracy: 0.0985\n",
      "digit 1 accuracy: 0.0955\n",
      "digit 2 accuracy: 0.0915\n",
      "digit 3 accuracy: 0.1\n",
      "digit 4 accuracy: 0.097\n",
      "\n",
      "\n",
      "Training loss: 2.048, Training acc: 0.225\n",
      "Validation loss: 2.362, Validation acc: 0.000\n",
      "------------------------------------------------------------\n",
      "Epoch 21 of 50\n"
     ]
    },
    {
     "data": {
      "application/vnd.jupyter.widget-view+json": {
       "model_id": "4361d788f6fa4132b8b94d3e22d0fd3c",
       "version_major": 2,
       "version_minor": 0
      },
      "text/plain": [
       "  0%|          | 0/250 [00:00<?, ?it/s]"
      ]
     },
     "metadata": {},
     "output_type": "display_data"
    },
    {
     "name": "stdout",
     "output_type": "stream",
     "text": [
      "digit 0 accuracy: 0.430625\n",
      "digit 1 accuracy: 0.366375\n",
      "digit 2 accuracy: 0.357625\n",
      "digit 3 accuracy: 0.370625\n",
      "digit 4 accuracy: 0.353875\n",
      "Validation\n"
     ]
    },
    {
     "data": {
      "application/vnd.jupyter.widget-view+json": {
       "model_id": "e71c10e24722432f860fd86a2a1dfcc0",
       "version_major": 2,
       "version_minor": 0
      },
      "text/plain": [
       "  0%|          | 0/63 [00:00<?, ?it/s]"
      ]
     },
     "metadata": {},
     "output_type": "display_data"
    },
    {
     "name": "stdout",
     "output_type": "stream",
     "text": [
      "digit 0 accuracy: 0.1075\n",
      "digit 1 accuracy: 0.0865\n",
      "digit 2 accuracy: 0.1025\n",
      "digit 3 accuracy: 0.1035\n",
      "digit 4 accuracy: 0.1035\n",
      "\n",
      "\n",
      "Training loss: 2.035, Training acc: 0.263\n",
      "Validation loss: 2.366, Validation acc: 0.000\n",
      "------------------------------------------------------------\n",
      "Epoch 22 of 50\n"
     ]
    },
    {
     "data": {
      "application/vnd.jupyter.widget-view+json": {
       "model_id": "63eecb73885d4e65bafcafbde1a1a2e1",
       "version_major": 2,
       "version_minor": 0
      },
      "text/plain": [
       "  0%|          | 0/250 [00:00<?, ?it/s]"
      ]
     },
     "metadata": {},
     "output_type": "display_data"
    },
    {
     "name": "stdout",
     "output_type": "stream",
     "text": [
      "digit 0 accuracy: 0.444875\n",
      "digit 1 accuracy: 0.383875\n",
      "digit 2 accuracy: 0.364\n",
      "digit 3 accuracy: 0.393375\n",
      "digit 4 accuracy: 0.362375\n",
      "Validation\n"
     ]
    },
    {
     "data": {
      "application/vnd.jupyter.widget-view+json": {
       "model_id": "e16e4cb0a1e246d88fc69a1a439cb7aa",
       "version_major": 2,
       "version_minor": 0
      },
      "text/plain": [
       "  0%|          | 0/63 [00:00<?, ?it/s]"
      ]
     },
     "metadata": {},
     "output_type": "display_data"
    },
    {
     "name": "stdout",
     "output_type": "stream",
     "text": [
      "digit 0 accuracy: 0.107\n",
      "digit 1 accuracy: 0.0935\n",
      "digit 2 accuracy: 0.0975\n",
      "digit 3 accuracy: 0.121\n",
      "digit 4 accuracy: 0.1035\n",
      "\n",
      "\n",
      "Training loss: 2.022, Training acc: 0.375\n",
      "Validation loss: 2.363, Validation acc: 0.000\n",
      "------------------------------------------------------------\n",
      "Epoch 23 of 50\n"
     ]
    },
    {
     "data": {
      "application/vnd.jupyter.widget-view+json": {
       "model_id": "a176eb3c939a47ce91a2a417548b715b",
       "version_major": 2,
       "version_minor": 0
      },
      "text/plain": [
       "  0%|          | 0/250 [00:00<?, ?it/s]"
      ]
     },
     "metadata": {},
     "output_type": "display_data"
    },
    {
     "name": "stdout",
     "output_type": "stream",
     "text": [
      "digit 0 accuracy: 0.467375\n",
      "digit 1 accuracy: 0.392375\n",
      "digit 2 accuracy: 0.392125\n",
      "digit 3 accuracy: 0.39975\n",
      "digit 4 accuracy: 0.37825\n",
      "Validation\n"
     ]
    },
    {
     "data": {
      "application/vnd.jupyter.widget-view+json": {
       "model_id": "354a940f43c24b7a83221e983af7f83f",
       "version_major": 2,
       "version_minor": 0
      },
      "text/plain": [
       "  0%|          | 0/63 [00:00<?, ?it/s]"
      ]
     },
     "metadata": {},
     "output_type": "display_data"
    },
    {
     "name": "stdout",
     "output_type": "stream",
     "text": [
      "digit 0 accuracy: 0.1075\n",
      "digit 1 accuracy: 0.101\n",
      "digit 2 accuracy: 0.1055\n",
      "digit 3 accuracy: 0.1035\n",
      "digit 4 accuracy: 0.105\n",
      "\n",
      "\n",
      "Training loss: 2.007, Training acc: 0.438\n",
      "Validation loss: 2.361, Validation acc: 0.000\n",
      "------------------------------------------------------------\n",
      "Epoch 24 of 50\n"
     ]
    },
    {
     "data": {
      "application/vnd.jupyter.widget-view+json": {
       "model_id": "86e6ab21ad00406eabe45b58ceb5bc34",
       "version_major": 2,
       "version_minor": 0
      },
      "text/plain": [
       "  0%|          | 0/250 [00:00<?, ?it/s]"
      ]
     },
     "metadata": {},
     "output_type": "display_data"
    },
    {
     "name": "stdout",
     "output_type": "stream",
     "text": [
      "digit 0 accuracy: 0.467875\n",
      "digit 1 accuracy: 0.404125\n",
      "digit 2 accuracy: 0.404375\n",
      "digit 3 accuracy: 0.416\n",
      "digit 4 accuracy: 0.393375\n",
      "Validation\n"
     ]
    },
    {
     "data": {
      "application/vnd.jupyter.widget-view+json": {
       "model_id": "7192aafe69524b44b13de796bada3232",
       "version_major": 2,
       "version_minor": 0
      },
      "text/plain": [
       "  0%|          | 0/63 [00:00<?, ?it/s]"
      ]
     },
     "metadata": {},
     "output_type": "display_data"
    },
    {
     "name": "stdout",
     "output_type": "stream",
     "text": [
      "digit 0 accuracy: 0.097\n",
      "digit 1 accuracy: 0.094\n",
      "digit 2 accuracy: 0.1045\n",
      "digit 3 accuracy: 0.114\n",
      "digit 4 accuracy: 0.107\n",
      "\n",
      "\n",
      "Training loss: 1.997, Training acc: 0.475\n",
      "Validation loss: 2.367, Validation acc: 0.000\n",
      "------------------------------------------------------------\n",
      "Epoch 25 of 50\n"
     ]
    },
    {
     "data": {
      "application/vnd.jupyter.widget-view+json": {
       "model_id": "7cbf518370684cdc9c17e17c3112ae60",
       "version_major": 2,
       "version_minor": 0
      },
      "text/plain": [
       "  0%|          | 0/250 [00:00<?, ?it/s]"
      ]
     },
     "metadata": {},
     "output_type": "display_data"
    },
    {
     "name": "stdout",
     "output_type": "stream",
     "text": [
      "digit 0 accuracy: 0.467\n",
      "digit 1 accuracy: 0.42775\n",
      "digit 2 accuracy: 0.412875\n",
      "digit 3 accuracy: 0.4225\n",
      "digit 4 accuracy: 0.406875\n",
      "Validation\n"
     ]
    },
    {
     "data": {
      "application/vnd.jupyter.widget-view+json": {
       "model_id": "b918cbbf7b4b4702b779c5c4059da931",
       "version_major": 2,
       "version_minor": 0
      },
      "text/plain": [
       "  0%|          | 0/63 [00:00<?, ?it/s]"
      ]
     },
     "metadata": {},
     "output_type": "display_data"
    },
    {
     "name": "stdout",
     "output_type": "stream",
     "text": [
      "digit 0 accuracy: 0.104\n",
      "digit 1 accuracy: 0.102\n",
      "digit 2 accuracy: 0.105\n",
      "digit 3 accuracy: 0.1005\n",
      "digit 4 accuracy: 0.114\n",
      "\n",
      "\n",
      "Training loss: 1.986, Training acc: 0.513\n",
      "Validation loss: 2.366, Validation acc: 0.000\n",
      "------------------------------------------------------------\n",
      "Epoch 26 of 50\n"
     ]
    },
    {
     "data": {
      "application/vnd.jupyter.widget-view+json": {
       "model_id": "7230783502a04bd38a38bbdf1ee452a2",
       "version_major": 2,
       "version_minor": 0
      },
      "text/plain": [
       "  0%|          | 0/250 [00:00<?, ?it/s]"
      ]
     },
     "metadata": {},
     "output_type": "display_data"
    },
    {
     "name": "stdout",
     "output_type": "stream",
     "text": [
      "digit 0 accuracy: 0.47975\n",
      "digit 1 accuracy: 0.44225\n",
      "digit 2 accuracy: 0.41875\n",
      "digit 3 accuracy: 0.43475\n",
      "digit 4 accuracy: 0.4125\n",
      "Validation\n"
     ]
    },
    {
     "data": {
      "application/vnd.jupyter.widget-view+json": {
       "model_id": "0ad22f74a9534fa8a838b1f577573148",
       "version_major": 2,
       "version_minor": 0
      },
      "text/plain": [
       "  0%|          | 0/63 [00:00<?, ?it/s]"
      ]
     },
     "metadata": {},
     "output_type": "display_data"
    },
    {
     "name": "stdout",
     "output_type": "stream",
     "text": [
      "digit 0 accuracy: 0.1025\n",
      "digit 1 accuracy: 0.098\n",
      "digit 2 accuracy: 0.1055\n",
      "digit 3 accuracy: 0.0945\n",
      "digit 4 accuracy: 0.1135\n",
      "\n",
      "\n",
      "Training loss: 1.975, Training acc: 0.675\n",
      "Validation loss: 2.365, Validation acc: 0.000\n",
      "------------------------------------------------------------\n",
      "Epoch 27 of 50\n"
     ]
    },
    {
     "data": {
      "application/vnd.jupyter.widget-view+json": {
       "model_id": "5adc03d980eb41759c88ba0be5e00751",
       "version_major": 2,
       "version_minor": 0
      },
      "text/plain": [
       "  0%|          | 0/250 [00:00<?, ?it/s]"
      ]
     },
     "metadata": {},
     "output_type": "display_data"
    },
    {
     "name": "stdout",
     "output_type": "stream",
     "text": [
      "digit 0 accuracy: 0.491625\n",
      "digit 1 accuracy: 0.4455\n",
      "digit 2 accuracy: 0.4325\n",
      "digit 3 accuracy: 0.450375\n",
      "digit 4 accuracy: 0.42625\n",
      "Validation\n"
     ]
    },
    {
     "data": {
      "application/vnd.jupyter.widget-view+json": {
       "model_id": "0e2b434b4a1f454a95c5b7d549b5c518",
       "version_major": 2,
       "version_minor": 0
      },
      "text/plain": [
       "  0%|          | 0/63 [00:00<?, ?it/s]"
      ]
     },
     "metadata": {},
     "output_type": "display_data"
    },
    {
     "name": "stdout",
     "output_type": "stream",
     "text": [
      "digit 0 accuracy: 0.0975\n",
      "digit 1 accuracy: 0.094\n",
      "digit 2 accuracy: 0.1015\n",
      "digit 3 accuracy: 0.1155\n",
      "digit 4 accuracy: 0.0945\n",
      "\n",
      "\n",
      "Training loss: 1.967, Training acc: 0.713\n",
      "Validation loss: 2.367, Validation acc: 0.000\n",
      "------------------------------------------------------------\n",
      "Epoch 28 of 50\n"
     ]
    },
    {
     "data": {
      "application/vnd.jupyter.widget-view+json": {
       "model_id": "0387b5ebbeae4e97b90447404373aa4d",
       "version_major": 2,
       "version_minor": 0
      },
      "text/plain": [
       "  0%|          | 0/250 [00:00<?, ?it/s]"
      ]
     },
     "metadata": {},
     "output_type": "display_data"
    },
    {
     "name": "stdout",
     "output_type": "stream",
     "text": [
      "digit 0 accuracy: 0.501125\n",
      "digit 1 accuracy: 0.458375\n",
      "digit 2 accuracy: 0.44525\n",
      "digit 3 accuracy: 0.45475\n",
      "digit 4 accuracy: 0.444\n",
      "Validation\n"
     ]
    },
    {
     "data": {
      "application/vnd.jupyter.widget-view+json": {
       "model_id": "f840c8aee9004fb7ab73396b3f4a0aa1",
       "version_major": 2,
       "version_minor": 0
      },
      "text/plain": [
       "  0%|          | 0/63 [00:00<?, ?it/s]"
      ]
     },
     "metadata": {},
     "output_type": "display_data"
    },
    {
     "name": "stdout",
     "output_type": "stream",
     "text": [
      "digit 0 accuracy: 0.0995\n",
      "digit 1 accuracy: 0.098\n",
      "digit 2 accuracy: 0.0995\n",
      "digit 3 accuracy: 0.1005\n",
      "digit 4 accuracy: 0.105\n",
      "\n",
      "\n",
      "Training loss: 1.958, Training acc: 1.000\n",
      "Validation loss: 2.368, Validation acc: 0.000\n",
      "------------------------------------------------------------\n",
      "Epoch 29 of 50\n"
     ]
    },
    {
     "data": {
      "application/vnd.jupyter.widget-view+json": {
       "model_id": "2cf725eee1a14442af810d4e0b327983",
       "version_major": 2,
       "version_minor": 0
      },
      "text/plain": [
       "  0%|          | 0/250 [00:00<?, ?it/s]"
      ]
     },
     "metadata": {},
     "output_type": "display_data"
    },
    {
     "name": "stdout",
     "output_type": "stream",
     "text": [
      "digit 0 accuracy: 0.5035\n",
      "digit 1 accuracy: 0.466875\n",
      "digit 2 accuracy: 0.451625\n",
      "digit 3 accuracy: 0.46025\n",
      "digit 4 accuracy: 0.443375\n",
      "Validation\n"
     ]
    },
    {
     "data": {
      "application/vnd.jupyter.widget-view+json": {
       "model_id": "5b0507e6045e42bda0623084db4b4106",
       "version_major": 2,
       "version_minor": 0
      },
      "text/plain": [
       "  0%|          | 0/63 [00:00<?, ?it/s]"
      ]
     },
     "metadata": {},
     "output_type": "display_data"
    },
    {
     "name": "stdout",
     "output_type": "stream",
     "text": [
      "digit 0 accuracy: 0.1105\n",
      "digit 1 accuracy: 0.1\n",
      "digit 2 accuracy: 0.098\n",
      "digit 3 accuracy: 0.1\n",
      "digit 4 accuracy: 0.102\n",
      "\n",
      "\n",
      "Training loss: 1.950, Training acc: 0.812\n",
      "Validation loss: 2.366, Validation acc: 0.000\n",
      "------------------------------------------------------------\n",
      "Epoch 30 of 50\n"
     ]
    },
    {
     "data": {
      "application/vnd.jupyter.widget-view+json": {
       "model_id": "0ca2a552af1741fab4ef15ef00f1eae9",
       "version_major": 2,
       "version_minor": 0
      },
      "text/plain": [
       "  0%|          | 0/250 [00:00<?, ?it/s]"
      ]
     },
     "metadata": {},
     "output_type": "display_data"
    },
    {
     "name": "stdout",
     "output_type": "stream",
     "text": [
      "digit 0 accuracy: 0.517625\n",
      "digit 1 accuracy: 0.46975\n",
      "digit 2 accuracy: 0.472\n",
      "digit 3 accuracy: 0.474\n",
      "digit 4 accuracy: 0.454625\n",
      "Validation\n"
     ]
    },
    {
     "data": {
      "application/vnd.jupyter.widget-view+json": {
       "model_id": "a380aabaf76a491098aa1252d16b5ba2",
       "version_major": 2,
       "version_minor": 0
      },
      "text/plain": [
       "  0%|          | 0/63 [00:00<?, ?it/s]"
      ]
     },
     "metadata": {},
     "output_type": "display_data"
    },
    {
     "name": "stdout",
     "output_type": "stream",
     "text": [
      "digit 0 accuracy: 0.097\n",
      "digit 1 accuracy: 0.095\n",
      "digit 2 accuracy: 0.097\n",
      "digit 3 accuracy: 0.09\n",
      "digit 4 accuracy: 0.1055\n",
      "\n",
      "\n",
      "Training loss: 1.941, Training acc: 0.988\n",
      "Validation loss: 2.371, Validation acc: 0.000\n",
      "------------------------------------------------------------\n",
      "Epoch 31 of 50\n"
     ]
    },
    {
     "data": {
      "application/vnd.jupyter.widget-view+json": {
       "model_id": "96f2393ef4154e23883410b6b512b2b4",
       "version_major": 2,
       "version_minor": 0
      },
      "text/plain": [
       "  0%|          | 0/250 [00:00<?, ?it/s]"
      ]
     },
     "metadata": {},
     "output_type": "display_data"
    },
    {
     "name": "stdout",
     "output_type": "stream",
     "text": [
      "digit 0 accuracy: 0.518875\n",
      "digit 1 accuracy: 0.4765\n",
      "digit 2 accuracy: 0.47925\n",
      "digit 3 accuracy: 0.47875\n",
      "digit 4 accuracy: 0.461875\n",
      "Validation\n"
     ]
    },
    {
     "data": {
      "application/vnd.jupyter.widget-view+json": {
       "model_id": "32a67e2d78cc457b95ff32d8e083ecec",
       "version_major": 2,
       "version_minor": 0
      },
      "text/plain": [
       "  0%|          | 0/63 [00:00<?, ?it/s]"
      ]
     },
     "metadata": {},
     "output_type": "display_data"
    },
    {
     "name": "stdout",
     "output_type": "stream",
     "text": [
      "digit 0 accuracy: 0.0935\n",
      "digit 1 accuracy: 0.1015\n",
      "digit 2 accuracy: 0.1115\n",
      "digit 3 accuracy: 0.111\n",
      "digit 4 accuracy: 0.1075\n",
      "\n",
      "\n",
      "Training loss: 1.934, Training acc: 1.175\n",
      "Validation loss: 2.367, Validation acc: 0.000\n",
      "------------------------------------------------------------\n",
      "Epoch 32 of 50\n"
     ]
    },
    {
     "data": {
      "application/vnd.jupyter.widget-view+json": {
       "model_id": "a4683d7accb64c6b9361da2999224a16",
       "version_major": 2,
       "version_minor": 0
      },
      "text/plain": [
       "  0%|          | 0/250 [00:00<?, ?it/s]"
      ]
     },
     "metadata": {},
     "output_type": "display_data"
    },
    {
     "name": "stdout",
     "output_type": "stream",
     "text": [
      "digit 0 accuracy: 0.530375\n",
      "digit 1 accuracy: 0.48225\n",
      "digit 2 accuracy: 0.4885\n",
      "digit 3 accuracy: 0.486\n",
      "digit 4 accuracy: 0.475125\n",
      "Validation\n"
     ]
    },
    {
     "data": {
      "application/vnd.jupyter.widget-view+json": {
       "model_id": "f56ef9627121427dbf3916c017e293b7",
       "version_major": 2,
       "version_minor": 0
      },
      "text/plain": [
       "  0%|          | 0/63 [00:00<?, ?it/s]"
      ]
     },
     "metadata": {},
     "output_type": "display_data"
    },
    {
     "name": "stdout",
     "output_type": "stream",
     "text": [
      "digit 0 accuracy: 0.1125\n",
      "digit 1 accuracy: 0.105\n",
      "digit 2 accuracy: 0.094\n",
      "digit 3 accuracy: 0.113\n",
      "digit 4 accuracy: 0.116\n",
      "\n",
      "\n",
      "Training loss: 1.926, Training acc: 1.225\n",
      "Validation loss: 2.365, Validation acc: 0.000\n",
      "------------------------------------------------------------\n",
      "Epoch 33 of 50\n"
     ]
    },
    {
     "data": {
      "application/vnd.jupyter.widget-view+json": {
       "model_id": "7f56c51fbffb437c92d1c3ac312e977f",
       "version_major": 2,
       "version_minor": 0
      },
      "text/plain": [
       "  0%|          | 0/250 [00:00<?, ?it/s]"
      ]
     },
     "metadata": {},
     "output_type": "display_data"
    },
    {
     "name": "stdout",
     "output_type": "stream",
     "text": [
      "digit 0 accuracy: 0.536625\n",
      "digit 1 accuracy: 0.49225\n",
      "digit 2 accuracy: 0.495875\n",
      "digit 3 accuracy: 0.497875\n",
      "digit 4 accuracy: 0.48575\n",
      "Validation\n"
     ]
    },
    {
     "data": {
      "application/vnd.jupyter.widget-view+json": {
       "model_id": "048b8bac74024166aa4427a1e22b7c67",
       "version_major": 2,
       "version_minor": 0
      },
      "text/plain": [
       "  0%|          | 0/63 [00:00<?, ?it/s]"
      ]
     },
     "metadata": {},
     "output_type": "display_data"
    },
    {
     "name": "stdout",
     "output_type": "stream",
     "text": [
      "digit 0 accuracy: 0.1085\n",
      "digit 1 accuracy: 0.088\n",
      "digit 2 accuracy: 0.105\n",
      "digit 3 accuracy: 0.103\n",
      "digit 4 accuracy: 0.105\n",
      "\n",
      "\n",
      "Training loss: 1.921, Training acc: 1.587\n",
      "Validation loss: 2.368, Validation acc: 0.000\n",
      "------------------------------------------------------------\n",
      "Epoch 34 of 50\n"
     ]
    },
    {
     "data": {
      "application/vnd.jupyter.widget-view+json": {
       "model_id": "76f741d679f24baba0e7482ea7748116",
       "version_major": 2,
       "version_minor": 0
      },
      "text/plain": [
       "  0%|          | 0/250 [00:00<?, ?it/s]"
      ]
     },
     "metadata": {},
     "output_type": "display_data"
    },
    {
     "name": "stdout",
     "output_type": "stream",
     "text": [
      "digit 0 accuracy: 0.545125\n",
      "digit 1 accuracy: 0.50725\n",
      "digit 2 accuracy: 0.503125\n",
      "digit 3 accuracy: 0.50125\n",
      "digit 4 accuracy: 0.496375\n",
      "Validation\n"
     ]
    },
    {
     "data": {
      "application/vnd.jupyter.widget-view+json": {
       "model_id": "41803304472a49dda9b9c8e9859e9547",
       "version_major": 2,
       "version_minor": 0
      },
      "text/plain": [
       "  0%|          | 0/63 [00:00<?, ?it/s]"
      ]
     },
     "metadata": {},
     "output_type": "display_data"
    },
    {
     "name": "stdout",
     "output_type": "stream",
     "text": [
      "digit 0 accuracy: 0.105\n",
      "digit 1 accuracy: 0.099\n",
      "digit 2 accuracy: 0.1055\n",
      "digit 3 accuracy: 0.11\n",
      "digit 4 accuracy: 0.1045\n",
      "\n",
      "\n",
      "Training loss: 1.913, Training acc: 1.850\n",
      "Validation loss: 2.367, Validation acc: 0.000\n",
      "------------------------------------------------------------\n",
      "Epoch 35 of 50\n"
     ]
    },
    {
     "data": {
      "application/vnd.jupyter.widget-view+json": {
       "model_id": "b439f318c26e4a68b9af83b400e0973a",
       "version_major": 2,
       "version_minor": 0
      },
      "text/plain": [
       "  0%|          | 0/250 [00:00<?, ?it/s]"
      ]
     },
     "metadata": {},
     "output_type": "display_data"
    },
    {
     "name": "stdout",
     "output_type": "stream",
     "text": [
      "digit 0 accuracy: 0.55125\n",
      "digit 1 accuracy: 0.503625\n",
      "digit 2 accuracy: 0.507125\n",
      "digit 3 accuracy: 0.5085\n",
      "digit 4 accuracy: 0.50125\n",
      "Validation\n"
     ]
    },
    {
     "data": {
      "application/vnd.jupyter.widget-view+json": {
       "model_id": "95d101f4d8734f198522563fdb6a88b3",
       "version_major": 2,
       "version_minor": 0
      },
      "text/plain": [
       "  0%|          | 0/63 [00:00<?, ?it/s]"
      ]
     },
     "metadata": {},
     "output_type": "display_data"
    },
    {
     "name": "stdout",
     "output_type": "stream",
     "text": [
      "digit 0 accuracy: 0.102\n",
      "digit 1 accuracy: 0.094\n",
      "digit 2 accuracy: 0.0975\n",
      "digit 3 accuracy: 0.102\n",
      "digit 4 accuracy: 0.104\n",
      "\n",
      "\n",
      "Training loss: 1.908, Training acc: 1.725\n",
      "Validation loss: 2.369, Validation acc: 0.000\n",
      "------------------------------------------------------------\n",
      "Epoch 36 of 50\n"
     ]
    },
    {
     "data": {
      "application/vnd.jupyter.widget-view+json": {
       "model_id": "419c49c7288f411c8ea4714d9c8340fc",
       "version_major": 2,
       "version_minor": 0
      },
      "text/plain": [
       "  0%|          | 0/250 [00:00<?, ?it/s]"
      ]
     },
     "metadata": {},
     "output_type": "display_data"
    },
    {
     "name": "stdout",
     "output_type": "stream",
     "text": [
      "digit 0 accuracy: 0.561625\n",
      "digit 1 accuracy: 0.508625\n",
      "digit 2 accuracy: 0.5205\n",
      "digit 3 accuracy: 0.51725\n",
      "digit 4 accuracy: 0.506625\n",
      "Validation\n"
     ]
    },
    {
     "data": {
      "application/vnd.jupyter.widget-view+json": {
       "model_id": "596917643e504bf7917c7657f6679087",
       "version_major": 2,
       "version_minor": 0
      },
      "text/plain": [
       "  0%|          | 0/63 [00:00<?, ?it/s]"
      ]
     },
     "metadata": {},
     "output_type": "display_data"
    },
    {
     "name": "stdout",
     "output_type": "stream",
     "text": [
      "digit 0 accuracy: 0.1005\n",
      "digit 1 accuracy: 0.0995\n",
      "digit 2 accuracy: 0.0965\n",
      "digit 3 accuracy: 0.1055\n",
      "digit 4 accuracy: 0.108\n",
      "\n",
      "\n",
      "Training loss: 1.903, Training acc: 1.962\n",
      "Validation loss: 2.369, Validation acc: 0.000\n",
      "------------------------------------------------------------\n",
      "Epoch 37 of 50\n"
     ]
    },
    {
     "data": {
      "application/vnd.jupyter.widget-view+json": {
       "model_id": "46949144250a45d6b31cf8b0d9bb4dda",
       "version_major": 2,
       "version_minor": 0
      },
      "text/plain": [
       "  0%|          | 0/250 [00:00<?, ?it/s]"
      ]
     },
     "metadata": {},
     "output_type": "display_data"
    },
    {
     "name": "stdout",
     "output_type": "stream",
     "text": [
      "digit 0 accuracy: 0.570125\n",
      "digit 1 accuracy: 0.518625\n",
      "digit 2 accuracy: 0.531625\n",
      "digit 3 accuracy: 0.523375\n",
      "digit 4 accuracy: 0.513625\n",
      "Validation\n"
     ]
    },
    {
     "data": {
      "application/vnd.jupyter.widget-view+json": {
       "model_id": "49c420d5c65b466da7cbc389a7ab744e",
       "version_major": 2,
       "version_minor": 0
      },
      "text/plain": [
       "  0%|          | 0/63 [00:00<?, ?it/s]"
      ]
     },
     "metadata": {},
     "output_type": "display_data"
    },
    {
     "name": "stdout",
     "output_type": "stream",
     "text": [
      "digit 0 accuracy: 0.101\n",
      "digit 1 accuracy: 0.0865\n",
      "digit 2 accuracy: 0.103\n",
      "digit 3 accuracy: 0.106\n",
      "digit 4 accuracy: 0.104\n",
      "\n",
      "\n",
      "Training loss: 1.899, Training acc: 2.113\n",
      "Validation loss: 2.371, Validation acc: 0.000\n",
      "------------------------------------------------------------\n",
      "Epoch 38 of 50\n"
     ]
    },
    {
     "data": {
      "application/vnd.jupyter.widget-view+json": {
       "model_id": "9f906a72cc354b419ab67c20e5d0836c",
       "version_major": 2,
       "version_minor": 0
      },
      "text/plain": [
       "  0%|          | 0/250 [00:00<?, ?it/s]"
      ]
     },
     "metadata": {},
     "output_type": "display_data"
    },
    {
     "name": "stdout",
     "output_type": "stream",
     "text": [
      "digit 0 accuracy: 0.576875\n",
      "digit 1 accuracy: 0.529625\n",
      "digit 2 accuracy: 0.523875\n",
      "digit 3 accuracy: 0.5295\n",
      "digit 4 accuracy: 0.522375\n",
      "Validation\n"
     ]
    },
    {
     "data": {
      "application/vnd.jupyter.widget-view+json": {
       "model_id": "3c861430af0647aba6293ef5321afa73",
       "version_major": 2,
       "version_minor": 0
      },
      "text/plain": [
       "  0%|          | 0/63 [00:00<?, ?it/s]"
      ]
     },
     "metadata": {},
     "output_type": "display_data"
    },
    {
     "name": "stdout",
     "output_type": "stream",
     "text": [
      "digit 0 accuracy: 0.102\n",
      "digit 1 accuracy: 0.091\n",
      "digit 2 accuracy: 0.1055\n",
      "digit 3 accuracy: 0.1065\n",
      "digit 4 accuracy: 0.1035\n",
      "\n",
      "\n",
      "Training loss: 1.895, Training acc: 2.288\n",
      "Validation loss: 2.373, Validation acc: 0.000\n",
      "------------------------------------------------------------\n",
      "Epoch 39 of 50\n"
     ]
    },
    {
     "data": {
      "application/vnd.jupyter.widget-view+json": {
       "model_id": "e4e923473b2949719c7f21f865934d73",
       "version_major": 2,
       "version_minor": 0
      },
      "text/plain": [
       "  0%|          | 0/250 [00:00<?, ?it/s]"
      ]
     },
     "metadata": {},
     "output_type": "display_data"
    },
    {
     "name": "stdout",
     "output_type": "stream",
     "text": [
      "digit 0 accuracy: 0.581125\n",
      "digit 1 accuracy: 0.533\n",
      "digit 2 accuracy: 0.532875\n",
      "digit 3 accuracy: 0.538\n",
      "digit 4 accuracy: 0.534125\n",
      "Validation\n"
     ]
    },
    {
     "data": {
      "application/vnd.jupyter.widget-view+json": {
       "model_id": "c539c50601ea43099fb158e869f58304",
       "version_major": 2,
       "version_minor": 0
      },
      "text/plain": [
       "  0%|          | 0/63 [00:00<?, ?it/s]"
      ]
     },
     "metadata": {},
     "output_type": "display_data"
    },
    {
     "name": "stdout",
     "output_type": "stream",
     "text": [
      "digit 0 accuracy: 0.102\n",
      "digit 1 accuracy: 0.101\n",
      "digit 2 accuracy: 0.0995\n",
      "digit 3 accuracy: 0.1075\n",
      "digit 4 accuracy: 0.0975\n",
      "\n",
      "\n",
      "Training loss: 1.890, Training acc: 2.188\n",
      "Validation loss: 2.372, Validation acc: 0.000\n",
      "------------------------------------------------------------\n",
      "Epoch 40 of 50\n"
     ]
    },
    {
     "data": {
      "application/vnd.jupyter.widget-view+json": {
       "model_id": "5206d8cc60174febbfb7dc309f3d0cae",
       "version_major": 2,
       "version_minor": 0
      },
      "text/plain": [
       "  0%|          | 0/250 [00:00<?, ?it/s]"
      ]
     },
     "metadata": {},
     "output_type": "display_data"
    },
    {
     "name": "stdout",
     "output_type": "stream",
     "text": [
      "digit 0 accuracy: 0.590625\n",
      "digit 1 accuracy: 0.539125\n",
      "digit 2 accuracy: 0.547625\n",
      "digit 3 accuracy: 0.5485\n",
      "digit 4 accuracy: 0.537875\n",
      "Validation\n"
     ]
    },
    {
     "data": {
      "application/vnd.jupyter.widget-view+json": {
       "model_id": "9e17394a0f744534b3e859814208fe7d",
       "version_major": 2,
       "version_minor": 0
      },
      "text/plain": [
       "  0%|          | 0/63 [00:00<?, ?it/s]"
      ]
     },
     "metadata": {},
     "output_type": "display_data"
    },
    {
     "name": "stdout",
     "output_type": "stream",
     "text": [
      "digit 0 accuracy: 0.0995\n",
      "digit 1 accuracy: 0.097\n",
      "digit 2 accuracy: 0.089\n",
      "digit 3 accuracy: 0.1015\n",
      "digit 4 accuracy: 0.102\n",
      "\n",
      "\n",
      "Training loss: 1.885, Training acc: 2.525\n",
      "Validation loss: 2.371, Validation acc: 0.000\n",
      "------------------------------------------------------------\n",
      "Epoch 41 of 50\n"
     ]
    },
    {
     "data": {
      "application/vnd.jupyter.widget-view+json": {
       "model_id": "5a3415f589da405f959c92129977aa3a",
       "version_major": 2,
       "version_minor": 0
      },
      "text/plain": [
       "  0%|          | 0/250 [00:00<?, ?it/s]"
      ]
     },
     "metadata": {},
     "output_type": "display_data"
    },
    {
     "name": "stdout",
     "output_type": "stream",
     "text": [
      "digit 0 accuracy: 0.596375\n",
      "digit 1 accuracy: 0.55125\n",
      "digit 2 accuracy: 0.54625\n",
      "digit 3 accuracy: 0.546875\n",
      "digit 4 accuracy: 0.542125\n",
      "Validation\n"
     ]
    },
    {
     "data": {
      "application/vnd.jupyter.widget-view+json": {
       "model_id": "5d5f0ec9c75c4444b00efd85ef5734b8",
       "version_major": 2,
       "version_minor": 0
      },
      "text/plain": [
       "  0%|          | 0/63 [00:00<?, ?it/s]"
      ]
     },
     "metadata": {},
     "output_type": "display_data"
    },
    {
     "name": "stdout",
     "output_type": "stream",
     "text": [
      "digit 0 accuracy: 0.1075\n",
      "digit 1 accuracy: 0.0985\n",
      "digit 2 accuracy: 0.101\n",
      "digit 3 accuracy: 0.102\n",
      "digit 4 accuracy: 0.1\n",
      "\n",
      "\n",
      "Training loss: 1.881, Training acc: 2.775\n",
      "Validation loss: 2.372, Validation acc: 0.000\n",
      "------------------------------------------------------------\n",
      "Epoch 42 of 50\n"
     ]
    },
    {
     "data": {
      "application/vnd.jupyter.widget-view+json": {
       "model_id": "d29f442fb0a14d1199ab73c87fe7859b",
       "version_major": 2,
       "version_minor": 0
      },
      "text/plain": [
       "  0%|          | 0/250 [00:00<?, ?it/s]"
      ]
     },
     "metadata": {},
     "output_type": "display_data"
    },
    {
     "name": "stdout",
     "output_type": "stream",
     "text": [
      "digit 0 accuracy: 0.597375\n",
      "digit 1 accuracy: 0.557\n",
      "digit 2 accuracy: 0.564375\n",
      "digit 3 accuracy: 0.5585\n",
      "digit 4 accuracy: 0.55175\n",
      "Validation\n"
     ]
    },
    {
     "data": {
      "application/vnd.jupyter.widget-view+json": {
       "model_id": "9b96b533605943b6a5cf986faafdfccd",
       "version_major": 2,
       "version_minor": 0
      },
      "text/plain": [
       "  0%|          | 0/63 [00:00<?, ?it/s]"
      ]
     },
     "metadata": {},
     "output_type": "display_data"
    },
    {
     "name": "stdout",
     "output_type": "stream",
     "text": [
      "digit 0 accuracy: 0.106\n",
      "digit 1 accuracy: 0.0975\n",
      "digit 2 accuracy: 0.1005\n",
      "digit 3 accuracy: 0.109\n",
      "digit 4 accuracy: 0.0945\n",
      "\n",
      "\n",
      "Training loss: 1.877, Training acc: 3.200\n",
      "Validation loss: 2.368, Validation acc: 0.000\n",
      "------------------------------------------------------------\n",
      "Epoch 43 of 50\n"
     ]
    },
    {
     "data": {
      "application/vnd.jupyter.widget-view+json": {
       "model_id": "1eeea0802ff84e5fbf4dc05db119a04b",
       "version_major": 2,
       "version_minor": 0
      },
      "text/plain": [
       "  0%|          | 0/250 [00:00<?, ?it/s]"
      ]
     },
     "metadata": {},
     "output_type": "display_data"
    },
    {
     "name": "stdout",
     "output_type": "stream",
     "text": [
      "digit 0 accuracy: 0.601375\n",
      "digit 1 accuracy: 0.565625\n",
      "digit 2 accuracy: 0.5665\n",
      "digit 3 accuracy: 0.558875\n",
      "digit 4 accuracy: 0.55275\n",
      "Validation\n"
     ]
    },
    {
     "data": {
      "application/vnd.jupyter.widget-view+json": {
       "model_id": "fbfbc05534ec4a158ac7bb0d692e76e0",
       "version_major": 2,
       "version_minor": 0
      },
      "text/plain": [
       "  0%|          | 0/63 [00:00<?, ?it/s]"
      ]
     },
     "metadata": {},
     "output_type": "display_data"
    },
    {
     "name": "stdout",
     "output_type": "stream",
     "text": [
      "digit 0 accuracy: 0.104\n",
      "digit 1 accuracy: 0.099\n",
      "digit 2 accuracy: 0.098\n",
      "digit 3 accuracy: 0.1095\n",
      "digit 4 accuracy: 0.1025\n",
      "\n",
      "\n",
      "Training loss: 1.875, Training acc: 2.938\n",
      "Validation loss: 2.368, Validation acc: 0.000\n",
      "------------------------------------------------------------\n",
      "Epoch 44 of 50\n"
     ]
    },
    {
     "data": {
      "application/vnd.jupyter.widget-view+json": {
       "model_id": "a31eb1a00ee84509a8e1d45d5bb03622",
       "version_major": 2,
       "version_minor": 0
      },
      "text/plain": [
       "  0%|          | 0/250 [00:00<?, ?it/s]"
      ]
     },
     "metadata": {},
     "output_type": "display_data"
    },
    {
     "name": "stdout",
     "output_type": "stream",
     "text": [
      "digit 0 accuracy: 0.6105\n",
      "digit 1 accuracy: 0.567125\n",
      "digit 2 accuracy: 0.5685\n",
      "digit 3 accuracy: 0.571\n",
      "digit 4 accuracy: 0.562625\n",
      "Validation\n"
     ]
    },
    {
     "data": {
      "application/vnd.jupyter.widget-view+json": {
       "model_id": "e88bebbc8f2947f296399e2cc9f239d3",
       "version_major": 2,
       "version_minor": 0
      },
      "text/plain": [
       "  0%|          | 0/63 [00:00<?, ?it/s]"
      ]
     },
     "metadata": {},
     "output_type": "display_data"
    },
    {
     "name": "stdout",
     "output_type": "stream",
     "text": [
      "digit 0 accuracy: 0.1085\n",
      "digit 1 accuracy: 0.101\n",
      "digit 2 accuracy: 0.105\n",
      "digit 3 accuracy: 0.1075\n",
      "digit 4 accuracy: 0.1015\n",
      "\n",
      "\n",
      "Training loss: 1.872, Training acc: 3.275\n",
      "Validation loss: 2.368, Validation acc: 0.050\n",
      "------------------------------------------------------------\n",
      "Epoch 45 of 50\n"
     ]
    },
    {
     "data": {
      "application/vnd.jupyter.widget-view+json": {
       "model_id": "d0abce6b3294477a9ba43718ebb6cf11",
       "version_major": 2,
       "version_minor": 0
      },
      "text/plain": [
       "  0%|          | 0/250 [00:00<?, ?it/s]"
      ]
     },
     "metadata": {},
     "output_type": "display_data"
    },
    {
     "name": "stdout",
     "output_type": "stream",
     "text": [
      "digit 0 accuracy: 0.611375\n",
      "digit 1 accuracy: 0.5715\n",
      "digit 2 accuracy: 0.575875\n",
      "digit 3 accuracy: 0.57625\n",
      "digit 4 accuracy: 0.5675\n",
      "Validation\n"
     ]
    },
    {
     "data": {
      "application/vnd.jupyter.widget-view+json": {
       "model_id": "671f2891d17b4c39b8c9d9f73dee5820",
       "version_major": 2,
       "version_minor": 0
      },
      "text/plain": [
       "  0%|          | 0/63 [00:00<?, ?it/s]"
      ]
     },
     "metadata": {},
     "output_type": "display_data"
    },
    {
     "name": "stdout",
     "output_type": "stream",
     "text": [
      "digit 0 accuracy: 0.0975\n",
      "digit 1 accuracy: 0.094\n",
      "digit 2 accuracy: 0.107\n",
      "digit 3 accuracy: 0.1115\n",
      "digit 4 accuracy: 0.107\n",
      "\n",
      "\n",
      "Training loss: 1.869, Training acc: 3.513\n",
      "Validation loss: 2.368, Validation acc: 0.000\n",
      "------------------------------------------------------------\n",
      "Epoch 46 of 50\n"
     ]
    },
    {
     "data": {
      "application/vnd.jupyter.widget-view+json": {
       "model_id": "5a8b93462a274fb2a993988b236c4b91",
       "version_major": 2,
       "version_minor": 0
      },
      "text/plain": [
       "  0%|          | 0/250 [00:00<?, ?it/s]"
      ]
     },
     "metadata": {},
     "output_type": "display_data"
    },
    {
     "name": "stdout",
     "output_type": "stream",
     "text": [
      "digit 0 accuracy: 0.618625\n",
      "digit 1 accuracy: 0.584375\n",
      "digit 2 accuracy: 0.5785\n",
      "digit 3 accuracy: 0.580875\n",
      "digit 4 accuracy: 0.577125\n",
      "Validation\n"
     ]
    },
    {
     "data": {
      "application/vnd.jupyter.widget-view+json": {
       "model_id": "6e75a3d71441487a892bc0586da9666f",
       "version_major": 2,
       "version_minor": 0
      },
      "text/plain": [
       "  0%|          | 0/63 [00:00<?, ?it/s]"
      ]
     },
     "metadata": {},
     "output_type": "display_data"
    },
    {
     "name": "stdout",
     "output_type": "stream",
     "text": [
      "digit 0 accuracy: 0.105\n",
      "digit 1 accuracy: 0.091\n",
      "digit 2 accuracy: 0.104\n",
      "digit 3 accuracy: 0.114\n",
      "digit 4 accuracy: 0.0955\n",
      "\n",
      "\n",
      "Training loss: 1.865, Training acc: 3.850\n",
      "Validation loss: 2.364, Validation acc: 0.000\n",
      "------------------------------------------------------------\n",
      "Epoch 47 of 50\n"
     ]
    },
    {
     "data": {
      "application/vnd.jupyter.widget-view+json": {
       "model_id": "4ac3e1c183fb47109c9ebea28cb217bc",
       "version_major": 2,
       "version_minor": 0
      },
      "text/plain": [
       "  0%|          | 0/250 [00:00<?, ?it/s]"
      ]
     },
     "metadata": {},
     "output_type": "display_data"
    },
    {
     "name": "stdout",
     "output_type": "stream",
     "text": [
      "digit 0 accuracy: 0.627125\n",
      "digit 1 accuracy: 0.585375\n",
      "digit 2 accuracy: 0.582375\n",
      "digit 3 accuracy: 0.59125\n",
      "digit 4 accuracy: 0.583625\n",
      "Validation\n"
     ]
    },
    {
     "data": {
      "application/vnd.jupyter.widget-view+json": {
       "model_id": "45c4a1253b804d2988eabebb1482c613",
       "version_major": 2,
       "version_minor": 0
      },
      "text/plain": [
       "  0%|          | 0/63 [00:00<?, ?it/s]"
      ]
     },
     "metadata": {},
     "output_type": "display_data"
    },
    {
     "name": "stdout",
     "output_type": "stream",
     "text": [
      "digit 0 accuracy: 0.11\n",
      "digit 1 accuracy: 0.097\n",
      "digit 2 accuracy: 0.0975\n",
      "digit 3 accuracy: 0.11\n",
      "digit 4 accuracy: 0.0975\n",
      "\n",
      "\n",
      "Training loss: 1.862, Training acc: 4.112\n",
      "Validation loss: 2.364, Validation acc: 0.000\n",
      "------------------------------------------------------------\n",
      "Epoch 48 of 50\n"
     ]
    },
    {
     "data": {
      "application/vnd.jupyter.widget-view+json": {
       "model_id": "4a77b55d35134e79b36b74faabe01349",
       "version_major": 2,
       "version_minor": 0
      },
      "text/plain": [
       "  0%|          | 0/250 [00:00<?, ?it/s]"
      ]
     },
     "metadata": {},
     "output_type": "display_data"
    },
    {
     "name": "stdout",
     "output_type": "stream",
     "text": [
      "digit 0 accuracy: 0.628625\n",
      "digit 1 accuracy: 0.592625\n",
      "digit 2 accuracy: 0.592125\n",
      "digit 3 accuracy: 0.591875\n",
      "digit 4 accuracy: 0.586125\n",
      "Validation\n"
     ]
    },
    {
     "data": {
      "application/vnd.jupyter.widget-view+json": {
       "model_id": "f4bdc609eda4430ea75a05efcacd97d9",
       "version_major": 2,
       "version_minor": 0
      },
      "text/plain": [
       "  0%|          | 0/63 [00:00<?, ?it/s]"
      ]
     },
     "metadata": {},
     "output_type": "display_data"
    },
    {
     "name": "stdout",
     "output_type": "stream",
     "text": [
      "digit 0 accuracy: 0.105\n",
      "digit 1 accuracy: 0.096\n",
      "digit 2 accuracy: 0.099\n",
      "digit 3 accuracy: 0.1135\n",
      "digit 4 accuracy: 0.102\n",
      "\n",
      "\n",
      "Training loss: 1.860, Training acc: 4.112\n",
      "Validation loss: 2.363, Validation acc: 0.000\n",
      "------------------------------------------------------------\n",
      "Epoch 49 of 50\n"
     ]
    },
    {
     "data": {
      "application/vnd.jupyter.widget-view+json": {
       "model_id": "9b48ef05cb03485795d6cfafb73dbfc9",
       "version_major": 2,
       "version_minor": 0
      },
      "text/plain": [
       "  0%|          | 0/250 [00:00<?, ?it/s]"
      ]
     },
     "metadata": {},
     "output_type": "display_data"
    },
    {
     "name": "stdout",
     "output_type": "stream",
     "text": [
      "digit 0 accuracy: 0.629375\n",
      "digit 1 accuracy: 0.5945\n",
      "digit 2 accuracy: 0.599125\n",
      "digit 3 accuracy: 0.59825\n",
      "digit 4 accuracy: 0.5915\n",
      "Validation\n"
     ]
    },
    {
     "data": {
      "application/vnd.jupyter.widget-view+json": {
       "model_id": "7d79db30f04046a9aafae24dabec8f99",
       "version_major": 2,
       "version_minor": 0
      },
      "text/plain": [
       "  0%|          | 0/63 [00:00<?, ?it/s]"
      ]
     },
     "metadata": {},
     "output_type": "display_data"
    },
    {
     "name": "stdout",
     "output_type": "stream",
     "text": [
      "digit 0 accuracy: 0.104\n",
      "digit 1 accuracy: 0.0945\n",
      "digit 2 accuracy: 0.1045\n",
      "digit 3 accuracy: 0.1165\n",
      "digit 4 accuracy: 0.099\n",
      "\n",
      "\n",
      "Training loss: 1.858, Training acc: 4.225\n",
      "Validation loss: 2.361, Validation acc: 0.000\n",
      "------------------------------------------------------------\n",
      "Epoch 50 of 50\n"
     ]
    },
    {
     "data": {
      "application/vnd.jupyter.widget-view+json": {
       "model_id": "5fed319c86504ca0aadac710799c357e",
       "version_major": 2,
       "version_minor": 0
      },
      "text/plain": [
       "  0%|          | 0/250 [00:00<?, ?it/s]"
      ]
     },
     "metadata": {},
     "output_type": "display_data"
    },
    {
     "name": "stdout",
     "output_type": "stream",
     "text": [
      "digit 0 accuracy: 0.637125\n",
      "digit 1 accuracy: 0.59625\n",
      "digit 2 accuracy: 0.6005\n",
      "digit 3 accuracy: 0.599125\n",
      "digit 4 accuracy: 0.59025\n",
      "Validation\n"
     ]
    },
    {
     "data": {
      "application/vnd.jupyter.widget-view+json": {
       "model_id": "b09b266b02b74e6485cd2610d233caaa",
       "version_major": 2,
       "version_minor": 0
      },
      "text/plain": [
       "  0%|          | 0/63 [00:00<?, ?it/s]"
      ]
     },
     "metadata": {},
     "output_type": "display_data"
    },
    {
     "name": "stdout",
     "output_type": "stream",
     "text": [
      "digit 0 accuracy: 0.103\n",
      "digit 1 accuracy: 0.095\n",
      "digit 2 accuracy: 0.1065\n",
      "digit 3 accuracy: 0.111\n",
      "digit 4 accuracy: 0.097\n",
      "\n",
      "\n",
      "Training loss: 1.855, Training acc: 4.750\n",
      "Validation loss: 2.359, Validation acc: 0.000\n",
      "------------------------------------------------------------\n"
     ]
    }
   ],
   "source": [
    "# start the training\n",
    "# lists to keep track of losses and accuracies\n",
    "train_loss, valid_loss = [], []\n",
    "train_acc, valid_acc = [], []\n",
    "train_digit_arr, valid_digit_arr =[], []\n",
    "for epoch in range(epochs):\n",
    "    print(f\"Epoch {epoch+1} of {epochs}\")\n",
    "    train_epoch_loss, train_epoch_acc , train_acc_in_img = train(model,trainloader, \n",
    "                                              optimizer, criterion)\n",
    "    valid_epoch_loss, valid_epoch_acc , test_acc_in_img = validate(model, testloader,  \n",
    "                                                 criterion)\n",
    "    train_loss.append(train_epoch_loss)\n",
    "    valid_loss.append(valid_epoch_loss)\n",
    "    train_acc.append(train_epoch_acc)\n",
    "    valid_acc.append(valid_epoch_acc)\n",
    "    train_digit_arr.append(train_acc_in_img)\n",
    "    valid_digit_arr.append(test_acc_in_img)\n",
    "    print('\\n')\n",
    "    print(f\"Training loss: {train_epoch_loss:.3f}, Training acc: {train_epoch_acc:.3f}\")\n",
    "    print(f\"Validation loss: {valid_epoch_loss:.3f}, Validation acc: {valid_epoch_acc:.3f}\")\n",
    "    print('-' * 60)"
   ]
  },
  {
   "cell_type": "code",
   "execution_count": 30,
   "metadata": {},
   "outputs": [],
   "source": [
    "#train_digit_arr"
   ]
  },
  {
   "cell_type": "code",
   "execution_count": 31,
   "metadata": {},
   "outputs": [],
   "source": [
    "digit_acc = [[] for _ in range(5)]\n",
    "for acc in train_digit_arr:\n",
    "    k = 0\n",
    "    for ac in acc:\n",
    "        digit_acc[k].append(ac)\n",
    "        k += 1\n",
    "#digit_acc"
   ]
  },
  {
   "cell_type": "code",
   "execution_count": 32,
   "metadata": {},
   "outputs": [],
   "source": [
    "# valid_digit_arr"
   ]
  },
  {
   "cell_type": "code",
   "execution_count": 33,
   "metadata": {},
   "outputs": [],
   "source": [
    "valid_digit_acc = [[] for _ in range(5)]\n",
    "for acc in valid_digit_arr:\n",
    "    k = 0\n",
    "    for ac in acc:\n",
    "        valid_digit_acc[k].append(ac)\n",
    "        k += 1\n",
    "# valid_digit_acc"
   ]
  },
  {
   "cell_type": "code",
   "execution_count": 34,
   "metadata": {},
   "outputs": [
    {
     "data": {
      "image/png": "[encoded data removed]",
      "text/plain": [
       "<Figure size 720x504 with 1 Axes>"
      ]
     },
     "metadata": {
      "needs_background": "light"
     },
     "output_type": "display_data"
    }
   ],
   "source": [
    "plt.figure(figsize=(10, 7))\n",
    "for i in range(5):\n",
    "    plt.plot(digit_acc[i], label='%s Digit Train' % i)    \n",
    "\n",
    "plt.xlabel('Epochs')\n",
    "plt.ylabel('Accuracy')\n",
    "plt.legend()\n",
    "plt.savefig('VGG_train_accuracy.jpg')\n",
    "plt.show()"
   ]
  },
  {
   "cell_type": "code",
   "execution_count": 35,
   "metadata": {},
   "outputs": [
    {
     "data": {
      "image/png": "[encoded data removed]",
      "text/plain": [
       "<Figure size 720x504 with 1 Axes>"
      ]
     },
     "metadata": {
      "needs_background": "light"
     },
     "output_type": "display_data"
    }
   ],
   "source": [
    "plt.figure(figsize=(10, 7))\n",
    "for i in range(5):\n",
    "    plt.plot(valid_digit_acc[i], label='%s Digit Valid' % i)    \n",
    "\n",
    "plt.xlabel('Epochs')\n",
    "plt.ylabel('Accuracy')\n",
    "plt.legend()\n",
    "plt.savefig('VGG_valid_accuracy.jpg')\n",
    "plt.show()"
   ]
  },
  {
   "cell_type": "code",
   "execution_count": 36,
   "metadata": {},
   "outputs": [
    {
     "data": {
      "image/png": "[encoded data removed]",
      "text/plain": [
       "<Figure size 720x504 with 1 Axes>"
      ]
     },
     "metadata": {
      "needs_background": "light"
     },
     "output_type": "display_data"
    }
   ],
   "source": [
    "# loss plots\n",
    "plt.figure(figsize=(10, 7))\n",
    "plt.plot(\n",
    "    train_loss, color='orange', linestyle='-', \n",
    "    label='train loss'\n",
    ")\n",
    "plt.plot(\n",
    "    valid_loss, color='red', linestyle='-', \n",
    "    label='Test loss'\n",
    ")\n",
    "plt.xlabel('Epochs')\n",
    "plt.ylabel('Loss')\n",
    "plt.legend()\n",
    "plt.savefig('VGG_loss.jpg')\n",
    "plt.show()"
   ]
  },
  {
   "cell_type": "code",
   "execution_count": null,
   "metadata": {},
   "outputs": [],
   "source": []
  },
  {
   "cell_type": "code",
   "execution_count": null,
   "metadata": {},
   "outputs": [],
   "source": []
  }
 ],
 "metadata": {
  "kernelspec": {
   "display_name": "Python 3",
   "language": "python",
   "name": "python3"
  },
  "language_info": {
   "codemirror_mode": {
    "name": "ipython",
    "version": 3
   },
   "file_extension": ".py",
   "mimetype": "text/x-python",
   "name": "python",
   "nbconvert_exporter": "python",
   "pygments_lexer": "ipython3",
   "version": "3.7.6"
  }
 },
 "nbformat": 4,
 "nbformat_minor": 4
}
