{
 "cells": [
  {
   "cell_type": "code",
   "execution_count": 1,
   "metadata": {
    "colab": {
     "base_uri": "https://localhost:8080/",
     "height": 1000
    },
    "colab_type": "code",
    "id": "6Tzheb9xoLiD",
    "outputId": "ccb08657-9331-49e3-bb2c-9cce0fda919f"
   },
   "outputs": [
    {
     "name": "stdout",
     "output_type": "stream",
     "text": [
      "Requirement already satisfied: captcha in /home/divya/anaconda3/lib/python3.7/site-packages (0.4)\n",
      "Requirement already satisfied: Pillow in /home/divya/anaconda3/lib/python3.7/site-packages (from captcha) (7.0.0)\n",
      "Note: you may need to restart the kernel to use updated packages.\n",
      "Requirement already satisfied: opencv-python in /home/divya/anaconda3/lib/python3.7/site-packages (4.5.5.64)\n",
      "Requirement already satisfied: numpy>=1.14.5; python_version >= \"3.7\" in /home/divya/anaconda3/lib/python3.7/site-packages (from opencv-python) (1.21.5)\n",
      "Note: you may need to restart the kernel to use updated packages.\n",
      "Reading package lists... Done\n",
      "E: Could not open lock file /var/lib/apt/lists/lock - open (13: Permission denied)\n",
      "E: Unable to lock directory /var/lib/apt/lists/\n",
      "W: Problem unlinking the file /var/cache/apt/pkgcache.bin - RemoveCaches (13: Permission denied)\n",
      "W: Problem unlinking the file /var/cache/apt/srcpkgcache.bin - RemoveCaches (13: Permission denied)\n",
      "Requirement already satisfied: opencv-python-headless in /home/divya/anaconda3/lib/python3.7/site-packages (4.5.5.64)\n",
      "Requirement already satisfied: numpy>=1.14.5; python_version >= \"3.7\" in /home/divya/anaconda3/lib/python3.7/site-packages (from opencv-python-headless) (1.21.5)\n",
      "Requirement already satisfied: opencv-contrib-python-headless in /home/divya/anaconda3/lib/python3.7/site-packages (4.5.5.64)\n",
      "Requirement already satisfied: numpy>=1.14.5; python_version >= \"3.7\" in /home/divya/anaconda3/lib/python3.7/site-packages (from opencv-contrib-python-headless) (1.21.5)\n",
      "Requirement already satisfied: keras in /home/divya/anaconda3/lib/python3.7/site-packages (2.8.0)\n",
      "Note: you may need to restart the kernel to use updated packages.\n"
     ]
    }
   ],
   "source": [
    "%pip install captcha \n",
    "%pip install opencv-python\n",
    "!apt update && apt install -y libsm6 libxext6\n",
    "!pip install opencv-python-headless\n",
    "!pip install opencv-contrib-python-headless\n",
    "%pip install keras"
   ]
  },
  {
   "cell_type": "code",
   "execution_count": 2,
   "metadata": {},
   "outputs": [],
   "source": [
    "import keras\n",
    "from keras.models import Sequential, Model\n",
    "from keras.layers import Dense, Dropout, Activation, Flatten\n",
    "from keras.layers import Conv2D, MaxPooling2D, Input\n",
    "import matplotlib.pyplot as plt"
   ]
  },
  {
   "cell_type": "code",
   "execution_count": 3,
   "metadata": {},
   "outputs": [],
   "source": [
    "import itertools\n",
    "import pandas as pd\n",
    "import os\n",
    "import cv2\n",
    "import numpy as np\n",
    "from random import random, randint, choices"
   ]
  },
  {
   "cell_type": "code",
   "execution_count": 4,
   "metadata": {},
   "outputs": [],
   "source": [
    "import argparse\n",
    "import json\n",
    "import string\n",
    "import os\n",
    "import shutil\n",
    "import uuid\n",
    "from captcha.image import ImageCaptcha"
   ]
  },
  {
   "cell_type": "code",
   "execution_count": 6,
   "metadata": {
    "colab": {},
    "colab_type": "code",
    "id": "yuX06GVdok0-"
   },
   "outputs": [],
   "source": [
    "def _gen_captcha(img_dir, num_of_letters, num_of_repetition, width, height):\n",
    "    if os.path.exists(img_dir):\n",
    "        shutil.rmtree(img_dir)\n",
    "    if not os.path.exists(img_dir):\n",
    "        os.makedirs(img_dir)\n",
    "\n",
    "    image = ImageCaptcha(width=width, height=height)\n",
    "\n",
    "    for counter in range(num_of_repetition):\n",
    "        print('generating %d/%d' % (counter + 1, num_of_repetition))\n",
    "        for i in itertools.permutations([str(c) for c in range(10)], num_of_letters):\n",
    "            captcha = ''.join(i)\n",
    "            fn = os.path.join(img_dir, '%s_%s.png' % (captcha, uuid.uuid4()))\n",
    "            image.write(captcha, fn)\n",
    "\n",
    "\n",
    "def gen_dataset(path, num_of_repetition, num_of_letters, width, height):\n",
    "    _gen_captcha(os.path.join(path, 'data'), num_of_letters, num_of_repetition, width, height)\n",
    "    print('Finished Data Generation')"
   ]
  },
  {
   "cell_type": "code",
   "execution_count": 5,
   "metadata": {
    "colab": {},
    "colab_type": "code",
    "id": "MQYOsJyioy5g"
   },
   "outputs": [],
   "source": [
    "BATCH_SIZE = 128\n",
    "NUM_OF_LETTERS = 5\n",
    "EPOCHS = 50\n",
    "IMG_ROW, IMG_COLS = 50, 135\n",
    "\n",
    "\n",
    "# Non-configs\n",
    "PATH = os.getcwd()\n",
    "DATA_PATH = os.path.join(PATH, 'train')"
   ]
  },
  {
   "cell_type": "code",
   "execution_count": 6,
   "metadata": {
    "colab": {},
    "colab_type": "code",
    "id": "ItSQ3uTvo5YW"
   },
   "outputs": [],
   "source": [
    "def load_data(path, test_split=0.1):\n",
    "    print ('loading dataset...')\n",
    "    y_train = []\n",
    "    y_test = []\n",
    "    x_train = []\n",
    "    x_test = []\n",
    "\n",
    "    # r=root, d=directories, f = files\n",
    "    counter = 0\n",
    "    for r, d, f in os.walk(path):\n",
    "        for fl in f:\n",
    "            if '.png' in fl:\n",
    "                flr = fl.split('_')[0]\n",
    "                counter += 1\n",
    "                label = np.zeros((NUM_OF_LETTERS, 10))\n",
    "                for i in range(NUM_OF_LETTERS):\n",
    "                    label[i, int(flr[i])] = 1\n",
    "\n",
    "                img = cv2.imread(os.path.join(r, fl))\n",
    "                img = cv2.cvtColor(img, cv2.COLOR_BGR2GRAY)\n",
    "                img = cv2.resize(img, (int(135/2), int(50/2)), interpolation=cv2.INTER_AREA)\n",
    "                img = np.reshape(img, (img.shape[0], img.shape[1], 1))\n",
    "\n",
    "                if random() < test_split:\n",
    "                    y_test.append(label)\n",
    "                    x_test.append(img)\n",
    "                else:\n",
    "                    y_train.append(label)\n",
    "                    x_train.append(img)\n",
    "\n",
    "    print('dataset size:', counter, '(train=%d, test=%d)' % (len(y_train), len(y_test)))\n",
    "    return np.array(x_train), np.array(y_train), np.array(x_test), np.array(y_test)\n"
   ]
  },
  {
   "cell_type": "code",
   "execution_count": 12,
   "metadata": {
    "colab": {
     "base_uri": "https://localhost:8080/",
     "height": 70
    },
    "colab_type": "code",
    "id": "bCqtzWWvo798",
    "outputId": "d668ac3e-c0c0-435f-d688-789aa49a5212"
   },
   "outputs": [],
   "source": [
    "if not os.path.exists(DATA_PATH):\n",
    "    print('Generating Dataset')\n",
    "    gen_dataset(DATA_PATH, 8 , NUM_OF_LETTERS, IMG_COLS, IMG_ROW)"
   ]
  },
  {
   "cell_type": "code",
   "execution_count": 7,
   "metadata": {
    "colab": {
     "base_uri": "https://localhost:8080/",
     "height": 52
    },
    "colab_type": "code",
    "id": "AenCMkmco-jv",
    "outputId": "25cfddd7-6be1-421f-ba54-fe524c90c115"
   },
   "outputs": [
    {
     "name": "stdout",
     "output_type": "stream",
     "text": [
      "loading dataset...\n",
      "dataset size: 30240 (train=27189, test=3051)\n"
     ]
    }
   ],
   "source": [
    "x_train, y_train, x_test, y_test = load_data(DATA_PATH)\n",
    "x_train = x_train.astype('float32')\n",
    "x_test = x_test.astype('float32')\n",
    "x_train /= 255\n",
    "x_test /= 255"
   ]
  },
  {
   "cell_type": "code",
   "execution_count": 9,
   "metadata": {},
   "outputs": [
    {
     "data": {
      "text/plain": [
       "(27189, 25, 67, 1)"
      ]
     },
     "execution_count": 9,
     "metadata": {},
     "output_type": "execute_result"
    }
   ],
   "source": [
    "x_train.shape"
   ]
  },
  {
   "cell_type": "code",
   "execution_count": 10,
   "metadata": {
    "colab": {
     "base_uri": "https://localhost:8080/",
     "height": 88
    },
    "colab_type": "code",
    "id": "zqV-rssUuhIy",
    "outputId": "578dcd3f-95af-45f9-9601-e8d86cca9cd6"
   },
   "outputs": [
    {
     "name": "stdout",
     "output_type": "stream",
     "text": [
      "(27189, 25, 67, 1)\n",
      "(27189, 5, 10)\n",
      "(3051, 25, 67, 1)\n",
      "(3051, 5, 10)\n"
     ]
    }
   ],
   "source": [
    "print(x_train.shape)\n",
    "print(y_train.shape)\n",
    "print(x_test.shape)\n",
    "print(y_test.shape)"
   ]
  },
  {
   "cell_type": "code",
   "execution_count": 11,
   "metadata": {
    "colab": {},
    "colab_type": "code",
    "id": "eASawvTyvMaL"
   },
   "outputs": [],
   "source": [
    "s_train = []\n",
    "s_test = []\n",
    "for i in range(NUM_OF_LETTERS):\n",
    "    s_train.append(y_train[:, i, :])\n",
    "    s_test.append(y_test[:, i, :])"
   ]
  },
  {
   "cell_type": "code",
   "execution_count": 12,
   "metadata": {
    "colab": {},
    "colab_type": "code",
    "id": "DCom2NFKvVF0"
   },
   "outputs": [],
   "source": [
    "save_dir = os.path.join(PATH, 'saved_models')\n",
    "model_name = 'keras_cifar10_trained_model.h5'"
   ]
  },
  {
   "cell_type": "code",
   "execution_count": 13,
   "metadata": {
    "colab": {},
    "colab_type": "code",
    "id": "XS0vWhEuvXgo"
   },
   "outputs": [],
   "source": [
    "input_layer = Input((25, 67, 1))\n",
    "x = Conv2D(filters=32, kernel_size=(5, 5), padding='same', activation='relu')(input_layer)\n",
    "x = MaxPooling2D(pool_size=(2, 2))(x)\n",
    "\n",
    "x = Conv2D(filters=48, kernel_size=(5, 5), padding='same', activation='relu')(x)\n",
    "x = MaxPooling2D(pool_size=(2, 2))(x)\n",
    "\n",
    "x = Conv2D(filters=64, kernel_size=(5, 5), padding='same', activation='relu')(x)\n",
    "x = MaxPooling2D(pool_size=(2, 2))(x)\n",
    "\n",
    "x = Dropout(0.3)(x)\n",
    "x = Flatten()(x)\n",
    "x = Dense(512, activation='relu')(x)\n",
    "x = Dropout(0.3)(x)\n",
    "\n",
    "out = [Dense(10, name='digit%d' % i, activation='softmax')(x) for i in range(NUM_OF_LETTERS)]\n",
    "model = Model(inputs=input_layer, outputs=out)"
   ]
  },
  {
   "cell_type": "code",
   "execution_count": null,
   "metadata": {
    "colab": {},
    "colab_type": "code",
    "id": "_1aTZ32pvZpl"
   },
   "outputs": [],
   "source": [
    "# Uncomment these if you want to load and continue an already trained network\n",
    "\n",
    "# model_path = os.path.join(save_dir, model_name)\n",
    "# model = keras.models.load_model(model_path)"
   ]
  },
  {
   "cell_type": "code",
   "execution_count": 14,
   "metadata": {
    "colab": {
     "base_uri": "https://localhost:8080/",
     "height": 728
    },
    "colab_type": "code",
    "id": "mvyFxZTlvfKR",
    "outputId": "a11d69b7-98fb-4f62-e951-a5f0fbb843db"
   },
   "outputs": [
    {
     "name": "stdout",
     "output_type": "stream",
     "text": [
      "Model: \"model\"\n",
      "__________________________________________________________________________________________________\n",
      " Layer (type)                   Output Shape         Param #     Connected to                     \n",
      "==================================================================================================\n",
      " input_1 (InputLayer)           [(None, 25, 67, 1)]  0           []                               \n",
      "                                                                                                  \n",
      " conv2d (Conv2D)                (None, 25, 67, 32)   832         ['input_1[0][0]']                \n",
      "                                                                                                  \n",
      " max_pooling2d (MaxPooling2D)   (None, 12, 33, 32)   0           ['conv2d[0][0]']                 \n",
      "                                                                                                  \n",
      " conv2d_1 (Conv2D)              (None, 12, 33, 48)   38448       ['max_pooling2d[0][0]']          \n",
      "                                                                                                  \n",
      " max_pooling2d_1 (MaxPooling2D)  (None, 6, 16, 48)   0           ['conv2d_1[0][0]']               \n",
      "                                                                                                  \n",
      " conv2d_2 (Conv2D)              (None, 6, 16, 64)    76864       ['max_pooling2d_1[0][0]']        \n",
      "                                                                                                  \n",
      " max_pooling2d_2 (MaxPooling2D)  (None, 3, 8, 64)    0           ['conv2d_2[0][0]']               \n",
      "                                                                                                  \n",
      " dropout (Dropout)              (None, 3, 8, 64)     0           ['max_pooling2d_2[0][0]']        \n",
      "                                                                                                  \n",
      " flatten (Flatten)              (None, 1536)         0           ['dropout[0][0]']                \n",
      "                                                                                                  \n",
      " dense (Dense)                  (None, 512)          786944      ['flatten[0][0]']                \n",
      "                                                                                                  \n",
      " dropout_1 (Dropout)            (None, 512)          0           ['dense[0][0]']                  \n",
      "                                                                                                  \n",
      " digit0 (Dense)                 (None, 10)           5130        ['dropout_1[0][0]']              \n",
      "                                                                                                  \n",
      " digit1 (Dense)                 (None, 10)           5130        ['dropout_1[0][0]']              \n",
      "                                                                                                  \n",
      " digit2 (Dense)                 (None, 10)           5130        ['dropout_1[0][0]']              \n",
      "                                                                                                  \n",
      " digit3 (Dense)                 (None, 10)           5130        ['dropout_1[0][0]']              \n",
      "                                                                                                  \n",
      " digit4 (Dense)                 (None, 10)           5130        ['dropout_1[0][0]']              \n",
      "                                                                                                  \n",
      "==================================================================================================\n",
      "Total params: 928,738\n",
      "Trainable params: 928,738\n",
      "Non-trainable params: 0\n",
      "__________________________________________________________________________________________________\n"
     ]
    }
   ],
   "source": [
    "# initiate Adam optimizer\n",
    "\n",
    "model.compile(loss='binary_crossentropy',\n",
    "              optimizer='adam',\n",
    "              metrics=['accuracy'])\n",
    "\n",
    "\n",
    "model.summary() "
   ]
  },
  {
   "cell_type": "code",
   "execution_count": 15,
   "metadata": {
    "colab": {},
    "colab_type": "code",
    "id": "xNW40AXivcK7"
   },
   "outputs": [],
   "source": [
    "hist_train_loss_digit = {i:[] for i in range(5)}\n",
    "hist_test_loss_digit = {i:[] for i in range(5)}\n",
    "\n",
    "hist_train_acc_digit = {i:[] for i in range(5)}\n",
    "hist_test_acc_digit = {i:[] for i in range(5)}\n",
    "\n",
    "hist_train_loss = []\n",
    "hist_test_loss = []\n",
    "\n",
    "hist_train_acc = []\n",
    "hist_test_acc = []"
   ]
  },
  {
   "cell_type": "code",
   "execution_count": 16,
   "metadata": {
    "colab": {},
    "colab_type": "code",
    "id": "VFeIxaatvhap"
   },
   "outputs": [],
   "source": [
    "digit_acc = [[] for _ in range(NUM_OF_LETTERS)]\n",
    "val_digit_acc = [[] for _ in range(NUM_OF_LETTERS)]\n",
    "loss = []\n",
    "val_loss = []"
   ]
  },
  {
   "cell_type": "code",
   "execution_count": 17,
   "metadata": {
    "colab": {
     "base_uri": "https://localhost:8080/",
     "height": 1000
    },
    "colab_type": "code",
    "id": "IQTy-mCRvjIz",
    "outputId": "eac887df-defc-4167-d7ab-70789638feda"
   },
   "outputs": [
    {
     "name": "stdout",
     "output_type": "stream",
     "text": [
      "Epoch 1/50\n",
      "213/213 [==============================] - 120s 539ms/step - loss: 1.6886 - digit0_loss: 0.3382 - digit1_loss: 0.3378 - digit2_loss: 0.3375 - digit3_loss: 0.3377 - digit4_loss: 0.3375 - digit0_accuracy: 0.0989 - digit1_accuracy: 0.0966 - digit2_accuracy: 0.0987 - digit3_accuracy: 0.0975 - digit4_accuracy: 0.1002 - val_loss: 1.6294 - val_digit0_loss: 0.3255 - val_digit1_loss: 0.3263 - val_digit2_loss: 0.3261 - val_digit3_loss: 0.3258 - val_digit4_loss: 0.3257 - val_digit0_accuracy: 0.1026 - val_digit1_accuracy: 0.0865 - val_digit2_accuracy: 0.1055 - val_digit3_accuracy: 0.0937 - val_digit4_accuracy: 0.0980\n",
      "Epoch 2/50\n",
      "213/213 [==============================] - 100s 468ms/step - loss: 1.6380 - digit0_loss: 0.3273 - digit1_loss: 0.3277 - digit2_loss: 0.3278 - digit3_loss: 0.3275 - digit4_loss: 0.3277 - digit0_accuracy: 0.1033 - digit1_accuracy: 0.1009 - digit2_accuracy: 0.0997 - digit3_accuracy: 0.1022 - digit4_accuracy: 0.0995 - val_loss: 1.6221 - val_digit0_loss: 0.3213 - val_digit1_loss: 0.3251 - val_digit2_loss: 0.3251 - val_digit3_loss: 0.3252 - val_digit4_loss: 0.3255 - val_digit0_accuracy: 0.1196 - val_digit1_accuracy: 0.1036 - val_digit2_accuracy: 0.1268 - val_digit3_accuracy: 0.1127 - val_digit4_accuracy: 0.0990\n",
      "Epoch 3/50\n",
      "213/213 [==============================] - 95s 446ms/step - loss: 1.5061 - digit0_loss: 0.2774 - digit1_loss: 0.3116 - digit2_loss: 0.3127 - digit3_loss: 0.3096 - digit4_loss: 0.2948 - digit0_accuracy: 0.3205 - digit1_accuracy: 0.1925 - digit2_accuracy: 0.1854 - digit3_accuracy: 0.1956 - digit4_accuracy: 0.2546 - val_loss: 1.0965 - val_digit0_loss: 0.1687 - val_digit1_loss: 0.2486 - val_digit2_loss: 0.2543 - val_digit3_loss: 0.2427 - val_digit4_loss: 0.1822 - val_digit0_accuracy: 0.7142 - val_digit1_accuracy: 0.5031 - val_digit2_accuracy: 0.4602 - val_digit3_accuracy: 0.5061 - val_digit4_accuracy: 0.7139\n",
      "Epoch 4/50\n",
      "213/213 [==============================] - 93s 436ms/step - loss: 0.9270 - digit0_loss: 0.1306 - digit1_loss: 0.2172 - digit2_loss: 0.2295 - digit3_loss: 0.2095 - digit4_loss: 0.1402 - digit0_accuracy: 0.7800 - digit1_accuracy: 0.5567 - digit2_accuracy: 0.5231 - digit3_accuracy: 0.5807 - digit4_accuracy: 0.7607 - val_loss: 0.6542 - val_digit0_loss: 0.0741 - val_digit1_loss: 0.1643 - val_digit2_loss: 0.1815 - val_digit3_loss: 0.1537 - val_digit4_loss: 0.0805 - val_digit0_accuracy: 0.9000 - val_digit1_accuracy: 0.7142 - val_digit2_accuracy: 0.6627 - val_digit3_accuracy: 0.7394 - val_digit4_accuracy: 0.8905\n",
      "Epoch 5/50\n",
      "213/213 [==============================] - 91s 427ms/step - loss: 0.6766 - digit0_loss: 0.0802 - digit1_loss: 0.1640 - digit2_loss: 0.1884 - digit3_loss: 0.1573 - digit4_loss: 0.0866 - digit0_accuracy: 0.8821 - digit1_accuracy: 0.7026 - digit2_accuracy: 0.6378 - digit3_accuracy: 0.7209 - digit4_accuracy: 0.8698 - val_loss: 0.4797 - val_digit0_loss: 0.0473 - val_digit1_loss: 0.1197 - val_digit2_loss: 0.1474 - val_digit3_loss: 0.1142 - val_digit4_loss: 0.0509 - val_digit0_accuracy: 0.9384 - val_digit1_accuracy: 0.8079 - val_digit2_accuracy: 0.7414 - val_digit3_accuracy: 0.8174 - val_digit4_accuracy: 0.9308\n",
      "Epoch 6/50\n",
      "213/213 [==============================] - 89s 419ms/step - loss: 0.5361 - digit0_loss: 0.0594 - digit1_loss: 0.1292 - digit2_loss: 0.1555 - digit3_loss: 0.1272 - digit4_loss: 0.0648 - digit0_accuracy: 0.9174 - digit1_accuracy: 0.7846 - digit2_accuracy: 0.7169 - digit3_accuracy: 0.7857 - digit4_accuracy: 0.9097 - val_loss: 0.3669 - val_digit0_loss: 0.0344 - val_digit1_loss: 0.0930 - val_digit2_loss: 0.1138 - val_digit3_loss: 0.0880 - val_digit4_loss: 0.0377 - val_digit0_accuracy: 0.9577 - val_digit1_accuracy: 0.8640 - val_digit2_accuracy: 0.8050 - val_digit3_accuracy: 0.8702 - val_digit4_accuracy: 0.9466\n",
      "Epoch 7/50\n",
      "213/213 [==============================] - 96s 450ms/step - loss: 0.4337 - digit0_loss: 0.0489 - digit1_loss: 0.1037 - digit2_loss: 0.1243 - digit3_loss: 0.1038 - digit4_loss: 0.0531 - digit0_accuracy: 0.9343 - digit1_accuracy: 0.8371 - digit2_accuracy: 0.7920 - digit3_accuracy: 0.8354 - digit4_accuracy: 0.9267 - val_loss: 0.2761 - val_digit0_loss: 0.0263 - val_digit1_loss: 0.0695 - val_digit2_loss: 0.0838 - val_digit3_loss: 0.0675 - val_digit4_loss: 0.0290 - val_digit0_accuracy: 0.9643 - val_digit1_accuracy: 0.8951 - val_digit2_accuracy: 0.8764 - val_digit3_accuracy: 0.9046 - val_digit4_accuracy: 0.9633\n",
      "Epoch 8/50\n",
      "213/213 [==============================] - 85s 397ms/step - loss: 0.3570 - digit0_loss: 0.0407 - digit1_loss: 0.0860 - digit2_loss: 0.0996 - digit3_loss: 0.0864 - digit4_loss: 0.0443 - digit0_accuracy: 0.9472 - digit1_accuracy: 0.8707 - digit2_accuracy: 0.8462 - digit3_accuracy: 0.8699 - digit4_accuracy: 0.9418 - val_loss: 0.2257 - val_digit0_loss: 0.0230 - val_digit1_loss: 0.0559 - val_digit2_loss: 0.0662 - val_digit3_loss: 0.0555 - val_digit4_loss: 0.0252 - val_digit0_accuracy: 0.9679 - val_digit1_accuracy: 0.9213 - val_digit2_accuracy: 0.9069 - val_digit3_accuracy: 0.9223 - val_digit4_accuracy: 0.9639\n",
      "Epoch 9/50\n",
      "213/213 [==============================] - 85s 399ms/step - loss: 0.3030 - digit0_loss: 0.0350 - digit1_loss: 0.0734 - digit2_loss: 0.0843 - digit3_loss: 0.0722 - digit4_loss: 0.0381 - digit0_accuracy: 0.9554 - digit1_accuracy: 0.8934 - digit2_accuracy: 0.8782 - digit3_accuracy: 0.8969 - digit4_accuracy: 0.9516 - val_loss: 0.1883 - val_digit0_loss: 0.0192 - val_digit1_loss: 0.0472 - val_digit2_loss: 0.0541 - val_digit3_loss: 0.0464 - val_digit4_loss: 0.0213 - val_digit0_accuracy: 0.9761 - val_digit1_accuracy: 0.9387 - val_digit2_accuracy: 0.9292 - val_digit3_accuracy: 0.9413 - val_digit4_accuracy: 0.9715\n",
      "Epoch 10/50\n",
      "213/213 [==============================] - 86s 404ms/step - loss: 0.2626 - digit0_loss: 0.0299 - digit1_loss: 0.0629 - digit2_loss: 0.0732 - digit3_loss: 0.0632 - digit4_loss: 0.0334 - digit0_accuracy: 0.9630 - digit1_accuracy: 0.9133 - digit2_accuracy: 0.8990 - digit3_accuracy: 0.9113 - digit4_accuracy: 0.9580 - val_loss: 0.1591 - val_digit0_loss: 0.0158 - val_digit1_loss: 0.0402 - val_digit2_loss: 0.0444 - val_digit3_loss: 0.0409 - val_digit4_loss: 0.0177 - val_digit0_accuracy: 0.9807 - val_digit1_accuracy: 0.9440 - val_digit2_accuracy: 0.9466 - val_digit3_accuracy: 0.9479 - val_digit4_accuracy: 0.9748\n",
      "Epoch 11/50\n",
      "213/213 [==============================] - 85s 397ms/step - loss: 0.2328 - digit0_loss: 0.0261 - digit1_loss: 0.0553 - digit2_loss: 0.0651 - digit3_loss: 0.0559 - digit4_loss: 0.0304 - digit0_accuracy: 0.9686 - digit1_accuracy: 0.9279 - digit2_accuracy: 0.9138 - digit3_accuracy: 0.9254 - digit4_accuracy: 0.9623 - val_loss: 0.1374 - val_digit0_loss: 0.0142 - val_digit1_loss: 0.0340 - val_digit2_loss: 0.0392 - val_digit3_loss: 0.0349 - val_digit4_loss: 0.0151 - val_digit0_accuracy: 0.9826 - val_digit1_accuracy: 0.9548 - val_digit2_accuracy: 0.9502 - val_digit3_accuracy: 0.9515 - val_digit4_accuracy: 0.9800\n",
      "Epoch 12/50\n",
      "213/213 [==============================] - 85s 397ms/step - loss: 0.2060 - digit0_loss: 0.0237 - digit1_loss: 0.0496 - digit2_loss: 0.0569 - digit3_loss: 0.0490 - digit4_loss: 0.0266 - digit0_accuracy: 0.9718 - digit1_accuracy: 0.9361 - digit2_accuracy: 0.9297 - digit3_accuracy: 0.9363 - digit4_accuracy: 0.9673 - val_loss: 0.1250 - val_digit0_loss: 0.0131 - val_digit1_loss: 0.0312 - val_digit2_loss: 0.0356 - val_digit3_loss: 0.0310 - val_digit4_loss: 0.0141 - val_digit0_accuracy: 0.9836 - val_digit1_accuracy: 0.9639 - val_digit2_accuracy: 0.9521 - val_digit3_accuracy: 0.9561 - val_digit4_accuracy: 0.9810\n",
      "Epoch 13/50\n",
      "213/213 [==============================] - 86s 402ms/step - loss: 0.1863 - digit0_loss: 0.0216 - digit1_loss: 0.0450 - digit2_loss: 0.0524 - digit3_loss: 0.0443 - digit4_loss: 0.0230 - digit0_accuracy: 0.9744 - digit1_accuracy: 0.9439 - digit2_accuracy: 0.9345 - digit3_accuracy: 0.9442 - digit4_accuracy: 0.9736 - val_loss: 0.1191 - val_digit0_loss: 0.0143 - val_digit1_loss: 0.0277 - val_digit2_loss: 0.0334 - val_digit3_loss: 0.0296 - val_digit4_loss: 0.0141 - val_digit0_accuracy: 0.9807 - val_digit1_accuracy: 0.9659 - val_digit2_accuracy: 0.9551 - val_digit3_accuracy: 0.9577 - val_digit4_accuracy: 0.9820\n",
      "Epoch 14/50\n"
     ]
    },
    {
     "name": "stdout",
     "output_type": "stream",
     "text": [
      "213/213 [==============================] - 83s 391ms/step - loss: 0.1700 - digit0_loss: 0.0190 - digit1_loss: 0.0403 - digit2_loss: 0.0474 - digit3_loss: 0.0414 - digit4_loss: 0.0218 - digit0_accuracy: 0.9776 - digit1_accuracy: 0.9498 - digit2_accuracy: 0.9423 - digit3_accuracy: 0.9493 - digit4_accuracy: 0.9742 - val_loss: 0.1031 - val_digit0_loss: 0.0107 - val_digit1_loss: 0.0251 - val_digit2_loss: 0.0297 - val_digit3_loss: 0.0253 - val_digit4_loss: 0.0122 - val_digit0_accuracy: 0.9859 - val_digit1_accuracy: 0.9679 - val_digit2_accuracy: 0.9594 - val_digit3_accuracy: 0.9636 - val_digit4_accuracy: 0.9843\n",
      "Epoch 15/50\n",
      "213/213 [==============================] - 83s 391ms/step - loss: 0.1539 - digit0_loss: 0.0173 - digit1_loss: 0.0368 - digit2_loss: 0.0437 - digit3_loss: 0.0364 - digit4_loss: 0.0197 - digit0_accuracy: 0.9796 - digit1_accuracy: 0.9559 - digit2_accuracy: 0.9479 - digit3_accuracy: 0.9548 - digit4_accuracy: 0.9774 - val_loss: 0.0982 - val_digit0_loss: 0.0111 - val_digit1_loss: 0.0245 - val_digit2_loss: 0.0272 - val_digit3_loss: 0.0240 - val_digit4_loss: 0.0114 - val_digit0_accuracy: 0.9843 - val_digit1_accuracy: 0.9672 - val_digit2_accuracy: 0.9659 - val_digit3_accuracy: 0.9662 - val_digit4_accuracy: 0.9816\n",
      "Epoch 16/50\n",
      "213/213 [==============================] - 83s 391ms/step - loss: 0.1405 - digit0_loss: 0.0159 - digit1_loss: 0.0329 - digit2_loss: 0.0397 - digit3_loss: 0.0332 - digit4_loss: 0.0187 - digit0_accuracy: 0.9821 - digit1_accuracy: 0.9615 - digit2_accuracy: 0.9535 - digit3_accuracy: 0.9601 - digit4_accuracy: 0.9782 - val_loss: 0.0902 - val_digit0_loss: 0.0103 - val_digit1_loss: 0.0221 - val_digit2_loss: 0.0258 - val_digit3_loss: 0.0213 - val_digit4_loss: 0.0106 - val_digit0_accuracy: 0.9849 - val_digit1_accuracy: 0.9718 - val_digit2_accuracy: 0.9633 - val_digit3_accuracy: 0.9741 - val_digit4_accuracy: 0.9859\n",
      "Epoch 17/50\n",
      "213/213 [==============================] - 83s 391ms/step - loss: 0.1321 - digit0_loss: 0.0148 - digit1_loss: 0.0318 - digit2_loss: 0.0375 - digit3_loss: 0.0313 - digit4_loss: 0.0166 - digit0_accuracy: 0.9835 - digit1_accuracy: 0.9628 - digit2_accuracy: 0.9574 - digit3_accuracy: 0.9622 - digit4_accuracy: 0.9823 - val_loss: 0.0865 - val_digit0_loss: 0.0091 - val_digit1_loss: 0.0206 - val_digit2_loss: 0.0244 - val_digit3_loss: 0.0211 - val_digit4_loss: 0.0113 - val_digit0_accuracy: 0.9882 - val_digit1_accuracy: 0.9735 - val_digit2_accuracy: 0.9695 - val_digit3_accuracy: 0.9712 - val_digit4_accuracy: 0.9823\n",
      "Epoch 18/50\n",
      "213/213 [==============================] - 83s 391ms/step - loss: 0.1221 - digit0_loss: 0.0135 - digit1_loss: 0.0285 - digit2_loss: 0.0350 - digit3_loss: 0.0296 - digit4_loss: 0.0155 - digit0_accuracy: 0.9840 - digit1_accuracy: 0.9675 - digit2_accuracy: 0.9604 - digit3_accuracy: 0.9650 - digit4_accuracy: 0.9823 - val_loss: 0.0816 - val_digit0_loss: 0.0093 - val_digit1_loss: 0.0194 - val_digit2_loss: 0.0235 - val_digit3_loss: 0.0201 - val_digit4_loss: 0.0092 - val_digit0_accuracy: 0.9875 - val_digit1_accuracy: 0.9738 - val_digit2_accuracy: 0.9692 - val_digit3_accuracy: 0.9721 - val_digit4_accuracy: 0.9872\n",
      "Epoch 19/50\n",
      "213/213 [==============================] - 83s 391ms/step - loss: 0.1128 - digit0_loss: 0.0124 - digit1_loss: 0.0265 - digit2_loss: 0.0330 - digit3_loss: 0.0269 - digit4_loss: 0.0139 - digit0_accuracy: 0.9865 - digit1_accuracy: 0.9701 - digit2_accuracy: 0.9631 - digit3_accuracy: 0.9697 - digit4_accuracy: 0.9854 - val_loss: 0.0791 - val_digit0_loss: 0.0098 - val_digit1_loss: 0.0188 - val_digit2_loss: 0.0226 - val_digit3_loss: 0.0190 - val_digit4_loss: 0.0089 - val_digit0_accuracy: 0.9859 - val_digit1_accuracy: 0.9767 - val_digit2_accuracy: 0.9705 - val_digit3_accuracy: 0.9761 - val_digit4_accuracy: 0.9889\n",
      "Epoch 20/50\n",
      "213/213 [==============================] - 83s 392ms/step - loss: 0.1041 - digit0_loss: 0.0115 - digit1_loss: 0.0244 - digit2_loss: 0.0297 - digit3_loss: 0.0253 - digit4_loss: 0.0132 - digit0_accuracy: 0.9882 - digit1_accuracy: 0.9722 - digit2_accuracy: 0.9688 - digit3_accuracy: 0.9717 - digit4_accuracy: 0.9858 - val_loss: 0.0760 - val_digit0_loss: 0.0086 - val_digit1_loss: 0.0186 - val_digit2_loss: 0.0213 - val_digit3_loss: 0.0180 - val_digit4_loss: 0.0096 - val_digit0_accuracy: 0.9882 - val_digit1_accuracy: 0.9764 - val_digit2_accuracy: 0.9685 - val_digit3_accuracy: 0.9774 - val_digit4_accuracy: 0.9875\n",
      "Epoch 21/50\n",
      "213/213 [==============================] - 84s 395ms/step - loss: 0.0983 - digit0_loss: 0.0106 - digit1_loss: 0.0232 - digit2_loss: 0.0291 - digit3_loss: 0.0232 - digit4_loss: 0.0122 - digit0_accuracy: 0.9888 - digit1_accuracy: 0.9761 - digit2_accuracy: 0.9679 - digit3_accuracy: 0.9739 - digit4_accuracy: 0.9875 - val_loss: 0.0704 - val_digit0_loss: 0.0081 - val_digit1_loss: 0.0169 - val_digit2_loss: 0.0197 - val_digit3_loss: 0.0169 - val_digit4_loss: 0.0088 - val_digit0_accuracy: 0.9895 - val_digit1_accuracy: 0.9780 - val_digit2_accuracy: 0.9761 - val_digit3_accuracy: 0.9777 - val_digit4_accuracy: 0.9885\n",
      "Epoch 22/50\n",
      "213/213 [==============================] - 87s 410ms/step - loss: 0.0914 - digit0_loss: 0.0100 - digit1_loss: 0.0218 - digit2_loss: 0.0264 - digit3_loss: 0.0219 - digit4_loss: 0.0113 - digit0_accuracy: 0.9893 - digit1_accuracy: 0.9769 - digit2_accuracy: 0.9732 - digit3_accuracy: 0.9770 - digit4_accuracy: 0.9879 - val_loss: 0.0678 - val_digit0_loss: 0.0085 - val_digit1_loss: 0.0161 - val_digit2_loss: 0.0195 - val_digit3_loss: 0.0159 - val_digit4_loss: 0.0078 - val_digit0_accuracy: 0.9892 - val_digit1_accuracy: 0.9790 - val_digit2_accuracy: 0.9751 - val_digit3_accuracy: 0.9787 - val_digit4_accuracy: 0.9912\n",
      "Epoch 23/50\n",
      "213/213 [==============================] - 85s 398ms/step - loss: 0.0867 - digit0_loss: 0.0093 - digit1_loss: 0.0203 - digit2_loss: 0.0251 - digit3_loss: 0.0205 - digit4_loss: 0.0115 - digit0_accuracy: 0.9900 - digit1_accuracy: 0.9784 - digit2_accuracy: 0.9752 - digit3_accuracy: 0.9771 - digit4_accuracy: 0.9879 - val_loss: 0.0663 - val_digit0_loss: 0.0077 - val_digit1_loss: 0.0157 - val_digit2_loss: 0.0189 - val_digit3_loss: 0.0161 - val_digit4_loss: 0.0079 - val_digit0_accuracy: 0.9902 - val_digit1_accuracy: 0.9780 - val_digit2_accuracy: 0.9767 - val_digit3_accuracy: 0.9787 - val_digit4_accuracy: 0.9889\n",
      "Epoch 24/50\n",
      "213/213 [==============================] - 85s 399ms/step - loss: 0.0841 - digit0_loss: 0.0093 - digit1_loss: 0.0191 - digit2_loss: 0.0247 - digit3_loss: 0.0205 - digit4_loss: 0.0106 - digit0_accuracy: 0.9905 - digit1_accuracy: 0.9798 - digit2_accuracy: 0.9752 - digit3_accuracy: 0.9775 - digit4_accuracy: 0.9879 - val_loss: 0.0703 - val_digit0_loss: 0.0083 - val_digit1_loss: 0.0173 - val_digit2_loss: 0.0197 - val_digit3_loss: 0.0164 - val_digit4_loss: 0.0087 - val_digit0_accuracy: 0.9869 - val_digit1_accuracy: 0.9748 - val_digit2_accuracy: 0.9728 - val_digit3_accuracy: 0.9813 - val_digit4_accuracy: 0.9902\n",
      "Epoch 25/50\n",
      "213/213 [==============================] - 85s 400ms/step - loss: 0.0784 - digit0_loss: 0.0083 - digit1_loss: 0.0187 - digit2_loss: 0.0224 - digit3_loss: 0.0186 - digit4_loss: 0.0103 - digit0_accuracy: 0.9911 - digit1_accuracy: 0.9809 - digit2_accuracy: 0.9777 - digit3_accuracy: 0.9802 - digit4_accuracy: 0.9892 - val_loss: 0.0732 - val_digit0_loss: 0.0097 - val_digit1_loss: 0.0172 - val_digit2_loss: 0.0204 - val_digit3_loss: 0.0170 - val_digit4_loss: 0.0089 - val_digit0_accuracy: 0.9875 - val_digit1_accuracy: 0.9767 - val_digit2_accuracy: 0.9721 - val_digit3_accuracy: 0.9784 - val_digit4_accuracy: 0.9875\n",
      "Epoch 26/50\n",
      "213/213 [==============================] - 85s 400ms/step - loss: 0.0731 - digit0_loss: 0.0077 - digit1_loss: 0.0166 - digit2_loss: 0.0219 - digit3_loss: 0.0175 - digit4_loss: 0.0094 - digit0_accuracy: 0.9920 - digit1_accuracy: 0.9837 - digit2_accuracy: 0.9792 - digit3_accuracy: 0.9815 - digit4_accuracy: 0.9906 - val_loss: 0.0649 - val_digit0_loss: 0.0080 - val_digit1_loss: 0.0148 - val_digit2_loss: 0.0174 - val_digit3_loss: 0.0158 - val_digit4_loss: 0.0088 - val_digit0_accuracy: 0.9885 - val_digit1_accuracy: 0.9810 - val_digit2_accuracy: 0.9816 - val_digit3_accuracy: 0.9810 - val_digit4_accuracy: 0.9885\n",
      "Epoch 27/50\n"
     ]
    },
    {
     "name": "stdout",
     "output_type": "stream",
     "text": [
      "213/213 [==============================] - 84s 393ms/step - loss: 0.0690 - digit0_loss: 0.0075 - digit1_loss: 0.0158 - digit2_loss: 0.0202 - digit3_loss: 0.0168 - digit4_loss: 0.0087 - digit0_accuracy: 0.9927 - digit1_accuracy: 0.9861 - digit2_accuracy: 0.9800 - digit3_accuracy: 0.9827 - digit4_accuracy: 0.9913 - val_loss: 0.0606 - val_digit0_loss: 0.0076 - val_digit1_loss: 0.0137 - val_digit2_loss: 0.0162 - val_digit3_loss: 0.0147 - val_digit4_loss: 0.0083 - val_digit0_accuracy: 0.9895 - val_digit1_accuracy: 0.9797 - val_digit2_accuracy: 0.9774 - val_digit3_accuracy: 0.9813 - val_digit4_accuracy: 0.9892\n",
      "Epoch 28/50\n",
      "213/213 [==============================] - 83s 391ms/step - loss: 0.0660 - digit0_loss: 0.0071 - digit1_loss: 0.0155 - digit2_loss: 0.0192 - digit3_loss: 0.0161 - digit4_loss: 0.0081 - digit0_accuracy: 0.9925 - digit1_accuracy: 0.9851 - digit2_accuracy: 0.9822 - digit3_accuracy: 0.9829 - digit4_accuracy: 0.9923 - val_loss: 0.0600 - val_digit0_loss: 0.0081 - val_digit1_loss: 0.0136 - val_digit2_loss: 0.0164 - val_digit3_loss: 0.0144 - val_digit4_loss: 0.0074 - val_digit0_accuracy: 0.9879 - val_digit1_accuracy: 0.9807 - val_digit2_accuracy: 0.9807 - val_digit3_accuracy: 0.9836 - val_digit4_accuracy: 0.9908\n",
      "Epoch 29/50\n",
      "213/213 [==============================] - 83s 391ms/step - loss: 0.0643 - digit0_loss: 0.0068 - digit1_loss: 0.0149 - digit2_loss: 0.0190 - digit3_loss: 0.0151 - digit4_loss: 0.0084 - digit0_accuracy: 0.9935 - digit1_accuracy: 0.9864 - digit2_accuracy: 0.9825 - digit3_accuracy: 0.9851 - digit4_accuracy: 0.9913 - val_loss: 0.0612 - val_digit0_loss: 0.0076 - val_digit1_loss: 0.0145 - val_digit2_loss: 0.0175 - val_digit3_loss: 0.0140 - val_digit4_loss: 0.0076 - val_digit0_accuracy: 0.9892 - val_digit1_accuracy: 0.9816 - val_digit2_accuracy: 0.9751 - val_digit3_accuracy: 0.9813 - val_digit4_accuracy: 0.9895\n",
      "Epoch 30/50\n",
      "213/213 [==============================] - 83s 392ms/step - loss: 0.0606 - digit0_loss: 0.0069 - digit1_loss: 0.0139 - digit2_loss: 0.0173 - digit3_loss: 0.0150 - digit4_loss: 0.0075 - digit0_accuracy: 0.9929 - digit1_accuracy: 0.9864 - digit2_accuracy: 0.9851 - digit3_accuracy: 0.9856 - digit4_accuracy: 0.9920 - val_loss: 0.0597 - val_digit0_loss: 0.0077 - val_digit1_loss: 0.0143 - val_digit2_loss: 0.0165 - val_digit3_loss: 0.0134 - val_digit4_loss: 0.0078 - val_digit0_accuracy: 0.9902 - val_digit1_accuracy: 0.9816 - val_digit2_accuracy: 0.9797 - val_digit3_accuracy: 0.9816 - val_digit4_accuracy: 0.9912\n",
      "Epoch 31/50\n",
      "213/213 [==============================] - 83s 391ms/step - loss: 0.0588 - digit0_loss: 0.0064 - digit1_loss: 0.0138 - digit2_loss: 0.0169 - digit3_loss: 0.0142 - digit4_loss: 0.0075 - digit0_accuracy: 0.9935 - digit1_accuracy: 0.9873 - digit2_accuracy: 0.9844 - digit3_accuracy: 0.9856 - digit4_accuracy: 0.9922 - val_loss: 0.0557 - val_digit0_loss: 0.0077 - val_digit1_loss: 0.0130 - val_digit2_loss: 0.0140 - val_digit3_loss: 0.0138 - val_digit4_loss: 0.0073 - val_digit0_accuracy: 0.9892 - val_digit1_accuracy: 0.9820 - val_digit2_accuracy: 0.9833 - val_digit3_accuracy: 0.9820 - val_digit4_accuracy: 0.9895\n",
      "Epoch 32/50\n",
      "213/213 [==============================] - 94s 444ms/step - loss: 0.0560 - digit0_loss: 0.0061 - digit1_loss: 0.0128 - digit2_loss: 0.0166 - digit3_loss: 0.0134 - digit4_loss: 0.0071 - digit0_accuracy: 0.9936 - digit1_accuracy: 0.9875 - digit2_accuracy: 0.9850 - digit3_accuracy: 0.9867 - digit4_accuracy: 0.9929 - val_loss: 0.0580 - val_digit0_loss: 0.0077 - val_digit1_loss: 0.0138 - val_digit2_loss: 0.0155 - val_digit3_loss: 0.0130 - val_digit4_loss: 0.0080 - val_digit0_accuracy: 0.9918 - val_digit1_accuracy: 0.9816 - val_digit2_accuracy: 0.9810 - val_digit3_accuracy: 0.9823 - val_digit4_accuracy: 0.9895\n",
      "Epoch 33/50\n",
      "213/213 [==============================] - 90s 420ms/step - loss: 0.0529 - digit0_loss: 0.0057 - digit1_loss: 0.0124 - digit2_loss: 0.0159 - digit3_loss: 0.0125 - digit4_loss: 0.0064 - digit0_accuracy: 0.9944 - digit1_accuracy: 0.9882 - digit2_accuracy: 0.9857 - digit3_accuracy: 0.9882 - digit4_accuracy: 0.9939 - val_loss: 0.0551 - val_digit0_loss: 0.0066 - val_digit1_loss: 0.0135 - val_digit2_loss: 0.0146 - val_digit3_loss: 0.0126 - val_digit4_loss: 0.0077 - val_digit0_accuracy: 0.9902 - val_digit1_accuracy: 0.9816 - val_digit2_accuracy: 0.9823 - val_digit3_accuracy: 0.9830 - val_digit4_accuracy: 0.9885\n",
      "Epoch 34/50\n",
      "213/213 [==============================] - 90s 421ms/step - loss: 0.0521 - digit0_loss: 0.0057 - digit1_loss: 0.0123 - digit2_loss: 0.0154 - digit3_loss: 0.0122 - digit4_loss: 0.0065 - digit0_accuracy: 0.9943 - digit1_accuracy: 0.9890 - digit2_accuracy: 0.9872 - digit3_accuracy: 0.9886 - digit4_accuracy: 0.9936 - val_loss: 0.0532 - val_digit0_loss: 0.0081 - val_digit1_loss: 0.0126 - val_digit2_loss: 0.0129 - val_digit3_loss: 0.0124 - val_digit4_loss: 0.0072 - val_digit0_accuracy: 0.9895 - val_digit1_accuracy: 0.9813 - val_digit2_accuracy: 0.9839 - val_digit3_accuracy: 0.9849 - val_digit4_accuracy: 0.9879\n",
      "Epoch 35/50\n",
      "213/213 [==============================] - 103s 486ms/step - loss: 0.0520 - digit0_loss: 0.0055 - digit1_loss: 0.0125 - digit2_loss: 0.0149 - digit3_loss: 0.0126 - digit4_loss: 0.0065 - digit0_accuracy: 0.9951 - digit1_accuracy: 0.9890 - digit2_accuracy: 0.9881 - digit3_accuracy: 0.9888 - digit4_accuracy: 0.9933 - val_loss: 0.0554 - val_digit0_loss: 0.0086 - val_digit1_loss: 0.0131 - val_digit2_loss: 0.0133 - val_digit3_loss: 0.0131 - val_digit4_loss: 0.0072 - val_digit0_accuracy: 0.9889 - val_digit1_accuracy: 0.9820 - val_digit2_accuracy: 0.9866 - val_digit3_accuracy: 0.9839 - val_digit4_accuracy: 0.9902\n",
      "Epoch 36/50\n",
      "213/213 [==============================] - 103s 482ms/step - loss: 0.0492 - digit0_loss: 0.0050 - digit1_loss: 0.0114 - digit2_loss: 0.0142 - digit3_loss: 0.0118 - digit4_loss: 0.0068 - digit0_accuracy: 0.9950 - digit1_accuracy: 0.9900 - digit2_accuracy: 0.9887 - digit3_accuracy: 0.9893 - digit4_accuracy: 0.9933 - val_loss: 0.0545 - val_digit0_loss: 0.0073 - val_digit1_loss: 0.0126 - val_digit2_loss: 0.0147 - val_digit3_loss: 0.0129 - val_digit4_loss: 0.0069 - val_digit0_accuracy: 0.9905 - val_digit1_accuracy: 0.9816 - val_digit2_accuracy: 0.9826 - val_digit3_accuracy: 0.9833 - val_digit4_accuracy: 0.9895\n",
      "Epoch 37/50\n",
      "213/213 [==============================] - 101s 474ms/step - loss: 0.0477 - digit0_loss: 0.0050 - digit1_loss: 0.0113 - digit2_loss: 0.0139 - digit3_loss: 0.0113 - digit4_loss: 0.0062 - digit0_accuracy: 0.9948 - digit1_accuracy: 0.9904 - digit2_accuracy: 0.9885 - digit3_accuracy: 0.9893 - digit4_accuracy: 0.9944 - val_loss: 0.0537 - val_digit0_loss: 0.0067 - val_digit1_loss: 0.0124 - val_digit2_loss: 0.0140 - val_digit3_loss: 0.0133 - val_digit4_loss: 0.0072 - val_digit0_accuracy: 0.9915 - val_digit1_accuracy: 0.9849 - val_digit2_accuracy: 0.9843 - val_digit3_accuracy: 0.9833 - val_digit4_accuracy: 0.9892\n",
      "Epoch 38/50\n",
      "213/213 [==============================] - 93s 438ms/step - loss: 0.0453 - digit0_loss: 0.0048 - digit1_loss: 0.0106 - digit2_loss: 0.0138 - digit3_loss: 0.0107 - digit4_loss: 0.0055 - digit0_accuracy: 0.9954 - digit1_accuracy: 0.9902 - digit2_accuracy: 0.9891 - digit3_accuracy: 0.9902 - digit4_accuracy: 0.9947 - val_loss: 0.0577 - val_digit0_loss: 0.0084 - val_digit1_loss: 0.0133 - val_digit2_loss: 0.0140 - val_digit3_loss: 0.0142 - val_digit4_loss: 0.0078 - val_digit0_accuracy: 0.9898 - val_digit1_accuracy: 0.9823 - val_digit2_accuracy: 0.9833 - val_digit3_accuracy: 0.9807 - val_digit4_accuracy: 0.9879\n",
      "Epoch 39/50\n",
      "213/213 [==============================] - 104s 489ms/step - loss: 0.0454 - digit0_loss: 0.0046 - digit1_loss: 0.0108 - digit2_loss: 0.0137 - digit3_loss: 0.0107 - digit4_loss: 0.0056 - digit0_accuracy: 0.9958 - digit1_accuracy: 0.9911 - digit2_accuracy: 0.9884 - digit3_accuracy: 0.9906 - digit4_accuracy: 0.9953 - val_loss: 0.0568 - val_digit0_loss: 0.0084 - val_digit1_loss: 0.0129 - val_digit2_loss: 0.0143 - val_digit3_loss: 0.0138 - val_digit4_loss: 0.0073 - val_digit0_accuracy: 0.9885 - val_digit1_accuracy: 0.9833 - val_digit2_accuracy: 0.9820 - val_digit3_accuracy: 0.9790 - val_digit4_accuracy: 0.9889\n",
      "Epoch 40/50\n"
     ]
    },
    {
     "name": "stdout",
     "output_type": "stream",
     "text": [
      "213/213 [==============================] - 95s 446ms/step - loss: 0.0444 - digit0_loss: 0.0047 - digit1_loss: 0.0099 - digit2_loss: 0.0134 - digit3_loss: 0.0107 - digit4_loss: 0.0056 - digit0_accuracy: 0.9956 - digit1_accuracy: 0.9907 - digit2_accuracy: 0.9891 - digit3_accuracy: 0.9899 - digit4_accuracy: 0.9950 - val_loss: 0.0522 - val_digit0_loss: 0.0072 - val_digit1_loss: 0.0131 - val_digit2_loss: 0.0131 - val_digit3_loss: 0.0126 - val_digit4_loss: 0.0062 - val_digit0_accuracy: 0.9905 - val_digit1_accuracy: 0.9833 - val_digit2_accuracy: 0.9843 - val_digit3_accuracy: 0.9839 - val_digit4_accuracy: 0.9918\n",
      "Epoch 41/50\n",
      "213/213 [==============================] - 88s 411ms/step - loss: 0.0405 - digit0_loss: 0.0044 - digit1_loss: 0.0093 - digit2_loss: 0.0121 - digit3_loss: 0.0100 - digit4_loss: 0.0047 - digit0_accuracy: 0.9960 - digit1_accuracy: 0.9921 - digit2_accuracy: 0.9905 - digit3_accuracy: 0.9915 - digit4_accuracy: 0.9960 - val_loss: 0.0538 - val_digit0_loss: 0.0076 - val_digit1_loss: 0.0131 - val_digit2_loss: 0.0137 - val_digit3_loss: 0.0120 - val_digit4_loss: 0.0074 - val_digit0_accuracy: 0.9898 - val_digit1_accuracy: 0.9823 - val_digit2_accuracy: 0.9826 - val_digit3_accuracy: 0.9872 - val_digit4_accuracy: 0.9898\n",
      "Epoch 42/50\n",
      "213/213 [==============================] - 94s 442ms/step - loss: 0.0413 - digit0_loss: 0.0045 - digit1_loss: 0.0100 - digit2_loss: 0.0124 - digit3_loss: 0.0096 - digit4_loss: 0.0048 - digit0_accuracy: 0.9957 - digit1_accuracy: 0.9913 - digit2_accuracy: 0.9908 - digit3_accuracy: 0.9921 - digit4_accuracy: 0.9954 - val_loss: 0.0517 - val_digit0_loss: 0.0070 - val_digit1_loss: 0.0116 - val_digit2_loss: 0.0121 - val_digit3_loss: 0.0133 - val_digit4_loss: 0.0077 - val_digit0_accuracy: 0.9915 - val_digit1_accuracy: 0.9846 - val_digit2_accuracy: 0.9843 - val_digit3_accuracy: 0.9813 - val_digit4_accuracy: 0.9902\n",
      "Epoch 43/50\n",
      "213/213 [==============================] - 93s 438ms/step - loss: 0.0394 - digit0_loss: 0.0041 - digit1_loss: 0.0091 - digit2_loss: 0.0116 - digit3_loss: 0.0097 - digit4_loss: 0.0049 - digit0_accuracy: 0.9965 - digit1_accuracy: 0.9922 - digit2_accuracy: 0.9911 - digit3_accuracy: 0.9922 - digit4_accuracy: 0.9957 - val_loss: 0.0483 - val_digit0_loss: 0.0058 - val_digit1_loss: 0.0114 - val_digit2_loss: 0.0124 - val_digit3_loss: 0.0119 - val_digit4_loss: 0.0067 - val_digit0_accuracy: 0.9912 - val_digit1_accuracy: 0.9853 - val_digit2_accuracy: 0.9843 - val_digit3_accuracy: 0.9879 - val_digit4_accuracy: 0.9918\n",
      "Epoch 44/50\n",
      "213/213 [==============================] - 94s 442ms/step - loss: 0.0380 - digit0_loss: 0.0041 - digit1_loss: 0.0082 - digit2_loss: 0.0116 - digit3_loss: 0.0092 - digit4_loss: 0.0049 - digit0_accuracy: 0.9962 - digit1_accuracy: 0.9936 - digit2_accuracy: 0.9910 - digit3_accuracy: 0.9924 - digit4_accuracy: 0.9955 - val_loss: 0.0532 - val_digit0_loss: 0.0067 - val_digit1_loss: 0.0124 - val_digit2_loss: 0.0130 - val_digit3_loss: 0.0130 - val_digit4_loss: 0.0081 - val_digit0_accuracy: 0.9915 - val_digit1_accuracy: 0.9843 - val_digit2_accuracy: 0.9843 - val_digit3_accuracy: 0.9836 - val_digit4_accuracy: 0.9898\n",
      "Epoch 45/50\n",
      "213/213 [==============================] - 98s 459ms/step - loss: 0.0379 - digit0_loss: 0.0042 - digit1_loss: 0.0090 - digit2_loss: 0.0115 - digit3_loss: 0.0088 - digit4_loss: 0.0044 - digit0_accuracy: 0.9960 - digit1_accuracy: 0.9926 - digit2_accuracy: 0.9911 - digit3_accuracy: 0.9927 - digit4_accuracy: 0.9959 - val_loss: 0.0552 - val_digit0_loss: 0.0080 - val_digit1_loss: 0.0122 - val_digit2_loss: 0.0127 - val_digit3_loss: 0.0135 - val_digit4_loss: 0.0087 - val_digit0_accuracy: 0.9879 - val_digit1_accuracy: 0.9849 - val_digit2_accuracy: 0.9849 - val_digit3_accuracy: 0.9830 - val_digit4_accuracy: 0.9905\n",
      "Epoch 46/50\n",
      "213/213 [==============================] - 97s 456ms/step - loss: 0.0381 - digit0_loss: 0.0042 - digit1_loss: 0.0086 - digit2_loss: 0.0111 - digit3_loss: 0.0096 - digit4_loss: 0.0045 - digit0_accuracy: 0.9961 - digit1_accuracy: 0.9931 - digit2_accuracy: 0.9918 - digit3_accuracy: 0.9910 - digit4_accuracy: 0.9957 - val_loss: 0.0511 - val_digit0_loss: 0.0066 - val_digit1_loss: 0.0116 - val_digit2_loss: 0.0125 - val_digit3_loss: 0.0126 - val_digit4_loss: 0.0078 - val_digit0_accuracy: 0.9898 - val_digit1_accuracy: 0.9846 - val_digit2_accuracy: 0.9836 - val_digit3_accuracy: 0.9853 - val_digit4_accuracy: 0.9898\n",
      "Epoch 47/50\n",
      "213/213 [==============================] - 93s 435ms/step - loss: 0.0355 - digit0_loss: 0.0039 - digit1_loss: 0.0085 - digit2_loss: 0.0102 - digit3_loss: 0.0083 - digit4_loss: 0.0046 - digit0_accuracy: 0.9959 - digit1_accuracy: 0.9930 - digit2_accuracy: 0.9923 - digit3_accuracy: 0.9930 - digit4_accuracy: 0.9961 - val_loss: 0.0526 - val_digit0_loss: 0.0069 - val_digit1_loss: 0.0124 - val_digit2_loss: 0.0135 - val_digit3_loss: 0.0123 - val_digit4_loss: 0.0076 - val_digit0_accuracy: 0.9905 - val_digit1_accuracy: 0.9836 - val_digit2_accuracy: 0.9849 - val_digit3_accuracy: 0.9846 - val_digit4_accuracy: 0.9905\n",
      "Epoch 48/50\n",
      "213/213 [==============================] - 99s 465ms/step - loss: 0.0356 - digit0_loss: 0.0039 - digit1_loss: 0.0082 - digit2_loss: 0.0107 - digit3_loss: 0.0084 - digit4_loss: 0.0043 - digit0_accuracy: 0.9967 - digit1_accuracy: 0.9929 - digit2_accuracy: 0.9932 - digit3_accuracy: 0.9936 - digit4_accuracy: 0.9957 - val_loss: 0.0527 - val_digit0_loss: 0.0076 - val_digit1_loss: 0.0123 - val_digit2_loss: 0.0123 - val_digit3_loss: 0.0132 - val_digit4_loss: 0.0073 - val_digit0_accuracy: 0.9898 - val_digit1_accuracy: 0.9836 - val_digit2_accuracy: 0.9846 - val_digit3_accuracy: 0.9833 - val_digit4_accuracy: 0.9902\n",
      "Epoch 49/50\n",
      "213/213 [==============================] - 92s 432ms/step - loss: 0.0347 - digit0_loss: 0.0037 - digit1_loss: 0.0079 - digit2_loss: 0.0100 - digit3_loss: 0.0088 - digit4_loss: 0.0044 - digit0_accuracy: 0.9969 - digit1_accuracy: 0.9937 - digit2_accuracy: 0.9929 - digit3_accuracy: 0.9934 - digit4_accuracy: 0.9960 - val_loss: 0.0558 - val_digit0_loss: 0.0075 - val_digit1_loss: 0.0125 - val_digit2_loss: 0.0143 - val_digit3_loss: 0.0128 - val_digit4_loss: 0.0086 - val_digit0_accuracy: 0.9898 - val_digit1_accuracy: 0.9846 - val_digit2_accuracy: 0.9826 - val_digit3_accuracy: 0.9843 - val_digit4_accuracy: 0.9902\n",
      "Epoch 50/50\n",
      "213/213 [==============================] - 89s 420ms/step - loss: 0.0344 - digit0_loss: 0.0038 - digit1_loss: 0.0079 - digit2_loss: 0.0102 - digit3_loss: 0.0085 - digit4_loss: 0.0039 - digit0_accuracy: 0.9966 - digit1_accuracy: 0.9936 - digit2_accuracy: 0.9929 - digit3_accuracy: 0.9928 - digit4_accuracy: 0.9966 - val_loss: 0.0502 - val_digit0_loss: 0.0068 - val_digit1_loss: 0.0110 - val_digit2_loss: 0.0127 - val_digit3_loss: 0.0119 - val_digit4_loss: 0.0077 - val_digit0_accuracy: 0.9918 - val_digit1_accuracy: 0.9849 - val_digit2_accuracy: 0.9816 - val_digit3_accuracy: 0.9859 - val_digit4_accuracy: 0.9908\n"
     ]
    }
   ],
   "source": [
    "history = model.fit(x_train, s_train,\n",
    "                    batch_size=BATCH_SIZE,\n",
    "                    epochs=EPOCHS,\n",
    "                    verbose=1,\n",
    "                    validation_data=(x_test, s_test)\n",
    "                   )"
   ]
  },
  {
   "cell_type": "code",
   "execution_count": 18,
   "metadata": {
    "colab": {},
    "colab_type": "code",
    "id": "PK5FjnNp63eL"
   },
   "outputs": [],
   "source": [
    "digit_acc = [[] for _ in range(NUM_OF_LETTERS)]\n",
    "val_digit_acc = [[] for _ in range(NUM_OF_LETTERS)]\n",
    "loss = []\n",
    "val_loss = []\n",
    "\n",
    "\n",
    "def plot_diagram(digit_acc_now, val_digit_acc_now, loss_now, val_loss_now):\n",
    "    global digit_acc, val_digit_acc, loss, val_loss\n",
    "    \n",
    "    for i in range(NUM_OF_LETTERS):\n",
    "        digit_acc[i].extend(digit_acc_now[i])\n",
    "        val_digit_acc[i].extend(val_digit_acc_now[i])\n",
    "    loss.extend(loss_now)\n",
    "    val_loss.extend(val_loss_now)\n",
    "    \n",
    "    for i in range(NUM_OF_LETTERS):\n",
    "        s = {0:'First', 1:'Second', 2:'Third', 3:'Fourth', 4:'Fifth'}[i]\n",
    "        # plt.plot(val_digit_acc[i], label='%s Digit Train' % s)\n",
    "        plt.plot(digit_acc[i], label='%s Digit Test' % s)\n",
    "\n",
    "    plt.title('Model accuracy')\n",
    "    plt.ylabel('Accuracy')\n",
    "    plt.xlabel('Epoch')\n",
    "    plt.legend()\n",
    "    plt.show()\n",
    "\n",
    "    for i in range(NUM_OF_LETTERS):\n",
    "        s = {0:'First', 1:'Second', 2:'Third', 3:'Fourth', 4:'Fifth'}[i]\n",
    "        plt.plot(val_digit_acc[i], label='%s Digit Train' % s)\n",
    "        # plt.plot(digit_acc[i], label='%s Digit Test' % s)\n",
    "\n",
    "    plt.title('Model accuracy')\n",
    "    plt.ylabel('Accuracy')\n",
    "    plt.xlabel('Epoch')\n",
    "    plt.legend()\n",
    "    plt.show()\n",
    "\n",
    "\n",
    "\n",
    "    # Plot training & validation loss values\n",
    "    plt.plot(val_loss, label='Train')\n",
    "    plt.plot(loss, label='Test')\n",
    "    plt.title('Model loss')\n",
    "    plt.ylabel('Loss')\n",
    "    plt.xlabel('Epoch')\n",
    "    plt.legend()\n",
    "    plt.show()"
   ]
  },
  {
   "cell_type": "code",
   "execution_count": 19,
   "metadata": {
    "colab": {
     "base_uri": "https://localhost:8080/",
     "height": 851
    },
    "colab_type": "code",
    "id": "gmz3c1Ve8xG1",
    "outputId": "b480f317-e5d7-4c9e-b2b6-bf9a30bbe85b"
   },
   "outputs": [
    {
     "data": {
      "image/png": "[encoded data removed]",
      "text/plain": [
       "<Figure size 432x288 with 1 Axes>"
      ]
     },
     "metadata": {
      "needs_background": "light"
     },
     "output_type": "display_data"
    },
    {
     "data": {
      "image/png": "[encoded data removed]",
      "text/plain": [
       "<Figure size 432x288 with 1 Axes>"
      ]
     },
     "metadata": {
      "needs_background": "light"
     },
     "output_type": "display_data"
    },
    {
     "data": {
      "image/png": "[encoded data removed]",
      "text/plain": [
       "<Figure size 432x288 with 1 Axes>"
      ]
     },
     "metadata": {
      "needs_background": "light"
     },
     "output_type": "display_data"
    }
   ],
   "source": [
    "plot_diagram(\n",
    "    \n",
    "    [history.history['digit%d_accuracy' % i] for i in range(NUM_OF_LETTERS)],\n",
    "    [history.history['val_digit%d_accuracy' % i] for i in range(NUM_OF_LETTERS)],\n",
    "    history.history['loss'],\n",
    "    history.history['val_loss'],\n",
    ")"
   ]
  },
  {
   "cell_type": "code",
   "execution_count": 20,
   "metadata": {
    "colab": {
     "base_uri": "https://localhost:8080/",
     "height": 35
    },
    "colab_type": "code",
    "id": "MQIbUVBY6-SG",
    "outputId": "0596423a-7d03-46d0-b108-a0f126218d04"
   },
   "outputs": [
    {
     "name": "stdout",
     "output_type": "stream",
     "text": [
      "Saved trained model at /home/divya/Desktop/Project/saved_models/keras_cifar10_trained_model.h5 \n"
     ]
    }
   ],
   "source": [
    "# Save model and weights\n",
    "if not os.path.isdir(save_dir):\n",
    "    os.makedirs(save_dir)\n",
    "model_path = os.path.join(save_dir, model_name)\n",
    "model.save(model_path)\n",
    "print('Saved trained model at %s ' % model_path)"
   ]
  },
  {
   "cell_type": "code",
   "execution_count": 21,
   "metadata": {
    "colab": {
     "base_uri": "https://localhost:8080/",
     "height": 70
    },
    "colab_type": "code",
    "id": "x8cshRKD7Bak",
    "outputId": "75117368-9ece-4ef2-965d-d0f76781c72c"
   },
   "outputs": [
    {
     "name": "stdout",
     "output_type": "stream",
     "text": [
      "850/850 [==============================] - 21s 25ms/step - loss: 0.0029 - digit0_loss: 2.3934e-04 - digit1_loss: 6.4371e-04 - digit2_loss: 9.5531e-04 - digit3_loss: 7.1822e-04 - digit4_loss: 3.2198e-04 - digit0_accuracy: 0.9999 - digit1_accuracy: 0.9999 - digit2_accuracy: 0.9998 - digit3_accuracy: 0.9998 - digit4_accuracy: 0.9999\n",
      "Train loss:     0.001087\n",
      "Train accuracy: 99.93\n"
     ]
    }
   ],
   "source": [
    "# Score trained model.\n",
    "scores = model.evaluate(x_train, s_train, verbose=1)\n",
    "print('Train loss:     %f' % np.mean(scores[0:5]))\n",
    "acc = 1.\n",
    "for i in range(5):\n",
    "    acc *= scores[6+i]\n",
    "print('Train accuracy: %.2f' % (acc * 100.))"
   ]
  },
  {
   "cell_type": "code",
   "execution_count": 22,
   "metadata": {
    "colab": {
     "base_uri": "https://localhost:8080/",
     "height": 70
    },
    "colab_type": "code",
    "id": "yfQ_5Ago7EWh",
    "outputId": "dc90d08c-c0cb-4a7d-e498-85a0c9d9fbbf"
   },
   "outputs": [
    {
     "name": "stdout",
     "output_type": "stream",
     "text": [
      "96/96 [==============================] - 3s 27ms/step - loss: 0.0502 - digit0_loss: 0.0068 - digit1_loss: 0.0110 - digit2_loss: 0.0127 - digit3_loss: 0.0119 - digit4_loss: 0.0077 - digit0_accuracy: 0.9918 - digit1_accuracy: 0.9849 - digit2_accuracy: 0.9816 - digit3_accuracy: 0.9859 - digit4_accuracy: 0.9908\n",
      "Test loss:     0.018524\n",
      "Test accuracy: 93.67\n"
     ]
    }
   ],
   "source": [
    "scores = model.evaluate(x_test, s_test, verbose=1)\n",
    "print('Test loss:     %f' % np.mean(scores[0:5]))\n",
    "acc = 1.\n",
    "for i in range(5):\n",
    "    acc *= scores[6+i]\n",
    "print('Test accuracy: %.2f' % (acc * 100.))"
   ]
  },
  {
   "cell_type": "code",
   "execution_count": null,
   "metadata": {},
   "outputs": [],
   "source": []
  },
  {
   "cell_type": "code",
   "execution_count": null,
   "metadata": {},
   "outputs": [],
   "source": []
  },
  {
   "cell_type": "code",
   "execution_count": null,
   "metadata": {},
   "outputs": [],
   "source": []
  },
  {
   "cell_type": "code",
   "execution_count": null,
   "metadata": {},
   "outputs": [],
   "source": []
  },
  {
   "cell_type": "code",
   "execution_count": null,
   "metadata": {},
   "outputs": [],
   "source": []
  },
  {
   "cell_type": "code",
   "execution_count": null,
   "metadata": {},
   "outputs": [],
   "source": []
  },
  {
   "cell_type": "code",
   "execution_count": null,
   "metadata": {},
   "outputs": [],
   "source": []
  }
 ],
 "metadata": {
  "accelerator": "GPU",
  "colab": {
   "collapsed_sections": [],
   "name": "Captcha_Solver_numerical.ipynb",
   "provenance": []
  },
  "kernelspec": {
   "display_name": "Python 3",
   "language": "python",
   "name": "python3"
  },
  "language_info": {
   "codemirror_mode": {
    "name": "ipython",
    "version": 3
   },
   "file_extension": ".py",
   "mimetype": "text/x-python",
   "name": "python",
   "nbconvert_exporter": "python",
   "pygments_lexer": "ipython3",
   "version": "3.7.6"
  }
 },
 "nbformat": 4,
 "nbformat_minor": 1
}
